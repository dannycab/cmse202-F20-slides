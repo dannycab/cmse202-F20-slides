{
 "cells": [
  {
   "cell_type": "markdown",
   "metadata": {
    "slideshow": {
     "slide_type": "slide"
    }
   },
   "source": [
    "# Day 08 - Version control with `git`\n",
    "## Oct. 1, 2020\n",
    "\n",
    "<img src=\"./images/cmse.png\"\n",
    "     alt=\"CMSE logo\"\n",
    "     style=\"float: right; margin-left: 50px; width: 600px;\" />"
   ]
  },
  {
   "cell_type": "markdown",
   "metadata": {
    "slideshow": {
     "slide_type": "slide"
    }
   },
   "source": [
    "# From Pre-Class Assignment\n",
    "\n",
    "**The pre-class assignment was very long. We will take this into account when awarding credit.**\n",
    "\n",
    "\n",
    "## Challenging bits\n",
    "\n",
    "* Unable to have `git` work for me\n",
    "* So many commands to learn!\n",
    "* The pre-class didn't make me feel ready to use `git`\n",
    "\n",
    "**We will work on this over time, so we can all get better at it.**"
   ]
  },
  {
   "cell_type": "markdown",
   "metadata": {
    "slideshow": {
     "slide_type": "slide"
    }
   },
   "source": [
    "# Why use the `git`?\n",
    "\n",
    "## For yourself\n",
    "\n",
    "* git repositories provide a full history of everything you have done\n",
    "* with a good workflow, git repos can document a project every step of the way including problems, solutions, and todos\n",
    "* with github, you have remote copies of you work also!\n",
    "\n",
    "## On a team\n",
    "\n",
    "* people can work on different parts of a project at the same time\n",
    "* merging together those contributions is relatively simple\n",
    "* conflicts are explicitly raised to be dealt with\n",
    "\n",
    "## `git `is the standard version control system for data science work"
   ]
  },
  {
   "cell_type": "markdown",
   "metadata": {
    "slideshow": {
     "slide_type": "slide"
    }
   },
   "source": [
    "# Using `git`\n",
    "\n",
    "<img src=\"https://hackernoon.com/hn-images/1*9qX9F9MGsWKfcmgTOR9BPw.png\"/>"
   ]
  },
  {
   "cell_type": "markdown",
   "metadata": {
    "slideshow": {
     "slide_type": "slide"
    }
   },
   "source": [
    "# Common `git` commands\n",
    "\n",
    "## Getting started\n",
    "\n",
    "* `git init` - Initalize a new `git` repo on your local machine; **used only once** to tell your OS this directory is going to be a `git` repo. Creates a `.git` directory for that purpose.\n",
    "* `git clone <URL>` - Clone an existing repo located at `<URL>`; **used only once** to download the repository including the files of the most recent commit and the history prior to that commit."
   ]
  },
  {
   "cell_type": "markdown",
   "metadata": {
    "slideshow": {
     "slide_type": "slide"
    }
   },
   "source": [
    "# Common `git` commands\n",
    "\n",
    "## Working with a repo\n",
    "\n",
    "* `git add <FILE>` - Adds file to a new commit; only puts the file into a staging area for commit.\n",
    "* `git add -a` - the `-a` flag adds all changed files to a new commit; it's faster, but **be careful with this**\n",
    "* `git commit -m \"MESSAGE\"` - commits your file to your local repo; this makes no changes to the remote repo (e.g., on github). The `MESSAGE` should be informative about your changes.\n",
    "* `git push` - Pushes your changes to the remote repository so everyone else can see them.\n",
    "* `git pull` - Pulls changes from the remote repository to your repo and local machine."
   ]
  },
  {
   "cell_type": "markdown",
   "metadata": {
    "slideshow": {
     "slide_type": "slide"
    }
   },
   "source": [
    "# Common `git` commands\n",
    "\n",
    "## Seeing what is happening\n",
    "\n",
    "* `git status` - Tells you what changes to files have happened, if they have beens staged for commit, or if they need to be added.\n",
    "* `git log` - Tells you about the history of the repository"
   ]
  },
  {
   "cell_type": "markdown",
   "metadata": {
    "slideshow": {
     "slide_type": "slide"
    }
   },
   "source": [
    "# I'd be more comfortable with a GUI\n",
    "\n",
    "[GitHub Desktop](https://desktop.github.com/) is available for free. It's built for `github.com` and it has all the commands you use in the CLI.\n",
    "\n",
    "<img src=\"https://desktop.github.com/images/github-desktop-screenshot-mac.png\" height=\"300\"/>"
   ]
  },
  {
   "cell_type": "markdown",
   "metadata": {
    "slideshow": {
     "slide_type": "slide"
    }
   },
   "source": [
    "# Questions, Comments, Concerns?"
   ]
  },
  {
   "cell_type": "code",
   "execution_count": null,
   "metadata": {
    "slideshow": {
     "slide_type": "skip"
    }
   },
   "outputs": [],
   "source": []
  }
 ],
 "metadata": {
  "celltoolbar": "Slideshow",
  "kernelspec": {
   "display_name": "Python 3 CMSE",
   "language": "python",
   "name": "python3cmse"
  },
  "language_info": {
   "codemirror_mode": {
    "name": "ipython",
    "version": 3
   },
   "file_extension": ".py",
   "mimetype": "text/x-python",
   "name": "python",
   "nbconvert_exporter": "python",
   "pygments_lexer": "ipython3",
   "version": "3.7.9"
  }
 },
 "nbformat": 4,
 "nbformat_minor": 4
}
