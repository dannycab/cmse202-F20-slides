{
 "cells": [
  {
   "cell_type": "markdown",
   "metadata": {
    "slideshow": {
     "slide_type": "slide"
    }
   },
   "source": [
    "# Day 12.5 - Check-in\n",
    "## Oct. 22, 2020\n",
    "\n",
    "<img src=\"./images/cmse.png\"\n",
    "     alt=\"CMSE logo\"\n",
    "     style=\"float: right; margin-left: 50px; width: 600px;\" />"
   ]
  },
  {
   "cell_type": "markdown",
   "metadata": {
    "slideshow": {
     "slide_type": "slide"
    }
   },
   "source": [
    "# Administrative\n",
    "\n",
    "* **Midterm** will be given Thursday 10/29 in class\n",
    "    * Study Guide posted on D2L\n",
    "    * Today: Review Discussion (we will compile topics and concerns together)\n",
    "    * Tuesday: Activities meant to address your concerns and issues in preparation for midterm"
   ]
  },
  {
   "cell_type": "markdown",
   "metadata": {
    "slideshow": {
     "slide_type": "slide"
    }
   },
   "source": [
    "# November 3rd is election day\n",
    "* It is very important for you to vote. We know for some of you it will be your first election.\n",
    "    * **Michigan has same day voter registration!**\n",
    "* Complete your absentee ballot and use the local ballot drop.\n",
    "* Want to vote in person? \n",
    "    * Find your polling station online: [vote411.org](https://www.vote411.org/)\n",
    "* Make sure to vote on state-wide proposals\n",
    "    * Proposals 1 and 2\n",
    "* Make sure to vote in down ballot races!\n",
    "    * State, Coounty, City, School District, etc.\n",
    "* Questions about candidates or proposals?\n",
    "    * Check [Ballotpedia](https://ballotpedia.org/Michigan_elections,_2020) or your local paper website (e.g., [Lansing State Journal](https://www.lansingstatejournal.com/))\n",
    "\n",
    "## We will excuse you from class on Nov. 3rd if you are going to vote in person. \n",
    " * **Email Danny, please.**"
   ]
  },
  {
   "cell_type": "markdown",
   "metadata": {
    "slideshow": {
     "slide_type": "slide"
    }
   },
   "source": [
    "# Sec 003 Midterm\n",
    "\n",
    "## Classification Problem\n",
    "\n",
    "**In this midterm you will be asked to:**\n",
    "\n",
    "* Read in a data set and describe different properties of it (counts, means, etc.)\n",
    "* Investigate the data for less relevant features and drop them\n",
    "* Visualize feature spaces and discuss the plots\n",
    "* Build a classification model using the train/test paradigm\n",
    "* Evaluate and discuss the fit of model using testing data\n",
    "\n",
    "Nearly everything we have done so far is important for your success on the midterm. But we are focused on classification and modeling with the train/test split on the midterm.\n",
    "\n",
    "**Assignments to definitely study: Day-09, Day-10, Day 11, and Day 11.5**"
   ]
  },
  {
   "cell_type": "markdown",
   "metadata": {
    "slideshow": {
     "slide_type": "slide"
    }
   },
   "source": [
    "# MidSemester Check-in\n",
    "\n",
    "1. What are strategies that you are using to organize yourself this semester?\n",
    "2. What are strategies that you are using to de-stress, relax, take time away from school, etc. ?\n",
    "3. What are some more organized things you might do with classmates to de-stress, relax, etc?\n",
    "4. What are some things you are concerned about this semester that Danny can raise up to CMSE, NatSci, or EGR?\n",
    "5. What are some things you think we can do in CMSE 202 to help you be more successful, deal with your stress/anxiety, or otherwise make things better for you?\n",
    "6. What other things do you want to communicate to the teaching team?\n",
    "\n",
    "[Link to Google Document](https://docs.google.com/document/d/1iEg5AbdMMAmfAcozfM-lj_aqx8OLVTgPQ0ZfAlvgyJc/edit#)"
   ]
  },
  {
   "cell_type": "markdown",
   "metadata": {
    "slideshow": {
     "slide_type": "slide"
    }
   },
   "source": [
    "# MidTerm Review\n",
    "\n",
    "\n",
    "1. What topics do you have questions about, feel less comfortable with, or really feel like you need more practice with?\n",
    "2. What concepts have been hard to understand, or haven’t really been discussed/covered in a way that you feel comfortable with them? Why have they been harder to understand?\n",
    "3. What kinds of computational tasks are you wanting more practice with before the midterm? Why those tasks?\n",
    "4. What assignments do you feel could have gone better for you? And why? (being specific about the days and sections will help us focus our energy for the review). \n",
    "5. What other things are you concerned about regarding the midterm?\n",
    "\n",
    "[Link to Google Document](https://docs.google.com/document/d/1aKyj13r_2P4BKTo8PNFdFR_i66rW2tzwjuQ6leTM8lE/edit#)"
   ]
  },
  {
   "cell_type": "markdown",
   "metadata": {
    "slideshow": {
     "slide_type": "slide"
    }
   },
   "source": [
    "# Questions, Comments, Concerns?"
   ]
  },
  {
   "cell_type": "code",
   "execution_count": null,
   "metadata": {
    "slideshow": {
     "slide_type": "skip"
    }
   },
   "outputs": [],
   "source": []
  }
 ],
 "metadata": {
  "celltoolbar": "Slideshow",
  "kernelspec": {
   "display_name": "Python 3 CMSE",
   "language": "python",
   "name": "python3cmse"
  },
  "language_info": {
   "codemirror_mode": {
    "name": "ipython",
    "version": 3
   },
   "file_extension": ".py",
   "mimetype": "text/x-python",
   "name": "python",
   "nbconvert_exporter": "python",
   "pygments_lexer": "ipython3",
   "version": "3.7.9"
  }
 },
 "nbformat": 4,
 "nbformat_minor": 4
}
