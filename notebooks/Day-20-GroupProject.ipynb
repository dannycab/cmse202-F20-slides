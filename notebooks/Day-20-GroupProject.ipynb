{
 "cells": [
  {
   "cell_type": "markdown",
   "metadata": {
    "slideshow": {
     "slide_type": "slide"
    }
   },
   "source": [
    "# Day 20 Group Project Work Day\n",
    "## Nov. 24, 2020\n",
    "\n",
    "<img src=\"./images/cmse.png\"\n",
    "     alt=\"CMSE logo\"\n",
    "     style=\"float: right; margin-left: 50px; width: 600px;\" />"
   ]
  },
  {
   "cell_type": "markdown",
   "metadata": {
    "slideshow": {
     "slide_type": "slide"
    }
   },
   "source": [
    "# Announcements\n",
    "\n",
    "* **Homework 5** Working with Tensorflow. Due 12/4. This is the last homework assignment!\n",
    "* **Projects** Rubric posted to D2L.\n",
    "    * Due finals week\n",
    "    * 8-10 minute video presentation + documented notebook on your analysis\n",
    "    * 3 In-class work periods for the project"
   ]
  },
  {
   "cell_type": "markdown",
   "metadata": {
    "slideshow": {
     "slide_type": "slide"
    }
   },
   "source": [
    "# Calendar\n",
    "\n",
    "\n",
    "## This week\n",
    "* Tuesday 11/24: Project work day 1\n",
    "* Thursday 11/26: No class\n",
    "\n",
    "## Next Week\n",
    "* Tuesday 12/1: Day 20 Neural Networks 1\n",
    "* Thursday 12/3: Day 21 Neural Networks 2\n",
    "\n",
    "## Last week of classes\n",
    "* Tuesday 12/8: Project work day 2\n",
    "* Thursday 12/10: Project work day 3"
   ]
  },
  {
   "cell_type": "markdown",
   "metadata": {
    "slideshow": {
     "slide_type": "slide"
    }
   },
   "source": [
    "# Today's Class\n",
    "\n",
    "* We will put you in your project groups\n",
    "* Today's in-class notebook is an update for us on your progress\n",
    "* We will drop in to discuss your project with you\n",
    "* **On-track goal:** decide on data, import it, think about potential models, start cleaning"
   ]
  },
  {
   "cell_type": "markdown",
   "metadata": {
    "slideshow": {
     "slide_type": "slide"
    }
   },
   "source": [
    "# Questions, Comments, Concerns?"
   ]
  },
  {
   "cell_type": "code",
   "execution_count": null,
   "metadata": {
    "slideshow": {
     "slide_type": "skip"
    }
   },
   "outputs": [],
   "source": []
  }
 ],
 "metadata": {
  "celltoolbar": "Slideshow",
  "kernelspec": {
   "display_name": "Python 3 CMSE",
   "language": "python",
   "name": "python3cmse"
  },
  "language_info": {
   "codemirror_mode": {
    "name": "ipython",
    "version": 3
   },
   "file_extension": ".py",
   "mimetype": "text/x-python",
   "name": "python",
   "nbconvert_exporter": "python",
   "pygments_lexer": "ipython3",
   "version": "3.7.9"
  }
 },
 "nbformat": 4,
 "nbformat_minor": 4
}
