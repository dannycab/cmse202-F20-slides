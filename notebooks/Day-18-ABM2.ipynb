{
 "cells": [
  {
   "cell_type": "markdown",
   "metadata": {
    "slideshow": {
     "slide_type": "slide"
    }
   },
   "source": [
    "# Day 18 Agent-Based Models - Superbugs 2\n",
    "## Nov. 17, 2020\n",
    "\n",
    "<img src=\"./images/cmse.png\"\n",
    "     alt=\"CMSE logo\"\n",
    "     style=\"float: right; margin-left: 50px; width: 600px;\" />"
   ]
  },
  {
   "cell_type": "markdown",
   "metadata": {
    "slideshow": {
     "slide_type": "slide"
    }
   },
   "source": [
    "# Announcements\n",
    "\n",
    "* **Homework 5** Coming soon. Working with Tensorflow. Will be due 12/4.\n",
    "* **Projects** Rubric nearly complete and will be posted this week.\n",
    "    * Due finals week\n",
    "    * 8-10 minute video presentation + documented notebook on your analysis\n",
    "    * 3 In-class work periods for the project"
   ]
  },
  {
   "cell_type": "markdown",
   "metadata": {
    "slideshow": {
     "slide_type": "slide"
    }
   },
   "source": [
    "# Calendar\n",
    "\n",
    "## This week\n",
    "\n",
    "* Today: Day 18 Agent Based Models\n",
    "* Thursday: Day 19 Perceptron model\n",
    "\n",
    "## Thanksgiving week\n",
    "* Tuesday 11/24: Project work day 1\n",
    "* Thursday 11/26: No class\n",
    "\n",
    "## Week after Thanksgiving\n",
    "* Tuesday 12/1: Day 20 Neural Networks 1\n",
    "* Thursday 12/3: Day 21 Neural Networks 2\n",
    "\n",
    "## Last week of classes\n",
    "* Tuesday 12/8: Project work day 2\n",
    "* Thursday 12/10: Project work day 3"
   ]
  },
  {
   "cell_type": "markdown",
   "metadata": {
    "slideshow": {
     "slide_type": "slide"
    }
   },
   "source": [
    "# Today\n",
    "\n",
    "* You will be given working code for the superbugs program\n",
    "    * You will need to investigate how it works and how to implement it\n",
    "* You will come up with scientific questions to investigate with the program\n",
    "    * Your group will present your scientific question and results at the end of class\n",
    "\n",
    "**You will have to animate a graph.**"
   ]
  },
  {
   "cell_type": "markdown",
   "metadata": {
    "slideshow": {
     "slide_type": "slide"
    }
   },
   "source": [
    "# Animating a graph\n",
    "\n",
    "* There are many ways to do this, but we can use `IPython.display` to produce and clear output.\n",
    "\n",
    "We will need to import:\n",
    "\n",
    "* `from IPython.display import display, clear_output`\n",
    "\n",
    "* `import matplotlib.pylab as plt`"
   ]
  },
  {
   "cell_type": "code",
   "execution_count": 12,
   "metadata": {
    "slideshow": {
     "slide_type": "slide"
    }
   },
   "outputs": [
    {
     "data": {
      "text/plain": [
       "[<matplotlib.lines.Line2D at 0x7f9f10f776d0>]"
      ]
     },
     "execution_count": 12,
     "metadata": {},
     "output_type": "execute_result"
    },
    {
     "data": {
      "image/png": "[encoded data removed]",
      "text/plain": [
       "<Figure size 360x360 with 1 Axes>"
      ]
     },
     "metadata": {
      "needs_background": "light"
     },
     "output_type": "display_data"
    }
   ],
   "source": [
    "from IPython.display import display, clear_output\n",
    "import matplotlib.pylab as plt\n",
    "import numpy as np\n",
    "\n",
    "fig, ax = plt.subplots(figsize=(5,5))\n",
    "\n",
    "x = np.arange(10)\n",
    "y = x**2\n",
    "\n",
    "plt.plot(x,y,'*')"
   ]
  },
  {
   "cell_type": "code",
   "execution_count": 19,
   "metadata": {
    "slideshow": {
     "slide_type": "slide"
    }
   },
   "outputs": [
    {
     "data": {
      "image/png": "[encoded data removed]",
      "text/plain": [
       "<Figure size 360x360 with 1 Axes>"
      ]
     },
     "metadata": {},
     "output_type": "display_data"
    },
    {
     "data": {
      "text/plain": [
       "<Figure size 360x360 with 0 Axes>"
      ]
     },
     "metadata": {},
     "output_type": "display_data"
    }
   ],
   "source": [
    "from IPython.display import display, clear_output\n",
    "import matplotlib.pylab as plt\n",
    "import numpy as np\n",
    "\n",
    "fig, ax = plt.subplots(figsize=(5,5))\n",
    "\n",
    "#### SUPER BUGS ####\n",
    "x_list=[]\n",
    "y_list=[]\n",
    "\n",
    "for x in np.arange(9):\n",
    "    \n",
    "    x_list.append(x)\n",
    "    y_list.append(x**2)\n",
    "    \n",
    "    plt.plot(x_list, y_list, '*')\n",
    "    plt.axis([0, 9, 0, 81])\n",
    "#### SUPER BUGS ####\n",
    "\n",
    "    ## Stay the same\n",
    "    clear_output(wait=True) # clears display\n",
    "    display(fig) # resets display\n",
    "    fig.clear() # stops overlapping"
   ]
  },
  {
   "cell_type": "markdown",
   "metadata": {
    "slideshow": {
     "slide_type": "slide"
    }
   },
   "source": [
    "# Questions, Comments, Concerns?"
   ]
  },
  {
   "cell_type": "code",
   "execution_count": null,
   "metadata": {
    "slideshow": {
     "slide_type": "skip"
    }
   },
   "outputs": [],
   "source": []
  }
 ],
 "metadata": {
  "celltoolbar": "Slideshow",
  "kernelspec": {
   "display_name": "Python 3 CMSE",
   "language": "python",
   "name": "python3cmse"
  },
  "language_info": {
   "codemirror_mode": {
    "name": "ipython",
    "version": 3
   },
   "file_extension": ".py",
   "mimetype": "text/x-python",
   "name": "python",
   "nbconvert_exporter": "python",
   "pygments_lexer": "ipython3",
   "version": "3.7.9"
  }
 },
 "nbformat": 4,
 "nbformat_minor": 4
}
