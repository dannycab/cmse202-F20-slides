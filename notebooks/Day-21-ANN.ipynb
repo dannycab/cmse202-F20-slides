{
 "cells": [
  {
   "cell_type": "markdown",
   "metadata": {
    "slideshow": {
     "slide_type": "slide"
    }
   },
   "source": [
    "# Day 21 Artificial Neural Networks\n",
    "## Dec 1, 2020\n",
    "\n",
    "<img src=\"./images/cmse.png\"\n",
    "     alt=\"CMSE logo\"\n",
    "     style=\"float: right; margin-left: 50px; width: 600px;\" />"
   ]
  },
  {
   "cell_type": "markdown",
   "metadata": {
    "slideshow": {
     "slide_type": "slide"
    }
   },
   "source": [
    "# Announcements\n",
    "\n",
    "* **Homework 5** Working with Tensorflow. Due this Friday. This is the last homework assignment!\n",
    "    * Having trouble installing tensorflow? Use Google Colab (just upload your notebook).\n",
    "* **Projects** Rubric posted to D2L.\n",
    "    * Due Dec 14th; Review 3 projects by Dec 16th\n",
    "    * 8-10 minute video presentation + documented notebook on your analysis\n",
    "    * 3 In-class work periods for the project"
   ]
  },
  {
   "cell_type": "markdown",
   "metadata": {
    "slideshow": {
     "slide_type": "slide"
    }
   },
   "source": [
    "# Calendar\n",
    "\n",
    "\n",
    "## This week\n",
    "* Tuesday 12/1: Day 20 Neural Networks 1; Project work day 2\n",
    "* Thursday 12/3: Day 21 Neural Networks 2\n",
    "\n",
    "## Last week of classes\n",
    "* Tuesday 12/8: Project work day 3\n",
    "* Thursday 12/10: Project work day 4"
   ]
  },
  {
   "cell_type": "markdown",
   "metadata": {
    "slideshow": {
     "slide_type": "slide"
    }
   },
   "source": [
    "# Artificial Neural Networks\n",
    "\n",
    "<img src=\"https://upload.wikimedia.org/wikipedia/commons/thumb/4/46/Colored_neural_network.svg/500px-Colored_neural_network.svg.png\" />"
   ]
  },
  {
   "cell_type": "markdown",
   "metadata": {
    "slideshow": {
     "slide_type": "slide"
    }
   },
   "source": [
    "# Forward propagation (the basics)\n",
    "\n",
    "1. Prepare the network\n",
    "2. Prepare the weight matrices\n",
    "3. Determine the activity of the hidden layer\n",
    "4. Apply the activity function to the hidden layer activities\n",
    "5. Determine the activity of the output layer\n",
    "6. Apply the activity function to the output layer activities\n",
    "7. Compare predictions to normalized values"
   ]
  },
  {
   "cell_type": "markdown",
   "metadata": {
    "slideshow": {
     "slide_type": "slide"
    }
   },
   "source": [
    "## All work this relies on 'dot' products\n",
    "\n",
    "We can only multiply matrices together where the columns of the first matrix is the same size of the row of the second project. You get a matrix of size rows of column matrix by columns of the second matrix.\n",
    "\n",
    "For example, multiplying a M by N martix by a N by P matrix gives a M by P matrix.\n",
    "\n",
    "The most common 'dot' product you are likely to see is a 1 by N multiplied by an N by 1, which gives a 1 by 1 matrix: a scalar.\n",
    "\n",
    "$$a \\cdot b = [3 2 1] \\cdot \\begin{bmatrix}\n",
    "           1 \\\\\n",
    "           4 \\\\\n",
    "           2\n",
    "         \\end{bmatrix} = (3)(1) + (2)(4) + (1)(2) = 3+8+2 = 13$$"
   ]
  },
  {
   "cell_type": "markdown",
   "metadata": {
    "slideshow": {
     "slide_type": "slide"
    }
   },
   "source": [
    "## Prepare the network\n",
    "* Store the input data and the output data\n",
    "* Normalize (standardize) those data\n",
    "* Decide on network properties\n",
    "    * Input layers: how many features do you have?\n",
    "    * Output layers: what are you predicting?\n",
    "    * Hidden layers: You choose"
   ]
  },
  {
   "cell_type": "code",
   "execution_count": 2,
   "metadata": {
    "slideshow": {
     "slide_type": "slide"
    }
   },
   "outputs": [
    {
     "name": "stdout",
     "output_type": "stream",
     "text": [
      "X_norm =\n",
      "[[0.3 0.5]\n",
      " [0.5 0.1]\n",
      " [1.  0.2]]\n",
      "y_norm =\n",
      "[[0.75]\n",
      " [0.83]\n",
      " [0.93]]\n",
      "(3, 2)\n",
      "(3, 1)\n"
     ]
    }
   ],
   "source": [
    "%matplotlib inline\n",
    "import matplotlib.pyplot as plt\n",
    "import numpy as np\n",
    "\n",
    "# input data (hours of sleep, hours of study)\n",
    "X = np.array([[3,5], [5,1], [10,2]])\n",
    "\n",
    "# normalized X\n",
    "X_norm = X / np.max(X)\n",
    "print(\"X_norm =\")\n",
    "print(X_norm)\n",
    "\n",
    "# output data (test score)\n",
    "y = np.array([[75], [83], [93]])\n",
    "\n",
    "# normalized y\n",
    "y_norm = y/100\n",
    "print(\"y_norm =\")\n",
    "print(y_norm)\n",
    "\n",
    "# Neural Network properties\n",
    "inputLayerSize = 2\n",
    "outputLayerSize = 1\n",
    "hiddenLayerSize = 3\n",
    "\n",
    "print(X_norm.shape)\n",
    "print(y_norm.shape)"
   ]
  },
  {
   "cell_type": "markdown",
   "metadata": {
    "slideshow": {
     "slide_type": "slide"
    }
   },
   "source": [
    "## Prepare the weight matrices\n",
    "\n",
    "For our case, we are using one hidden layer, so we have two \"simple\" weight matrices.\n",
    "\n",
    "* **W1** is the matrix of weights connecting inputs to the hidden layer, so it must be input layers (2) by hidden layers (3) in size (i.e, 2 by 3)\n",
    "* **W2** is the matrix of weights connecting hidden layer to the output layer, so it must be hidden layers (3) by output layers (1) in size (i.e, 3 by 1)\n",
    "\n",
    "**For this example, we simply use random numbers drawn from a Gaussian (normal) distribution.**"
   ]
  },
  {
   "cell_type": "code",
   "execution_count": 3,
   "metadata": {
    "slideshow": {
     "slide_type": "slide"
    }
   },
   "outputs": [
    {
     "name": "stdout",
     "output_type": "stream",
     "text": [
      "W1\n",
      "---\n",
      "[[ 0.77318236 -0.8790112  -2.43486401]\n",
      " [ 1.6126631  -2.24382628  0.85529834]]\n",
      "shape: (2, 3)\n",
      "\n",
      "\n",
      "W2\n",
      "---\n",
      "[[ 1.58046393]\n",
      " [ 0.55830599]\n",
      " [-0.22941993]]\n",
      "shape: (3, 1)\n"
     ]
    }
   ],
   "source": [
    "# Define synapse weights\n",
    "W1 = np.random.randn(inputLayerSize, hiddenLayerSize)\n",
    "W2 = np.random.randn(hiddenLayerSize, outputLayerSize)\n",
    "print(\"W1\\n---\")\n",
    "print(W1)\n",
    "print('shape:', W1.shape)\n",
    "print('\\n')\n",
    "print(\"W2\\n---\")\n",
    "print(W2)\n",
    "print('shape:', W2.shape)"
   ]
  },
  {
   "cell_type": "markdown",
   "metadata": {
    "slideshow": {
     "slide_type": "slide"
    }
   },
   "source": [
    "## Determine the activity of the hidden layer\n",
    "\n",
    "To compute the activity of each neuron in hidden layer ($Z^{(2)}$), we take the the product of the data ($X$) with the weight matrix that connects the input layer to the hidden layer ($W^{(1)}$),\n",
    "\n",
    "$$X \\cdot W^{(1)} = Z^{(2)}$$\n",
    "\n",
    "In our example $X$ is 3 by 2 and $W^{(1)}$ is 2 by 3, so the resulting product, $Z^{(2)}$ is 3 by 3."
   ]
  },
  {
   "cell_type": "code",
   "execution_count": 5,
   "metadata": {
    "slideshow": {
     "slide_type": "slide"
    }
   },
   "outputs": [
    {
     "name": "stdout",
     "output_type": "stream",
     "text": [
      "Z2 =\n",
      "[[ 1.03828626 -1.3856165  -0.30281003]\n",
      " [ 0.54785749 -0.66388823 -1.13190217]\n",
      " [ 1.09571498 -1.32777645 -2.26380434]]\n",
      "(3, 3)\n"
     ]
    }
   ],
   "source": [
    "# Apply the first weights to inputs to get hidden layer activity\n",
    "Z2 = np.dot(X_norm, W1)\n",
    "print(\"Z2 =\")\n",
    "print(Z2)\n",
    "print(Z2.shape)"
   ]
  },
  {
   "cell_type": "markdown",
   "metadata": {
    "slideshow": {
     "slide_type": "slide"
    }
   },
   "source": [
    "## Apply the activation function to the activity\n",
    "\n",
    "Now that we have the activity, we need to apply our activation function to see if the neuron \"fires.\" We choose a sigmoid (like logisitic regression) for the activation function (we are free to choose a variety of possible activations).\n",
    "\n",
    "* We first create a sigmoid function $f(z) = \\dfrac{1}{1+e^{-z}}$\n",
    "* Then, we compute $a^{(2)}$, which is the result of passing the activity values through the activation function\n",
    "\n",
    "$$a^{(2)} = f(z^{(2)})$$\n",
    "\n",
    "Where $f$ is the activation function of our choosing. We should get back a 3 by 3 matrix in this example."
   ]
  },
  {
   "cell_type": "code",
   "execution_count": 6,
   "metadata": {
    "slideshow": {
     "slide_type": "slide"
    }
   },
   "outputs": [
    {
     "name": "stdout",
     "output_type": "stream",
     "text": [
      "a2 =\n",
      "[[0.7385192  0.20010848 0.42487069]\n",
      " [0.63363837 0.33986672 0.24381023]\n",
      " [0.74945636 0.2095274  0.09416536]]\n",
      "(3, 3)\n"
     ]
    }
   ],
   "source": [
    "# Define our activation function\n",
    "def sigmoid(z):\n",
    "    #Apply sigmoid activation function to scalar, vector, or matrix\n",
    "    return 1/(1+np.exp(-z))\n",
    "\n",
    "# Apply the activation function to our activity levels\n",
    "a2 = sigmoid(Z2)\n",
    "print(\"a2 =\")\n",
    "print(a2)\n",
    "print(a2.shape)"
   ]
  },
  {
   "cell_type": "markdown",
   "metadata": {
    "slideshow": {
     "slide_type": "slide"
    }
   },
   "source": [
    "## Determine the activity of the output layer\n",
    "\n",
    "Now we use the weights that connect the hidden layer to the output layer ($W^{(2)}$) to determine the activity of the output layer ($z^{(3)}$). We do that by taking the product of $a^{(2)}$ and the weights.\n",
    "\n",
    "$$z^{(3)} = a^{(2)} \\cdot W^{(2)}$$\n",
    "\n",
    "In this example $a^{(2)}$ is 3 by 3 and $W^{(2)}$ is 3 by 1, the resulting activity, $z^{(3)}$, is 3 by 1."
   ]
  },
  {
   "cell_type": "code",
   "execution_count": 9,
   "metadata": {
    "slideshow": {
     "slide_type": "slide"
    }
   },
   "outputs": [
    {
     "name": "stdout",
     "output_type": "stream",
     "text": [
      "Z3 =\n",
      "[[1.18145092]\n",
      " [1.13525728]\n",
      " [1.27986574]]\n",
      "shape:  (3, 1)\n"
     ]
    }
   ],
   "source": [
    "# Apply the second weights to the hidden layer\n",
    "Z3 = np.dot(a2, W2)\n",
    "print(\"Z3 =\")\n",
    "print(Z3)\n",
    "print('shape: ', Z3.shape)"
   ]
  },
  {
   "cell_type": "markdown",
   "metadata": {
    "slideshow": {
     "slide_type": "slide"
    }
   },
   "source": [
    "## Apply the activation function to the output layer activity\n",
    "\n",
    "Now that we have the output layer activity, we need to again apply our activation function to see if the neuron \"fires.\" \n",
    "\n",
    "* We use the sigmoid function we created\n",
    "* Then, we compute $\\hat{y}$, which is estimate of the normalized y values by passing the activity ($z^{(3)}$) through the activation function\n",
    "\n",
    "$$\\hat{y} = f(z^{(3)})$$\n",
    "\n",
    "Where $f$ is the activation function of our choosing. We should get back a 3 by 1 matrix in this example."
   ]
  },
  {
   "cell_type": "code",
   "execution_count": 10,
   "metadata": {
    "slideshow": {
     "slide_type": "slide"
    }
   },
   "outputs": [
    {
     "name": "stdout",
     "output_type": "stream",
     "text": [
      "estimates:\n",
      " [[0.76520858]\n",
      " [0.75680781]\n",
      " [0.78242692]]\n"
     ]
    }
   ],
   "source": [
    "# Apply the activation function to produce prediction for yHat\n",
    "yHat = sigmoid(Z3)\n",
    "print('estimates:\\n', yHat)"
   ]
  },
  {
   "cell_type": "markdown",
   "metadata": {
    "slideshow": {
     "slide_type": "slide"
    }
   },
   "source": [
    "## Compare to the real data (supervised learning)\n",
    "\n",
    "Now we can simply compare them."
   ]
  },
  {
   "cell_type": "code",
   "execution_count": 11,
   "metadata": {
    "slideshow": {
     "slide_type": "slide"
    }
   },
   "outputs": [
    {
     "name": "stdout",
     "output_type": "stream",
     "text": [
      "--------------\n",
      "How did we do?\n",
      "y_norm:\n",
      "[[0.75]\n",
      " [0.83]\n",
      " [0.93]]\n",
      "yHat:\n",
      "[[0.76520858]\n",
      " [0.75680781]\n",
      " [0.78242692]]\n"
     ]
    }
   ],
   "source": [
    "# Compare yhat to known y_norm\n",
    "print(\"--------------\")\n",
    "print(\"How did we do?\")\n",
    "print(\"y_norm:\")\n",
    "print(y_norm)\n",
    "print(\"yHat:\")\n",
    "print(yHat)"
   ]
  },
  {
   "cell_type": "markdown",
   "metadata": {
    "slideshow": {
     "slide_type": "slide"
    }
   },
   "source": [
    "# Today's Class\n",
    "\n",
    "* We will put you in your project groups\n",
    "* Today's in-class notebook is an update for us on your progress\n",
    "* We will drop in to discuss your project with you\n",
    "* **On-track goal:** start modeling data, discuss issues with models"
   ]
  },
  {
   "cell_type": "markdown",
   "metadata": {
    "slideshow": {
     "slide_type": "slide"
    }
   },
   "source": [
    "# Questions, Comments, Concerns?"
   ]
  },
  {
   "cell_type": "code",
   "execution_count": null,
   "metadata": {
    "slideshow": {
     "slide_type": "skip"
    }
   },
   "outputs": [],
   "source": []
  }
 ],
 "metadata": {
  "celltoolbar": "Slideshow",
  "kernelspec": {
   "display_name": "Python 3 CMSE",
   "language": "python",
   "name": "python3cmse"
  },
  "language_info": {
   "codemirror_mode": {
    "name": "ipython",
    "version": 3
   },
   "file_extension": ".py",
   "mimetype": "text/x-python",
   "name": "python",
   "nbconvert_exporter": "python",
   "pygments_lexer": "ipython3",
   "version": "3.7.9"
  }
 },
 "nbformat": 4,
 "nbformat_minor": 4
}
