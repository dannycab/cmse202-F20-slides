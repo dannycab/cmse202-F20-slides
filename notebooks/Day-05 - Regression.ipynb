{
 "cells": [
  {
   "cell_type": "markdown",
   "metadata": {
    "slideshow": {
     "slide_type": "slide"
    }
   },
   "source": [
    "# Day 05 - Regression Models\n",
    "## Sept. 22, 2020\n",
    "\n",
    "<img src=\"./images/cmse.png\"\n",
    "     alt=\"CMSE logo\"\n",
    "     style=\"float: right; margin-left: 50px; width: 600px;\" />"
   ]
  },
  {
   "cell_type": "markdown",
   "metadata": {
    "slideshow": {
     "slide_type": "slide"
    }
   },
   "source": [
    "# Administrative\n",
    "\n",
    "* **Tips from other students**:\n",
    " * We alternate speaking and sharing our screens as well as working through our questions/errors together. \n",
    " * Share screens as it is a good way to work collaboratively and I find that I learn better when I see code visually instead of it being verbally explained to me\n",
    " * Start everything early. Then, you will find out which problems you need help on earlier and will be able to go to office hours. Office hours are really helpful especially now since they are so accessible.\n",
    "* **Office Hours today**\n",
    " * DC might be 15 minutes late for 3pm office hours\n",
    "* **Reminder about Pre-class**:\n",
    "  * Due at 11:59pm before class\n",
    "  * Credit only awarded if it's on time and completed thoughtfully\n",
    "\n",
    "\n",
    "## Any questions?"
   ]
  },
  {
   "cell_type": "markdown",
   "metadata": {
    "slideshow": {
     "slide_type": "slide"
    }
   },
   "source": [
    "# From Pre-Class Assignment\n",
    "\n",
    "## Challenging bits\n",
    "\n",
    "* How to make the random numbers work as expected\n",
    "* The process for using `statsmodels`\n",
    "* What do the graphs mean?\n",
    "\n",
    "**You will get more practice with this today.**\n",
    "\n",
    "## Things that are also important:\n",
    "\n",
    "* What is a regression model?\n",
    "* How does a regression model work?\n",
    "* What are the concerns about fitting with a line (or other function)?\n",
    "* How do we determine if the fit is good?\n",
    "\n",
    "**We will work on this all week**"
   ]
  },
  {
   "cell_type": "markdown",
   "metadata": {
    "slideshow": {
     "slide_type": "slide"
    }
   },
   "source": [
    "## Let's start by importing some data\n",
    "### We will use the famous example from Anscombe"
   ]
  },
  {
   "cell_type": "code",
   "execution_count": 1,
   "metadata": {
    "slideshow": {
     "slide_type": "-"
    }
   },
   "outputs": [
    {
     "data": {
      "text/html": [
       "<div>\n",
       "<style scoped>\n",
       "    .dataframe tbody tr th:only-of-type {\n",
       "        vertical-align: middle;\n",
       "    }\n",
       "\n",
       "    .dataframe tbody tr th {\n",
       "        vertical-align: top;\n",
       "    }\n",
       "\n",
       "    .dataframe thead th {\n",
       "        text-align: right;\n",
       "    }\n",
       "</style>\n",
       "<table border=\"1\" class=\"dataframe\">\n",
       "  <thead>\n",
       "    <tr style=\"text-align: right;\">\n",
       "      <th></th>\n",
       "      <th>x</th>\n",
       "      <th>y</th>\n",
       "      <th>x.1</th>\n",
       "      <th>y.1</th>\n",
       "      <th>x.2</th>\n",
       "      <th>y.2</th>\n",
       "      <th>x.3</th>\n",
       "      <th>y.3</th>\n",
       "    </tr>\n",
       "  </thead>\n",
       "  <tbody>\n",
       "    <tr>\n",
       "      <th>0</th>\n",
       "      <td>10.0</td>\n",
       "      <td>8.04</td>\n",
       "      <td>10.0</td>\n",
       "      <td>9.14</td>\n",
       "      <td>10.0</td>\n",
       "      <td>7.46</td>\n",
       "      <td>8.0</td>\n",
       "      <td>6.58</td>\n",
       "    </tr>\n",
       "    <tr>\n",
       "      <th>1</th>\n",
       "      <td>8.0</td>\n",
       "      <td>6.95</td>\n",
       "      <td>8.0</td>\n",
       "      <td>8.14</td>\n",
       "      <td>8.0</td>\n",
       "      <td>6.77</td>\n",
       "      <td>8.0</td>\n",
       "      <td>5.76</td>\n",
       "    </tr>\n",
       "    <tr>\n",
       "      <th>2</th>\n",
       "      <td>13.0</td>\n",
       "      <td>7.58</td>\n",
       "      <td>13.0</td>\n",
       "      <td>8.74</td>\n",
       "      <td>13.0</td>\n",
       "      <td>12.74</td>\n",
       "      <td>8.0</td>\n",
       "      <td>7.71</td>\n",
       "    </tr>\n",
       "    <tr>\n",
       "      <th>3</th>\n",
       "      <td>9.0</td>\n",
       "      <td>8.81</td>\n",
       "      <td>9.0</td>\n",
       "      <td>8.77</td>\n",
       "      <td>9.0</td>\n",
       "      <td>7.11</td>\n",
       "      <td>8.0</td>\n",
       "      <td>8.84</td>\n",
       "    </tr>\n",
       "    <tr>\n",
       "      <th>4</th>\n",
       "      <td>11.0</td>\n",
       "      <td>8.33</td>\n",
       "      <td>11.0</td>\n",
       "      <td>9.26</td>\n",
       "      <td>11.0</td>\n",
       "      <td>7.81</td>\n",
       "      <td>8.0</td>\n",
       "      <td>8.47</td>\n",
       "    </tr>\n",
       "    <tr>\n",
       "      <th>5</th>\n",
       "      <td>14.0</td>\n",
       "      <td>9.96</td>\n",
       "      <td>14.0</td>\n",
       "      <td>8.10</td>\n",
       "      <td>14.0</td>\n",
       "      <td>8.84</td>\n",
       "      <td>8.0</td>\n",
       "      <td>7.04</td>\n",
       "    </tr>\n",
       "    <tr>\n",
       "      <th>6</th>\n",
       "      <td>6.0</td>\n",
       "      <td>7.24</td>\n",
       "      <td>6.0</td>\n",
       "      <td>6.13</td>\n",
       "      <td>6.0</td>\n",
       "      <td>6.08</td>\n",
       "      <td>8.0</td>\n",
       "      <td>5.25</td>\n",
       "    </tr>\n",
       "    <tr>\n",
       "      <th>7</th>\n",
       "      <td>4.0</td>\n",
       "      <td>4.26</td>\n",
       "      <td>4.0</td>\n",
       "      <td>3.10</td>\n",
       "      <td>4.0</td>\n",
       "      <td>5.39</td>\n",
       "      <td>19.0</td>\n",
       "      <td>12.50</td>\n",
       "    </tr>\n",
       "    <tr>\n",
       "      <th>8</th>\n",
       "      <td>12.0</td>\n",
       "      <td>10.84</td>\n",
       "      <td>12.0</td>\n",
       "      <td>9.13</td>\n",
       "      <td>12.0</td>\n",
       "      <td>8.15</td>\n",
       "      <td>8.0</td>\n",
       "      <td>5.56</td>\n",
       "    </tr>\n",
       "    <tr>\n",
       "      <th>9</th>\n",
       "      <td>7.0</td>\n",
       "      <td>4.82</td>\n",
       "      <td>7.0</td>\n",
       "      <td>7.26</td>\n",
       "      <td>7.0</td>\n",
       "      <td>6.42</td>\n",
       "      <td>8.0</td>\n",
       "      <td>7.91</td>\n",
       "    </tr>\n",
       "    <tr>\n",
       "      <th>10</th>\n",
       "      <td>5.0</td>\n",
       "      <td>5.68</td>\n",
       "      <td>5.0</td>\n",
       "      <td>4.74</td>\n",
       "      <td>5.0</td>\n",
       "      <td>5.73</td>\n",
       "      <td>8.0</td>\n",
       "      <td>6.89</td>\n",
       "    </tr>\n",
       "  </tbody>\n",
       "</table>\n",
       "</div>"
      ],
      "text/plain": [
       "       x      y   x.1   y.1   x.2    y.2   x.3    y.3\n",
       "0   10.0   8.04  10.0  9.14  10.0   7.46   8.0   6.58\n",
       "1    8.0   6.95   8.0  8.14   8.0   6.77   8.0   5.76\n",
       "2   13.0   7.58  13.0  8.74  13.0  12.74   8.0   7.71\n",
       "3    9.0   8.81   9.0  8.77   9.0   7.11   8.0   8.84\n",
       "4   11.0   8.33  11.0  9.26  11.0   7.81   8.0   8.47\n",
       "5   14.0   9.96  14.0  8.10  14.0   8.84   8.0   7.04\n",
       "6    6.0   7.24   6.0  6.13   6.0   6.08   8.0   5.25\n",
       "7    4.0   4.26   4.0  3.10   4.0   5.39  19.0  12.50\n",
       "8   12.0  10.84  12.0  9.13  12.0   8.15   8.0   5.56\n",
       "9    7.0   4.82   7.0  7.26   7.0   6.42   8.0   7.91\n",
       "10   5.0   5.68   5.0  4.74   5.0   5.73   8.0   6.89"
      ]
     },
     "execution_count": 1,
     "metadata": {},
     "output_type": "execute_result"
    }
   ],
   "source": [
    "import pandas as pd\n",
    "import seaborn as sea\n",
    "import matplotlib.pyplot as plt\n",
    "import numpy as np\n",
    "\n",
    "## Read data from Wikipedia's table of data\n",
    "df = pd.read_html('https://en.wikipedia.org/wiki/Anscombe%27s_quartet',\n",
    "                  match = 'Anscombe\\'s quartet',\n",
    "                  skiprows = 1)\n",
    "df = df[0]\n",
    "df"
   ]
  },
  {
   "cell_type": "markdown",
   "metadata": {
    "slideshow": {
     "slide_type": "slide"
    }
   },
   "source": [
    "## Let's just look at the data"
   ]
  },
  {
   "cell_type": "code",
   "execution_count": 2,
   "metadata": {
    "slideshow": {
     "slide_type": "-"
    }
   },
   "outputs": [
    {
     "data": {
      "image/png": "[encoded data removed]",
      "text/plain": [
       "<Figure size 432x288 with 4 Axes>"
      ]
     },
     "metadata": {
      "needs_background": "light"
     },
     "output_type": "display_data"
    }
   ],
   "source": [
    "def plot_anscombe(x, y):\n",
    "    \n",
    "    plt.plot(x, y, 'o', markersize = 10)\n",
    "    plt.ylabel('y')\n",
    "    plt.xlabel('x')\n",
    "    plt.axis([2,20,2,14])\n",
    "\n",
    "plt.subplot(221)\n",
    "plot_anscombe(df['x'], df['y'])\n",
    "plt.subplot(222)\n",
    "plot_anscombe(df['x.1'], df['y.1'])\n",
    "plt.subplot(223)\n",
    "plot_anscombe(df['x.2'], df['y.2'])\n",
    "plt.subplot(224)\n",
    "plot_anscombe(df['x.3'], df['y.3'])"
   ]
  },
  {
   "cell_type": "markdown",
   "metadata": {
    "slideshow": {
     "slide_type": "slide"
    }
   },
   "source": [
    "## Ok let's run an OLS model of this data and see what we get"
   ]
  },
  {
   "cell_type": "code",
   "execution_count": 3,
   "metadata": {
    "slideshow": {
     "slide_type": "-"
    }
   },
   "outputs": [
    {
     "name": "stdout",
     "output_type": "stream",
     "text": [
      "const    3.000091\n",
      "x        0.500091\n",
      "dtype: float64\n"
     ]
    }
   ],
   "source": [
    "import statsmodels.api as sm\n",
    "\n",
    "x = pd.DataFrame(df['x'])      ## Make the independent variable\n",
    "x_w_c = sm.add_constant(x)     ## Add a constant for the model (otherwise intercept is zero)\n",
    "model = sm.OLS(df['y'], x_w_c) ## Make the OLS model for the dependent variable\n",
    "results = model.fit()          ## Fit the model\n",
    "print(results.params)          ## For this model, print the intercept and slope"
   ]
  },
  {
   "cell_type": "markdown",
   "metadata": {
    "slideshow": {
     "slide_type": "slide"
    }
   },
   "source": [
    "## Ok let's run this for all the data and see what we get\n",
    "### We can make a function to do so for us and return the results object"
   ]
  },
  {
   "cell_type": "code",
   "execution_count": 4,
   "metadata": {
    "slideshow": {
     "slide_type": "-"
    }
   },
   "outputs": [],
   "source": [
    "def return_fit_parameters(x, y):\n",
    "    \n",
    "    x = pd.DataFrame(x)\n",
    "    x_w_c = sm.add_constant(x)\n",
    "    model = sm.OLS(y, x_w_c)\n",
    "    results = model.fit()\n",
    "    return results"
   ]
  },
  {
   "cell_type": "markdown",
   "metadata": {
    "slideshow": {
     "slide_type": "slide"
    }
   },
   "source": [
    "## Now we can run it for each data set"
   ]
  },
  {
   "cell_type": "code",
   "execution_count": 5,
   "metadata": {
    "slideshow": {
     "slide_type": "-"
    }
   },
   "outputs": [
    {
     "name": "stdout",
     "output_type": "stream",
     "text": [
      "Fit parameters for Set 1:\n",
      " const    3.0\n",
      "x        0.5\n",
      "dtype: float64 \n",
      "\n",
      "Fit parameters for Set 2:\n",
      " const    3.0\n",
      "x.1      0.5\n",
      "dtype: float64 \n",
      "\n",
      "Fit parameters for Set 3:\n",
      " const    3.0\n",
      "x.2      0.5\n",
      "dtype: float64 \n",
      "\n",
      "Fit parameters for Set 4:\n",
      " const    3.0\n",
      "x.3      0.5\n",
      "dtype: float64 \n",
      "\n"
     ]
    }
   ],
   "source": [
    "set1 = return_fit_parameters(df['x'], df['y'])\n",
    "print('Fit parameters for Set 1:\\n', set1.params.round(2), '\\n')\n",
    "\n",
    "set2 = return_fit_parameters(df['x.1'], df['y.1'])\n",
    "print('Fit parameters for Set 2:\\n', set2.params.round(2), '\\n')\n",
    "\n",
    "set3 = return_fit_parameters(df['x.2'], df['y.2'])\n",
    "print('Fit parameters for Set 3:\\n', set3.params.round(2), '\\n')\n",
    "\n",
    "set4 = return_fit_parameters(df['x.3'], df['y.3'])\n",
    "print('Fit parameters for Set 4:\\n', set4.params.round(2), '\\n')"
   ]
  },
  {
   "cell_type": "markdown",
   "metadata": {
    "slideshow": {
     "slide_type": "slide"
    }
   },
   "source": [
    "## Anscombe's Data set are  (by design) fit by the same model\n",
    "* Slope: 3.0\n",
    "* Intercept 0.5\n",
    "\n",
    "### We can use $R^2$ to measure the goodness of fit"
   ]
  },
  {
   "cell_type": "code",
   "execution_count": 6,
   "metadata": {
    "slideshow": {
     "slide_type": "-"
    }
   },
   "outputs": [
    {
     "name": "stdout",
     "output_type": "stream",
     "text": [
      "RSqr for Set 1: 0.667 \n",
      "\n",
      "RSqr for Set 2: 0.666 \n",
      "\n",
      "RSqr for Set 3: 0.666 \n",
      "\n",
      "RSqr for Set 4: 0.667 \n",
      "\n"
     ]
    }
   ],
   "source": [
    "print('RSqr for Set 1:', set1.rsquared.round(3), '\\n')\n",
    "print('RSqr for Set 2:', set2.rsquared.round(3), '\\n')\n",
    "print('RSqr for Set 3:', set3.rsquared.round(3), '\\n')\n",
    "print('RSqr for Set 4:', set4.rsquared.round(3), '\\n')"
   ]
  },
  {
   "cell_type": "markdown",
   "metadata": {
    "slideshow": {
     "slide_type": "-"
    }
   },
   "source": [
    "## Ok, well they all fit pretty well. What is going on?"
   ]
  },
  {
   "cell_type": "markdown",
   "metadata": {
    "slideshow": {
     "slide_type": "slide"
    }
   },
   "source": [
    "## Let's look at the fitted values and the real data in a scatter plot"
   ]
  },
  {
   "cell_type": "code",
   "execution_count": 7,
   "metadata": {
    "slideshow": {
     "slide_type": "-"
    }
   },
   "outputs": [],
   "source": [
    "def compare_data_and_fit(x, y, fit_y):\n",
    "    \n",
    "    plt.plot(x, y, 'o')\n",
    "    plt.plot(x, fit_y, 'x')\n",
    "    plt.ylabel('y')\n",
    "    plt.xlabel('x')\n",
    "    plt.axis([2,20,2,14])\n",
    "    plt.legend(['Data', 'Fitted Values'])"
   ]
  },
  {
   "cell_type": "code",
   "execution_count": 8,
   "metadata": {
    "slideshow": {
     "slide_type": "slide"
    }
   },
   "outputs": [
    {
     "data": {
      "image/png": "[encoded data removed]",
      "text/plain": [
       "<Figure size 432x288 with 4 Axes>"
      ]
     },
     "metadata": {
      "needs_background": "light"
     },
     "output_type": "display_data"
    }
   ],
   "source": [
    "plt.subplot(221)\n",
    "compare_data_and_fit(df['x'], df['y'], set1.fittedvalues)\n",
    "plt.subplot(222)\n",
    "compare_data_and_fit(df['x.1'], df['y.1'], set2.fittedvalues)\n",
    "plt.subplot(223)\n",
    "compare_data_and_fit(df['x.2'], df['y.2'], set3.fittedvalues)\n",
    "plt.subplot(224)\n",
    "compare_data_and_fit(df['x.3'], df['y.3'], set4.fittedvalues)"
   ]
  },
  {
   "cell_type": "markdown",
   "metadata": {
    "slideshow": {
     "slide_type": "-"
    }
   },
   "source": [
    "## Ok, now we see the problem. The fit is not good for the anything but the first set."
   ]
  },
  {
   "cell_type": "markdown",
   "metadata": {
    "slideshow": {
     "slide_type": "slide"
    }
   },
   "source": [
    "## Let's look  at comparing the fitted values to the real data\n",
    "### If it was perfect we would expect a line"
   ]
  },
  {
   "cell_type": "code",
   "execution_count": 10,
   "metadata": {
    "slideshow": {
     "slide_type": "-"
    }
   },
   "outputs": [],
   "source": [
    "def compare_data_and_fittedvalues(y, fit_y):\n",
    "    \n",
    "    plt.plot(y, fit_y, 'x')\n",
    "    plt.plot([0,20],[0,20], 'r-', lw = 2)\n",
    "    plt.ylabel('Fitted Values')\n",
    "    plt.xlabel('Data')\n",
    "    plt.axis([2,14,2,14])"
   ]
  },
  {
   "cell_type": "code",
   "execution_count": 11,
   "metadata": {
    "slideshow": {
     "slide_type": "slide"
    }
   },
   "outputs": [
    {
     "data": {
      "image/png": "[encoded data removed]",
      "text/plain": [
       "<Figure size 432x288 with 4 Axes>"
      ]
     },
     "metadata": {
      "needs_background": "light"
     },
     "output_type": "display_data"
    }
   ],
   "source": [
    "plt.subplot(221)\n",
    "compare_data_and_fittedvalues(df['y'], set1.fittedvalues)\n",
    "plt.subplot(222)\n",
    "compare_data_and_fittedvalues(df['y.1'], set2.fittedvalues)\n",
    "plt.subplot(223)\n",
    "compare_data_and_fittedvalues(df['y.2'], set3.fittedvalues)\n",
    "plt.subplot(224)\n",
    "compare_data_and_fittedvalues(df['y.3'], set4.fittedvalues)"
   ]
  },
  {
   "cell_type": "markdown",
   "metadata": {
    "slideshow": {
     "slide_type": "-"
    }
   },
   "source": [
    "## Ok, now we see why our fits are not so good.\n",
    "\n",
    "### Only the first set seems to be close to the 1:1 line"
   ]
  },
  {
   "cell_type": "markdown",
   "metadata": {
    "slideshow": {
     "slide_type": "slide"
    }
   },
   "source": [
    "## Let's look at the residuals (the errors in the fits)\n",
    "\n",
    "### If our fit is good, they should look randomly distributed "
   ]
  },
  {
   "cell_type": "code",
   "execution_count": 12,
   "metadata": {
    "slideshow": {
     "slide_type": "-"
    }
   },
   "outputs": [],
   "source": [
    "def plot_residuals(x, resid):\n",
    "    \n",
    "    plt.plot(x, resid, 'o')\n",
    "    plt.axhline(0, c = 'r', lw = 2)\n",
    "    plt.xlabel('data')\n",
    "    plt.ylabel('residuals')\n",
    "    plt.axis([0,20,-2,2])"
   ]
  },
  {
   "cell_type": "code",
   "execution_count": 13,
   "metadata": {
    "slideshow": {
     "slide_type": "slide"
    }
   },
   "outputs": [
    {
     "data": {
      "image/png": "[encoded data removed]",
      "text/plain": [
       "<Figure size 432x288 with 4 Axes>"
      ]
     },
     "metadata": {
      "needs_background": "light"
     },
     "output_type": "display_data"
    }
   ],
   "source": [
    "plt.subplot(221)\n",
    "plot_residuals(df['x'], set1.resid)\n",
    "plt.subplot(222)\n",
    "plot_residuals(df['x.1'], set2.resid)\n",
    "plt.subplot(223)\n",
    "plot_residuals(df['x.2'], set3.resid)\n",
    "plt.subplot(224)\n",
    "plot_residuals(df['x.3'], set4.resid)"
   ]
  },
  {
   "cell_type": "markdown",
   "metadata": {},
   "source": [
    "## Again only the first seems to be ok as the residuals are randomly distributed."
   ]
  },
  {
   "cell_type": "markdown",
   "metadata": {
    "slideshow": {
     "slide_type": "slide"
    }
   },
   "source": [
    "# Questions, Comments, Concerns?"
   ]
  },
  {
   "cell_type": "code",
   "execution_count": null,
   "metadata": {
    "slideshow": {
     "slide_type": "skip"
    }
   },
   "outputs": [],
   "source": []
  }
 ],
 "metadata": {
  "celltoolbar": "Slideshow",
  "kernelspec": {
   "display_name": "Python 3 CMSE",
   "language": "python",
   "name": "python3cmse"
  },
  "language_info": {
   "codemirror_mode": {
    "name": "ipython",
    "version": 3
   },
   "file_extension": ".py",
   "mimetype": "text/x-python",
   "name": "python",
   "nbconvert_exporter": "python",
   "pygments_lexer": "ipython3",
   "version": "3.7.9"
  }
 },
 "nbformat": 4,
 "nbformat_minor": 4
}
