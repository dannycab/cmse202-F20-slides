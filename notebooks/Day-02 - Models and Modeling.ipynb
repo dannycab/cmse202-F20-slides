{
 "cells": [
  {
   "cell_type": "markdown",
   "metadata": {
    "slideshow": {
     "slide_type": "slide"
    }
   },
   "source": [
    "# Day 02 - Models and Modeling\n",
    "## Sept. 10, 2020\n",
    "\n",
    "<img src=\"./images/cmse.png\"\n",
    "     alt=\"CMSE logo\"\n",
    "     style=\"float: right; margin-left: 50px; width: 600px;\" />"
   ]
  },
  {
   "cell_type": "markdown",
   "metadata": {
    "slideshow": {
     "slide_type": "slide"
    }
   },
   "source": [
    "# Administrative\n",
    "\n",
    "* **Office Hours**: We are setting these up now based on your needs. They will be posted soon.\n",
    "    * Danny's office hours: 3-4pm Tuesday and Thursday (and by appointment)\n",
    "* **Notebooks**: We will be posting the week's worth of work for you on the course website and D2L.\n",
    "* **Slides**: Posted [online](http://dannycaballero.info/cmse202-F20-slides/); you can get access from D2L.\n",
    "* **EGR Accounts**: These are only needed to access (https://jupyterhub.egr.msu.edu) in case your Python install fails. Email [support@egr.msu.edu](mailto:support@egr.msu.edu) if you are still having trouble.\n",
    "* **Groups**: The assigned groups were posted to D2L and emailed to you. Please add your group number to your name so we can assign the groups today.\n",
    "* **Homework 1**: Will be assigned next week; due the week of Sept. 28th.\n",
    "\n",
    "\n",
    "## Any questions?"
   ]
  },
  {
   "cell_type": "markdown",
   "metadata": {
    "slideshow": {
     "slide_type": "slide"
    }
   },
   "source": [
    "# Groups\n",
    "\n",
    "* On D2l and in your email, you will find your group assignment (Number 1 through 8).\n",
    "* Change your name on Zoom to include your group number \n",
    "    * (e.g., \"Danny\" becomes \"1 - Danny\" if I were assigned to group 1).\n",
    "* We will work in these groups for several weeks."
   ]
  },
  {
   "cell_type": "markdown",
   "metadata": {
    "slideshow": {
     "slide_type": "slide"
    }
   },
   "source": [
    "# From Pre-Class Assignment\n",
    "\n",
    "## Things you said you want more practice with:\n",
    "\n",
    "* Control structures like loops\n",
    "* Using `pandas` to work with and analyze data\n",
    "* Making models of data (i.e., regression)\n",
    "* Connecting the progams I write to the models we use\n",
    "\n",
    "## Concerns you have:\n",
    "* I don't remember syntax for different libraries\n",
    "* I need to look at websites and notes to complete tasks"
   ]
  },
  {
   "cell_type": "markdown",
   "metadata": {
    "slideshow": {
     "slide_type": "slide"
    }
   },
   "source": [
    "# What is a scientific model?\n",
    "\n",
    "In the pre-class assignment, you found videos the describe a model. We can think of models in a variety of ways.\n",
    "\n",
    "One of my PhD students, John Aiken, made a short film some years ago about models when he was supposed to be writing his master's thesis. Let's watch it."
   ]
  },
  {
   "cell_type": "code",
   "execution_count": 1,
   "metadata": {
    "slideshow": {
     "slide_type": "slide"
    }
   },
   "outputs": [
    {
     "data": {
      "image/jpeg": "[encoded data removed]",
      "text/html": [
       "\n",
       "        <iframe\n",
       "            width=\"800\"\n",
       "            height=\"600\"\n",
       "            src=\"https://www.youtube.com/embed/dkTncoPqo5Y\"\n",
       "            frameborder=\"0\"\n",
       "            allowfullscreen\n",
       "        ></iframe>\n",
       "        "
      ],
      "text/plain": [
       "<IPython.lib.display.YouTubeVideo at 0x7fadf04af6d0>"
      ]
     },
     "execution_count": 1,
     "metadata": {},
     "output_type": "execute_result"
    }
   ],
   "source": [
    "from IPython.display import YouTubeVideo\n",
    "YouTubeVideo(\"dkTncoPqo5Y\",width=800,height=600)"
   ]
  },
  {
   "cell_type": "markdown",
   "metadata": {
    "slideshow": {
     "slide_type": "slide"
    }
   },
   "source": [
    "# Any questions, concerns, comments?"
   ]
  },
  {
   "cell_type": "markdown",
   "metadata": {
    "slideshow": {
     "slide_type": "slide"
    }
   },
   "source": [
    "# Icebreaker for your groups\n",
    "\n",
    "## Introduce yourself\n",
    "\n",
    "* Name\n",
    "* Major\n",
    "* What have you been doing for fun or to relax during the pandemic?"
   ]
  },
  {
   "cell_type": "code",
   "execution_count": null,
   "metadata": {
    "slideshow": {
     "slide_type": "skip"
    }
   },
   "outputs": [],
   "source": []
  }
 ],
 "metadata": {
  "celltoolbar": "Slideshow",
  "kernelspec": {
   "display_name": "Python 3 CMSE",
   "language": "python",
   "name": "python3cmse"
  },
  "language_info": {
   "codemirror_mode": {
    "name": "ipython",
    "version": 3
   },
   "file_extension": ".py",
   "mimetype": "text/x-python",
   "name": "python",
   "nbconvert_exporter": "python",
   "pygments_lexer": "ipython3",
   "version": "3.7.9"
  }
 },
 "nbformat": 4,
 "nbformat_minor": 4
}
