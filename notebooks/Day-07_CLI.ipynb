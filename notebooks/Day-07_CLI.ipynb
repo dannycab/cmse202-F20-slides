{
 "cells": [
  {
   "cell_type": "markdown",
   "metadata": {
    "slideshow": {
     "slide_type": "slide"
    }
   },
   "source": [
    "# Day 07 - The Command Line Interface (CLI)\n",
    "## Sept. 29, 2020\n",
    "\n",
    "<img src=\"./images/cmse.png\"\n",
    "     alt=\"CMSE logo\"\n",
    "     style=\"float: right; margin-left: 50px; width: 600px;\" />"
   ]
  },
  {
   "cell_type": "markdown",
   "metadata": {
    "slideshow": {
     "slide_type": "slide"
    }
   },
   "source": [
    "# From Pre-Class Assignment\n",
    "\n",
    "There are a variety of experiences across our class: \n",
    "* Some have never used the CLI while some use it daily. \n",
    "\n",
    "## Challenging bits\n",
    "\n",
    "* Unable to get the CLI commands to work\n",
    "* What are these commands doing; how to remember them all\n",
    "* Getting `vim` and `nano` to work properly"
   ]
  },
  {
   "cell_type": "markdown",
   "metadata": {
    "slideshow": {
     "slide_type": "slide"
    }
   },
   "source": [
    "# Why use the CLI at all?\n",
    "\n",
    "* Not all data science work can be done using a Graphical User Interface (GUI)\n",
    "* Installing and configuring packages, libraries, and modules are typically done via CLI\n",
    "* Using the CLI is typically more efficient than the equivalent GUI approach\n",
    "* Interfacing with other systems through CLI ensures similarity across systems\n",
    "* Many production computing systems provide no GUI at all"
   ]
  },
  {
   "cell_type": "markdown",
   "metadata": {
    "slideshow": {
     "slide_type": "slide"
    }
   },
   "source": [
    "# Your future work\n",
    "\n",
    "Right now, you do all your computations on your own computer or on EGR's JupyterHub. In the future, you might:\n",
    "* Work for a data science firm with its own computational systems\n",
    "* Use cloud computing resources for analysis and modeling\n",
    "* Administer high performance computing systems for a team of data scientists\n",
    "* ...\n",
    "\n",
    "These kinds of production systems typically make use of a client-server relationship.\n",
    "\n",
    "<img src=\"https://upload.wikimedia.org/wikipedia/commons/thumb/c/c9/Client-server-model.svg/500px-Client-server-model.svg.png\"/>"
   ]
  },
  {
   "cell_type": "markdown",
   "metadata": {
    "slideshow": {
     "slide_type": "slide"
    }
   },
   "source": [
    "# MSU Institute for Cyber-Enabled Research (ICER)\n",
    "\n",
    "<img src=\"https://icer.msu.edu/sites/default/files/images/news/Cluster-14-image-web.png\"/>\n",
    "\n",
    "* 900 compute nodes with more than 23,000 cores\n",
    "* 142 TB of RAM\n",
    "* 6.5 PB of persistent storage\n",
    "\n",
    "CLI is used to access ICER resources."
   ]
  },
  {
   "cell_type": "markdown",
   "metadata": {
    "slideshow": {
     "slide_type": "slide"
    }
   },
   "source": [
    "# Structure of a typical CLI command\n",
    "\n",
    "* `command -f variable(s)` - The `command` is the main action you are attempting. The flag (`-f`) is a modifier that slightly changes the action. The `variable(s)` is/are passed to the action.\n",
    "* Many CLI commands execute without any visual feedback."
   ]
  },
  {
   "cell_type": "markdown",
   "metadata": {
    "slideshow": {
     "slide_type": "slide"
    }
   },
   "source": [
    "# CLI commands that you will use daily\n",
    "\n",
    "* `ls` - lists the contents of a directory (`ls -a` modifies the command to list all files including hidden ones).\n",
    "* `pwd` - prints the working directory to screen (shows where you are)\n",
    "* `cd <directory>` - changes the working directory (moves you to a different location)\n",
    "* `mkdir <new_directory>` - creates a new directory (must have name that doesn't yet exist in the working directory)\n",
    "* `touch <new_file>` - creates a new blank file (again, must have a name that doesn't yet exist)\n",
    "* `cp <file> <new_file>` - copies a file to a new file (will overwrite `<new_file>` with telling you)\n",
    "* `cp -r <directory> <new_directory>` - the `-r` flag means recursive; copies full contents of a directory"
   ]
  },
  {
   "cell_type": "markdown",
   "metadata": {
    "slideshow": {
     "slide_type": "slide"
    }
   },
   "source": [
    "# Editing text files\n",
    "\n",
    "## Why did we introduce `vim` and `nano`?\n",
    "\n",
    "To make edits to the kinds of files used in data science, we need plain text editors. MS Word, Google Docs, and the like make binary files; they contain additional metadata and markup for origin, formatting, et cetera.\n",
    "\n",
    "`vim` and `nano` are the most commonly available CLI plain text editors."
   ]
  },
  {
   "cell_type": "markdown",
   "metadata": {
    "slideshow": {
     "slide_type": "slide"
    }
   },
   "source": [
    "# I'd be more comfortable with a GUI\n",
    "\n",
    "There are a number of text editors that make use of a GUI, which might be more comfortable right now.\n",
    "\n",
    "* [Atom](https://atom.io/) - Windows, Mac, Linux\n",
    "* [Sublime Text](https://www.sublimetext.com/) - Windows, Mac, Linux\n",
    "* [Visual Studio Code](https://code.visualstudio.com/) - Windows, Mac\n",
    "* [Notepad++](https://notepad-plus-plus.org/) - Windows\n",
    "* [TextMate](https://macromates.com/) - Mac\n",
    "* [BBEdit](https://www.barebones.com/products/bbedit/) - Mac\n",
    "\n",
    "Some of these can be set up as programming environments. For example, Danny uses Atom almost exclusively."
   ]
  },
  {
   "cell_type": "markdown",
   "metadata": {
    "slideshow": {
     "slide_type": "slide"
    }
   },
   "source": [
    "# Questions, Comments, Concerns?"
   ]
  },
  {
   "cell_type": "code",
   "execution_count": null,
   "metadata": {
    "slideshow": {
     "slide_type": "skip"
    }
   },
   "outputs": [],
   "source": []
  }
 ],
 "metadata": {
  "celltoolbar": "Slideshow",
  "kernelspec": {
   "display_name": "Python 3 CMSE",
   "language": "python",
   "name": "python3cmse"
  },
  "language_info": {
   "codemirror_mode": {
    "name": "ipython",
    "version": 3
   },
   "file_extension": ".py",
   "mimetype": "text/x-python",
   "name": "python",
   "nbconvert_exporter": "python",
   "pygments_lexer": "ipython3",
   "version": "3.7.9"
  }
 },
 "nbformat": 4,
 "nbformat_minor": 4
}
