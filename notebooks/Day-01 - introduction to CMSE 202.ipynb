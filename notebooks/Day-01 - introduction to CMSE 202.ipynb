{
 "cells": [
  {
   "cell_type": "markdown",
   "metadata": {
    "slideshow": {
     "slide_type": "slide"
    }
   },
   "source": [
    "# Welcome to CMSE 202!\n",
    "## Section 003\n",
    "### Sept. 3, 2020\n",
    "\n",
    "<img src=\"./images/cmse.png\"\n",
    "     alt=\"CMSE logo\"\n",
    "     style=\"float: right; margin-left: 50px; width: 600px;\" />"
   ]
  },
  {
   "cell_type": "markdown",
   "metadata": {
    "slideshow": {
     "slide_type": "slide"
    }
   },
   "source": [
    "# Instructors\n",
    "## Prof Danny. Caballero\n",
    "\n",
    "<img src=\"./images/dc.jpeg\"\n",
    "     alt=\"Danny\"\n",
    "     style=\"float: left; margin-right: 50px; width: 400px;\" />\n",
    "\n",
    "* Pronouns: he/him/his\n",
    "* Email: [caball14@msu.edu](mailto:caball14@msu.edu)\n",
    "    * Office hours: TBD\n",
    "    * Slack: [cmse-courses.slack.com](http://cmse-courses.slack.com) #cmse202-f20-003 (preferred); @Danny Caballero\n",
    "* Course Webpage: [egr.msu.edu/classes/cmse202/](http://egr.msu.edu/classes/cmse202/)\n",
    "* Course Communication/Feedback/Turn-in: [d2l.msu.edu](http://d2l.msu.edu)"
   ]
  },
  {
   "cell_type": "markdown",
   "metadata": {
    "slideshow": {
     "slide_type": "slide"
    }
   },
   "source": [
    "## Teaching and Learning Assistants\n",
    "\n",
    "### TA - David Rimel (rimeldav@msu.edu)\n",
    "\n",
    "<img src=\"./images/david.jpeg\"\n",
    "     alt=\"David\"\n",
    "     style=\"float: left; margin-right: 50px; width: 250px;\" />\n",
    "     \n",
    "### LA - Jack Hass (haasjack@msu.edu)\n",
    "\n",
    "<img src=\"./images/jack.jpeg\"\n",
    "     alt=\"Jack\"\n",
    "     style=\"float: left; margin-right: 50px; width: 250px;\" />\n",
    "     \n",
    "### LA - Amanda Bowerman (bowerm37@msu.edu)\n",
    "\n",
    "<img src=\"./images/person.png\"\n",
    "     alt=\"Person\"\n",
    "     style=\"float: left; margin-right: 50px; width: 250px;\" />\n",
    "     \n",
    "     \n",
    "* Office Hours: TBD"
   ]
  },
  {
   "cell_type": "markdown",
   "metadata": {
    "slideshow": {
     "slide_type": "slide"
    }
   },
   "source": [
    "# CMSE 202 Learning Goals\n",
    "## What you will be able to do after this class:\n",
    "\n",
    "1. Design and write programs to solve common problems in a variety of scientific disciplines.\n",
    "2. Identify and analyze appropriate pre-existing techniques, software packages and computing libraries to use in programs to solve scientific problems.\n",
    "3. Choose appropriate algorithms and data types to break down scientific problems into manageable components.\n",
    "4. Use modern software development methods and tools to construct reusable programs.\n",
    "5. Create computer automated workflows to manipulate, analyze and visualize datasets and use this data to evaluate scientific models.\n",
    "6. Demonstrate the ability to work in diverse groups to develop scientific software.\n",
    "7. Explain the results from a scientific computing problem and present it both verbally and in writing."
   ]
  },
  {
   "cell_type": "markdown",
   "metadata": {
    "slideshow": {
     "slide_type": "slide"
    }
   },
   "source": [
    "# CMSE 202 Class Meetings\n",
    "## How will class run?\n",
    "\n",
    "* Class will be virtual, but synchronous\n",
    "    * We will meet via Zoom 10:20am-12:10pm ET\n",
    "    * Link: [msu.zoom.us/j/95628835835](http://msu.zoom.us/j/95628835835) and Password: cmse202-3\n",
    "* Complete Pre-Class assignments by 11:59pm ET the night before each class\n",
    "    * Submit on D2L\n",
    "    * Danny will go over questions and comments from pre-class\n",
    "* We will move into breakout rooms to work on the In-Class Assignment\n",
    "    * Danny, David, Amanda, and Jack will move around checking in with groups\n",
    "    * We must “checkout” your work for the day to receive credit\n",
    "    * Each person submits on D2L"
   ]
  },
  {
   "cell_type": "markdown",
   "metadata": {
    "slideshow": {
     "slide_type": "slide"
    }
   },
   "source": [
    "# Zoom Sessions\n",
    "\n",
    "## Large Class Meetings\n",
    "\n",
    "* Please mute while others are speaking. \n",
    "* Camera on/off? Whatever you are comfortable with.\n",
    "* Use raise hands or chat for questions/comments/etc.\n",
    "\n",
    "## Small Group Meetings\n",
    "\n",
    "* Your group can decide norms.\n",
    "* Instructors will join from time to time."
   ]
  },
  {
   "cell_type": "markdown",
   "metadata": {
    "slideshow": {
     "slide_type": "slide"
    }
   },
   "source": [
    "# Your concerns\n",
    "* Wifi connection might not be stable enough for Zoom (recording whole class meetings)\n",
    "* Access to Google tools abroad (new.vpn.msu.edu)\n",
    "* Meeting time for students abroad (we are discussing this tomorrow)\n",
    "\n",
    "\n",
    "* Falling behind\n",
    "* Getting the help that I need\n",
    "* Working collaboratively over Zoom\n",
    "* Taking this course online\n",
    "* Stress and anxiety about this semester"
   ]
  },
  {
   "cell_type": "markdown",
   "metadata": {
    "slideshow": {
     "slide_type": "slide"
    }
   },
   "source": [
    "# Potential Interruptions\n",
    "\n",
    " <img src=\"./images/kids.jpeg\"\n",
    "     alt=\"Interrupting Kids will Interrupt\"\n",
    "     style=\"float: left; width: 800px;\" />"
   ]
  },
  {
   "cell_type": "markdown",
   "metadata": {
    "slideshow": {
     "slide_type": "slide"
    }
   },
   "source": [
    "# Class Activities and Grading\n",
    "\n",
    "* Pre-Class (10%)\n",
    "* In-Class (10%)\n",
    "* Midterm and Final (15% each; 30% total)\n",
    "* Homeworks (5 total; 6% each; 30% total)\n",
    "* Group Project (20%)"
   ]
  },
  {
   "cell_type": "markdown",
   "metadata": {
    "slideshow": {
     "slide_type": "slide"
    }
   },
   "source": [
    "# Awarded Grades\n",
    "\n",
    "* ≥ 90% - 4.0\n",
    "* ≥ 85% - 3.5\n",
    "* ≥ 80% - 3.0\n",
    "* ≥ 75% - 2.5\n",
    "* ≥ 70% - 2.0\n",
    "* ≥ 65% - 1.5\n",
    "* ≥ 60% - 1.0\n",
    "* < 60% - 0.0\n",
    "\n",
    "Grades are not curved."
   ]
  },
  {
   "cell_type": "markdown",
   "metadata": {
    "slideshow": {
     "slide_type": "slide"
    }
   },
   "source": [
    "# Illnesses\n",
    "\n",
    "* _Continuity of instruction:_ Should any instructor in section 003 become ill with COVID-19, another instructor(s) will cover the relevant teaching responsibilities for that instructor.\n",
    "* _Student illness:_ While not required (due to federal health privacy laws), instructors would appreciate knowing if you are ill to adjust expectations as needed.\n",
    "    * _Long-term illness (e.g. COVID):_ Again, while not required to disclose this illness, it is recommended students contact instructors. Students may also contact the Dean of Students Office regarding Medical Leave (if needed)."
   ]
  },
  {
   "cell_type": "markdown",
   "metadata": {
    "slideshow": {
     "slide_type": "slide"
    }
   },
   "source": [
    "# Commitment to an Inclusive Classroom\n",
    "\n",
    "I am committed to creating an inclusive classroom. If I can do anything to make the classroom a better learning environment for you, please let me know.\n",
    "\n",
    "If you observe or experience behaviors that violate our committment to inclusivity, please let me know as soon as possible.\n",
    "\n",
    "If I violate this principle, please let me know or please tell the undergraduate director, Devin Silvia (dsilvia@msu.edu)."
   ]
  },
  {
   "cell_type": "markdown",
   "metadata": {
    "slideshow": {
     "slide_type": "slide"
    }
   },
   "source": [
    "# Confidentiality and Mandatory Reporting\n",
    "\n",
    "One of our responsibilities is to help create a safe learning environment. It is our goal that you feel able to share information related to your life experiences. We will seek to keep information you share private.\n",
    "\n",
    "However, we are required to share information regarding sexual misconduct, relationship violence, or information about criminal activity with the University."
   ]
  },
  {
   "cell_type": "markdown",
   "metadata": {
    "slideshow": {
     "slide_type": "slide"
    }
   },
   "source": [
    "# Confidentiality and Mandatory Reporting\n",
    "\n",
    "Students may speak to someone confidentially by contacting:\n",
    "* MSU Counseling and Psychiatric Service (CAPS)\n",
    "    * [caps.msu.edu](http://caps.msu.edu) or ph: 517-355-8270\n",
    "* MSU’s 24-hour Sexual Assault Crisis Line\n",
    "    * [endrape.msu.edu](http://endrape.msu.edu) or ph: 517-372-6666\n",
    "* Olin Health Center\n",
    "    * [olin.msu.edu](http://olin.msu.edu) or ph: 517-884-6546"
   ]
  },
  {
   "cell_type": "markdown",
   "metadata": {
    "slideshow": {
     "slide_type": "slide"
    }
   },
   "source": [
    "# Spartan Code of Honor Academic Pledge\n",
    "\n",
    "As a Spartan, I will strive to uphold values of the highest ethical standard. I will practice honesty in my work, foster honesty in my peers, and take pride in knowing that honor is worth more than grades. I will carry these values beyond my time as a student at Michigan State University, continuing the endeavor to build personal integrity in all that I do."
   ]
  },
  {
   "cell_type": "markdown",
   "metadata": {
    "slideshow": {
     "slide_type": "slide"
    }
   },
   "source": [
    "# First “week”\n",
    "\n",
    "* Today: Download the first In-Class Activity from website\n",
    "    * We will break you into randomized groups today\n",
    "    * Make sure to complete CATME survey!\n",
    "    * Remember to turn in on D2L!\n",
    "* Next week: No class on Tuesday (Labor Day holiday)\n",
    "    * Wednesday: Complete Pre-Class Assignment by 11:59pm (download from web, turn in on D2L)\n",
    "    * Thursday: Work on In-Class Assignment in CATME groups (DC will assign group number)"
   ]
  },
  {
   "cell_type": "markdown",
   "metadata": {
    "slideshow": {
     "slide_type": "slide"
    }
   },
   "source": [
    "# Questions?"
   ]
  },
  {
   "cell_type": "code",
   "execution_count": null,
   "metadata": {
    "slideshow": {
     "slide_type": "skip"
    }
   },
   "outputs": [],
   "source": []
  }
 ],
 "metadata": {
  "celltoolbar": "Slideshow",
  "kernelspec": {
   "display_name": "Python 3",
   "language": "python",
   "name": "python3"
  },
  "language_info": {
   "codemirror_mode": {
    "name": "ipython",
    "version": 3
   },
   "file_extension": ".py",
   "mimetype": "text/x-python",
   "name": "python",
   "nbconvert_exporter": "python",
   "pygments_lexer": "ipython3",
   "version": "3.7.9"
  }
 },
 "nbformat": 4,
 "nbformat_minor": 2
}
