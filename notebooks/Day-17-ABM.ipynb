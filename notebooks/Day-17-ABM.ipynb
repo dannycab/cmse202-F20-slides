{
 "cells": [
  {
   "cell_type": "markdown",
   "metadata": {
    "slideshow": {
     "slide_type": "slide"
    }
   },
   "source": [
    "# Day 17 Agent-Based Models - Superbugs\n",
    "## Nov. 12, 2020\n",
    "\n",
    "<img src=\"./images/cmse.png\"\n",
    "     alt=\"CMSE logo\"\n",
    "     style=\"float: right; margin-left: 50px; width: 600px;\" />"
   ]
  },
  {
   "cell_type": "markdown",
   "metadata": {
    "slideshow": {
     "slide_type": "slide"
    }
   },
   "source": [
    "# ABM and Superbugs\n",
    "\n",
    "* ABM - create a \"simple\" set of rules and let the simulation run\n",
    "* Superbugs - bacteria that evolve strong antibiotic resistance\n",
    "\n",
    "## Next two class periods\n",
    "* Develop a model of bacterial growth in a rectangular petridish with \"stripes\" of antibiotics\n",
    "* **Today** - Create the \"bugs\" and the \"world\" and draw them both\n",
    "* We will use OOP to do so"
   ]
  },
  {
   "cell_type": "markdown",
   "metadata": {
    "slideshow": {
     "slide_type": "slide"
    }
   },
   "source": [
    "# Pre-Class\n",
    "\n",
    "* What stub functions we should create?\n",
    "* What should the classes look like?\n",
    "* What attributes and methods should we have?"
   ]
  },
  {
   "cell_type": "markdown",
   "metadata": {
    "slideshow": {
     "slide_type": "slide"
    }
   },
   "source": [
    "# Whole class brainstorming\n",
    "\n",
    "## Classes (objects)\n",
    "* class for the bacteria\n",
    "* class to create the board/environment\n",
    "\n",
    "## Attributes (values)\n",
    "* chance of mutating\n",
    "* resistance to antibiotics\n",
    "* starting amount of bacteria\n",
    "* location within dish\n",
    "* amount of bacteria on the board for different segements\n",
    "* amount of antibiotics on the board\n",
    "* how evolved a bacterium is\n",
    "\n",
    "## Methods (actions)\n",
    "* clone function to create new bacteria\n",
    "* way to find neighboring values in an array\n",
    "* way to initialize antibiotics on the board\n",
    "* way to update the board - new set of clones or taking in antibiotics\n",
    "* a way to track the evolution of the bacteria\n",
    "* a way to determine whether or not the bacteria can spread to certain area\n",
    "* a way to kill the bacteria or have them multiply\n",
    "* simulate mutations"
   ]
  },
  {
   "cell_type": "markdown",
   "metadata": {
    "slideshow": {
     "slide_type": "slide"
    }
   },
   "source": [
    "# Questions, Comments, Concerns?"
   ]
  },
  {
   "cell_type": "code",
   "execution_count": null,
   "metadata": {
    "slideshow": {
     "slide_type": "skip"
    }
   },
   "outputs": [],
   "source": []
  }
 ],
 "metadata": {
  "celltoolbar": "Slideshow",
  "kernelspec": {
   "display_name": "Python 3 CMSE",
   "language": "python",
   "name": "python3cmse"
  },
  "language_info": {
   "codemirror_mode": {
    "name": "ipython",
    "version": 3
   },
   "file_extension": ".py",
   "mimetype": "text/x-python",
   "name": "python",
   "nbconvert_exporter": "python",
   "pygments_lexer": "ipython3",
   "version": "3.7.9"
  }
 },
 "nbformat": 4,
 "nbformat_minor": 4
}
