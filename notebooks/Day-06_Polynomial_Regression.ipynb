{
 "cells": [
  {
   "cell_type": "markdown",
   "metadata": {
    "slideshow": {
     "slide_type": "slide"
    }
   },
   "source": [
    "# Day 06 - Polynomial Regression Models\n",
    "## Sept. 24, 2020\n",
    "\n",
    "<img src=\"./images/cmse.png\"\n",
    "     alt=\"CMSE logo\"\n",
    "     style=\"float: right; margin-left: 50px; width: 600px;\" />"
   ]
  },
  {
   "cell_type": "markdown",
   "metadata": {
    "slideshow": {
     "slide_type": "slide"
    }
   },
   "source": [
    "# From Pre-Class Assignment\n",
    "\n",
    "## Challenging bits\n",
    "\n",
    "* How to fit data with more than one feature\n",
    "* How to determine a good fit when multiple features are used\n",
    "* How to make sure `OLS` is doing the fit that I want\n",
    "\n",
    "**You will get more practice with this today.**\n",
    "\n",
    "## Things that are still important:\n",
    "\n",
    "* What is a regression model?\n",
    "* How does a regression model work?\n",
    "* What are the concerns about fitting with a line (or other function)?\n",
    "* How do we determine if the fit is good?"
   ]
  },
  {
   "cell_type": "markdown",
   "metadata": {
    "slideshow": {
     "slide_type": "slide"
    }
   },
   "source": [
    "## Let's start by making some data\n",
    "\n",
    "We will use quintic data: $y = 5x^5 + 3x^4 - 6x^3 + 2x^2 -3x + 2$ from $x =$ -2 to +2"
   ]
  },
  {
   "cell_type": "code",
   "execution_count": 1,
   "metadata": {
    "slideshow": {
     "slide_type": "-"
    }
   },
   "outputs": [
    {
     "data": {
      "text/plain": [
       "<matplotlib.legend.Legend at 0x7ffd122fc410>"
      ]
     },
     "execution_count": 1,
     "metadata": {},
     "output_type": "execute_result"
    },
    {
     "data": {
      "image/png": "[encoded data removed]",
      "text/plain": [
       "<Figure size 288x288 with 1 Axes>"
      ]
     },
     "metadata": {
      "needs_background": "light"
     },
     "output_type": "display_data"
    }
   ],
   "source": [
    "import statsmodels.api as sm\n",
    "import numpy as np\n",
    "import matplotlib.pyplot as plt\n",
    "\n",
    "x_ary = np.arange(-2, 2, 0.05)\n",
    "y_ary = +x_ary**5 - 3*x_ary**4 - 6*x_ary**3 + 2*x_ary**2 - 3*x_ary + 2\n",
    "y_noisy = y_ary + np.random.uniform(-15, 15.0, len(y_ary))\n",
    "\n",
    "fig = plt.figure(figsize=(4,4))\n",
    "plt.plot(x_ary, y_ary, 'x')\n",
    "plt.plot(x_ary, y_noisy, 'o')\n",
    "plt.xlabel('x', fontsize = 14)\n",
    "plt.ylabel('y', fontsize = 14)\n",
    "plt.legend(['Original', 'Noisy'])"
   ]
  },
  {
   "cell_type": "markdown",
   "metadata": {
    "slideshow": {
     "slide_type": "slide"
    }
   },
   "source": [
    "## Let's make a model using up to $x^{10}$\n",
    "\n",
    "Our model will try to fit:\n",
    "\n",
    "$$y = c_0 + c_1x + c_2x^2 + c_3x^3 + c_4x^4 + c_5x^5 + c_6x^6 + c_7 x^7 + c_8 x^8 + c_9 x^9 + c_{10} x^{10} +\\epsilon $$\n",
    "\n",
    "to the noisy data. `statsmodels` will estimate the $c_i$ each time we make the model. We will be able to set different $c_i$'s to zero to reduce the complexity of the model."
   ]
  },
  {
   "cell_type": "code",
   "execution_count": 2,
   "metadata": {
    "slideshow": {
     "slide_type": "-"
    }
   },
   "outputs": [
    {
     "data": {
      "text/html": [
       "<div>\n",
       "<style scoped>\n",
       "    .dataframe tbody tr th:only-of-type {\n",
       "        vertical-align: middle;\n",
       "    }\n",
       "\n",
       "    .dataframe tbody tr th {\n",
       "        vertical-align: top;\n",
       "    }\n",
       "\n",
       "    .dataframe thead th {\n",
       "        text-align: right;\n",
       "    }\n",
       "</style>\n",
       "<table border=\"1\" class=\"dataframe\">\n",
       "  <thead>\n",
       "    <tr style=\"text-align: right;\">\n",
       "      <th></th>\n",
       "      <th>x0</th>\n",
       "      <th>x1</th>\n",
       "      <th>x2</th>\n",
       "      <th>x3</th>\n",
       "      <th>x4</th>\n",
       "      <th>x5</th>\n",
       "      <th>x6</th>\n",
       "      <th>x7</th>\n",
       "      <th>x8</th>\n",
       "      <th>x9</th>\n",
       "      <th>x10</th>\n",
       "    </tr>\n",
       "  </thead>\n",
       "  <tbody>\n",
       "    <tr>\n",
       "      <th>0</th>\n",
       "      <td>1.0</td>\n",
       "      <td>-2.00</td>\n",
       "      <td>4.0000</td>\n",
       "      <td>-8.000000</td>\n",
       "      <td>16.000000</td>\n",
       "      <td>-32.000000</td>\n",
       "      <td>64.000000</td>\n",
       "      <td>-128.000000</td>\n",
       "      <td>256.000000</td>\n",
       "      <td>-512.000000</td>\n",
       "      <td>1024.000000</td>\n",
       "    </tr>\n",
       "    <tr>\n",
       "      <th>1</th>\n",
       "      <td>1.0</td>\n",
       "      <td>-1.95</td>\n",
       "      <td>3.8025</td>\n",
       "      <td>-7.414875</td>\n",
       "      <td>14.459006</td>\n",
       "      <td>-28.195062</td>\n",
       "      <td>54.980371</td>\n",
       "      <td>-107.211724</td>\n",
       "      <td>209.062862</td>\n",
       "      <td>-407.672580</td>\n",
       "      <td>794.961532</td>\n",
       "    </tr>\n",
       "    <tr>\n",
       "      <th>2</th>\n",
       "      <td>1.0</td>\n",
       "      <td>-1.90</td>\n",
       "      <td>3.6100</td>\n",
       "      <td>-6.859000</td>\n",
       "      <td>13.032100</td>\n",
       "      <td>-24.760990</td>\n",
       "      <td>47.045881</td>\n",
       "      <td>-89.387174</td>\n",
       "      <td>169.835630</td>\n",
       "      <td>-322.687698</td>\n",
       "      <td>613.106626</td>\n",
       "    </tr>\n",
       "    <tr>\n",
       "      <th>3</th>\n",
       "      <td>1.0</td>\n",
       "      <td>-1.85</td>\n",
       "      <td>3.4225</td>\n",
       "      <td>-6.331625</td>\n",
       "      <td>11.713506</td>\n",
       "      <td>-21.669987</td>\n",
       "      <td>40.089475</td>\n",
       "      <td>-74.165529</td>\n",
       "      <td>137.206229</td>\n",
       "      <td>-253.831523</td>\n",
       "      <td>469.588318</td>\n",
       "    </tr>\n",
       "    <tr>\n",
       "      <th>4</th>\n",
       "      <td>1.0</td>\n",
       "      <td>-1.80</td>\n",
       "      <td>3.2400</td>\n",
       "      <td>-5.832000</td>\n",
       "      <td>10.497600</td>\n",
       "      <td>-18.895680</td>\n",
       "      <td>34.012224</td>\n",
       "      <td>-61.222003</td>\n",
       "      <td>110.199606</td>\n",
       "      <td>-198.359290</td>\n",
       "      <td>357.046723</td>\n",
       "    </tr>\n",
       "  </tbody>\n",
       "</table>\n",
       "</div>"
      ],
      "text/plain": [
       "    x0    x1      x2        x3         x4         x5         x6          x7  \\\n",
       "0  1.0 -2.00  4.0000 -8.000000  16.000000 -32.000000  64.000000 -128.000000   \n",
       "1  1.0 -1.95  3.8025 -7.414875  14.459006 -28.195062  54.980371 -107.211724   \n",
       "2  1.0 -1.90  3.6100 -6.859000  13.032100 -24.760990  47.045881  -89.387174   \n",
       "3  1.0 -1.85  3.4225 -6.331625  11.713506 -21.669987  40.089475  -74.165529   \n",
       "4  1.0 -1.80  3.2400 -5.832000  10.497600 -18.895680  34.012224  -61.222003   \n",
       "\n",
       "           x8          x9          x10  \n",
       "0  256.000000 -512.000000  1024.000000  \n",
       "1  209.062862 -407.672580   794.961532  \n",
       "2  169.835630 -322.687698   613.106626  \n",
       "3  137.206229 -253.831523   469.588318  \n",
       "4  110.199606 -198.359290   357.046723  "
      ]
     },
     "execution_count": 2,
     "metadata": {},
     "output_type": "execute_result"
    }
   ],
   "source": [
    "import pandas as pd\n",
    "\n",
    "column_names = ['x0','x1','x2','x3','x4','x5','x6','x7','x8','x9','x10']\n",
    "\n",
    "const_values = np.ones(len(x_ary))\n",
    "\n",
    "data = np.array([const_values, x_ary, x_ary**2, x_ary**3, x_ary**4, \n",
    "                 x_ary**5,x_ary**6, x_ary**7, x_ary**8, x_ary**9, \n",
    "                 x_ary**10])\n",
    "\n",
    "df = pd.DataFrame(data.T, columns = column_names)    \n",
    "df.head()"
   ]
  },
  {
   "cell_type": "markdown",
   "metadata": {
    "slideshow": {
     "slide_type": "slide"
    }
   },
   "source": [
    "## Ok let's run an OLS model using only the constant term\n",
    "\n",
    "$$y_0 = c_0 + \\epsilon$$"
   ]
  },
  {
   "cell_type": "code",
   "execution_count": 3,
   "metadata": {
    "slideshow": {
     "slide_type": "-"
    }
   },
   "outputs": [
    {
     "data": {
      "text/html": [
       "<table class=\"simpletable\">\n",
       "<caption>OLS Regression Results</caption>\n",
       "<tr>\n",
       "  <th>Dep. Variable:</th>            <td>y</td>        <th>  R-squared:         </th> <td>   0.000</td>\n",
       "</tr>\n",
       "<tr>\n",
       "  <th>Model:</th>                   <td>OLS</td>       <th>  Adj. R-squared:    </th> <td>   0.000</td>\n",
       "</tr>\n",
       "<tr>\n",
       "  <th>Method:</th>             <td>Least Squares</td>  <th>  F-statistic:       </th> <td>     nan</td>\n",
       "</tr>\n",
       "<tr>\n",
       "  <th>Date:</th>             <td>Thu, 24 Sep 2020</td> <th>  Prob (F-statistic):</th>  <td>   nan</td> \n",
       "</tr>\n",
       "<tr>\n",
       "  <th>Time:</th>                 <td>09:59:03</td>     <th>  Log-Likelihood:    </th> <td> -336.63</td>\n",
       "</tr>\n",
       "<tr>\n",
       "  <th>No. Observations:</th>      <td>    80</td>      <th>  AIC:               </th> <td>   675.3</td>\n",
       "</tr>\n",
       "<tr>\n",
       "  <th>Df Residuals:</th>          <td>    79</td>      <th>  BIC:               </th> <td>   677.6</td>\n",
       "</tr>\n",
       "<tr>\n",
       "  <th>Df Model:</th>              <td>     0</td>      <th>                     </th>     <td> </td>   \n",
       "</tr>\n",
       "<tr>\n",
       "  <th>Covariance Type:</th>      <td>nonrobust</td>    <th>                     </th>     <td> </td>   \n",
       "</tr>\n",
       "</table>\n",
       "<table class=\"simpletable\">\n",
       "<tr>\n",
       "   <td></td>     <th>coef</th>     <th>std err</th>      <th>t</th>      <th>P>|t|</th>  <th>[0.025</th>    <th>0.975]</th>  \n",
       "</tr>\n",
       "<tr>\n",
       "  <th>x0</th> <td>   -4.3464</td> <td>    1.830</td> <td>   -2.375</td> <td> 0.020</td> <td>   -7.989</td> <td>   -0.704</td>\n",
       "</tr>\n",
       "</table>\n",
       "<table class=\"simpletable\">\n",
       "<tr>\n",
       "  <th>Omnibus:</th>       <td>17.777</td> <th>  Durbin-Watson:     </th> <td>   0.516</td>\n",
       "</tr>\n",
       "<tr>\n",
       "  <th>Prob(Omnibus):</th> <td> 0.000</td> <th>  Jarque-Bera (JB):  </th> <td>  21.089</td>\n",
       "</tr>\n",
       "<tr>\n",
       "  <th>Skew:</th>          <td>-1.138</td> <th>  Prob(JB):          </th> <td>2.63e-05</td>\n",
       "</tr>\n",
       "<tr>\n",
       "  <th>Kurtosis:</th>      <td> 4.070</td> <th>  Cond. No.          </th> <td>    1.00</td>\n",
       "</tr>\n",
       "</table><br/><br/>Warnings:<br/>[1] Standard Errors assume that the covariance matrix of the errors is correctly specified."
      ],
      "text/plain": [
       "<class 'statsmodels.iolib.summary.Summary'>\n",
       "\"\"\"\n",
       "                            OLS Regression Results                            \n",
       "==============================================================================\n",
       "Dep. Variable:                      y   R-squared:                       0.000\n",
       "Model:                            OLS   Adj. R-squared:                  0.000\n",
       "Method:                 Least Squares   F-statistic:                       nan\n",
       "Date:                Thu, 24 Sep 2020   Prob (F-statistic):                nan\n",
       "Time:                        09:59:03   Log-Likelihood:                -336.63\n",
       "No. Observations:                  80   AIC:                             675.3\n",
       "Df Residuals:                      79   BIC:                             677.6\n",
       "Df Model:                           0                                         \n",
       "Covariance Type:            nonrobust                                         \n",
       "==============================================================================\n",
       "                 coef    std err          t      P>|t|      [0.025      0.975]\n",
       "------------------------------------------------------------------------------\n",
       "x0            -4.3464      1.830     -2.375      0.020      -7.989      -0.704\n",
       "==============================================================================\n",
       "Omnibus:                       17.777   Durbin-Watson:                   0.516\n",
       "Prob(Omnibus):                  0.000   Jarque-Bera (JB):               21.089\n",
       "Skew:                          -1.138   Prob(JB):                     2.63e-05\n",
       "Kurtosis:                       4.070   Cond. No.                         1.00\n",
       "==============================================================================\n",
       "\n",
       "Warnings:\n",
       "[1] Standard Errors assume that the covariance matrix of the errors is correctly specified.\n",
       "\"\"\""
      ]
     },
     "execution_count": 3,
     "metadata": {},
     "output_type": "execute_result"
    }
   ],
   "source": [
    "model = sm.OLS(y_noisy, df['x0']) # make the model\n",
    "results = model.fit() \n",
    "results.summary()"
   ]
  },
  {
   "cell_type": "markdown",
   "metadata": {
    "slideshow": {
     "slide_type": "slide"
    }
   },
   "source": [
    "## That was bad ($R^2 = 0$). Let's add the linear term.\n",
    "\n",
    "$$y_1 = c_1 x + c_0 + \\epsilon$$"
   ]
  },
  {
   "cell_type": "code",
   "execution_count": 4,
   "metadata": {
    "slideshow": {
     "slide_type": "-"
    }
   },
   "outputs": [
    {
     "data": {
      "text/html": [
       "<table class=\"simpletable\">\n",
       "<caption>OLS Regression Results</caption>\n",
       "<tr>\n",
       "  <th>Dep. Variable:</th>            <td>y</td>        <th>  R-squared:         </th> <td>   0.318</td>\n",
       "</tr>\n",
       "<tr>\n",
       "  <th>Model:</th>                   <td>OLS</td>       <th>  Adj. R-squared:    </th> <td>   0.309</td>\n",
       "</tr>\n",
       "<tr>\n",
       "  <th>Method:</th>             <td>Least Squares</td>  <th>  F-statistic:       </th> <td>   36.35</td>\n",
       "</tr>\n",
       "<tr>\n",
       "  <th>Date:</th>             <td>Thu, 24 Sep 2020</td> <th>  Prob (F-statistic):</th> <td>5.16e-08</td>\n",
       "</tr>\n",
       "<tr>\n",
       "  <th>Time:</th>                 <td>09:59:03</td>     <th>  Log-Likelihood:    </th> <td> -321.33</td>\n",
       "</tr>\n",
       "<tr>\n",
       "  <th>No. Observations:</th>      <td>    80</td>      <th>  AIC:               </th> <td>   646.7</td>\n",
       "</tr>\n",
       "<tr>\n",
       "  <th>Df Residuals:</th>          <td>    78</td>      <th>  BIC:               </th> <td>   651.4</td>\n",
       "</tr>\n",
       "<tr>\n",
       "  <th>Df Model:</th>              <td>     1</td>      <th>                     </th>     <td> </td>   \n",
       "</tr>\n",
       "<tr>\n",
       "  <th>Covariance Type:</th>      <td>nonrobust</td>    <th>                     </th>     <td> </td>   \n",
       "</tr>\n",
       "</table>\n",
       "<table class=\"simpletable\">\n",
       "<tr>\n",
       "   <td></td>     <th>coef</th>     <th>std err</th>      <th>t</th>      <th>P>|t|</th>  <th>[0.025</th>    <th>0.975]</th>  \n",
       "</tr>\n",
       "<tr>\n",
       "  <th>x0</th> <td>   -4.5450</td> <td>    1.521</td> <td>   -2.988</td> <td> 0.004</td> <td>   -7.573</td> <td>   -1.516</td>\n",
       "</tr>\n",
       "<tr>\n",
       "  <th>x1</th> <td>   -7.9419</td> <td>    1.317</td> <td>   -6.029</td> <td> 0.000</td> <td>  -10.564</td> <td>   -5.320</td>\n",
       "</tr>\n",
       "</table>\n",
       "<table class=\"simpletable\">\n",
       "<tr>\n",
       "  <th>Omnibus:</th>       <td> 3.622</td> <th>  Durbin-Watson:     </th> <td>   0.754</td>\n",
       "</tr>\n",
       "<tr>\n",
       "  <th>Prob(Omnibus):</th> <td> 0.163</td> <th>  Jarque-Bera (JB):  </th> <td>   3.546</td>\n",
       "</tr>\n",
       "<tr>\n",
       "  <th>Skew:</th>          <td>-0.471</td> <th>  Prob(JB):          </th> <td>   0.170</td>\n",
       "</tr>\n",
       "<tr>\n",
       "  <th>Kurtosis:</th>      <td> 2.579</td> <th>  Cond. No.          </th> <td>    1.16</td>\n",
       "</tr>\n",
       "</table><br/><br/>Warnings:<br/>[1] Standard Errors assume that the covariance matrix of the errors is correctly specified."
      ],
      "text/plain": [
       "<class 'statsmodels.iolib.summary.Summary'>\n",
       "\"\"\"\n",
       "                            OLS Regression Results                            \n",
       "==============================================================================\n",
       "Dep. Variable:                      y   R-squared:                       0.318\n",
       "Model:                            OLS   Adj. R-squared:                  0.309\n",
       "Method:                 Least Squares   F-statistic:                     36.35\n",
       "Date:                Thu, 24 Sep 2020   Prob (F-statistic):           5.16e-08\n",
       "Time:                        09:59:03   Log-Likelihood:                -321.33\n",
       "No. Observations:                  80   AIC:                             646.7\n",
       "Df Residuals:                      78   BIC:                             651.4\n",
       "Df Model:                           1                                         \n",
       "Covariance Type:            nonrobust                                         \n",
       "==============================================================================\n",
       "                 coef    std err          t      P>|t|      [0.025      0.975]\n",
       "------------------------------------------------------------------------------\n",
       "x0            -4.5450      1.521     -2.988      0.004      -7.573      -1.516\n",
       "x1            -7.9419      1.317     -6.029      0.000     -10.564      -5.320\n",
       "==============================================================================\n",
       "Omnibus:                        3.622   Durbin-Watson:                   0.754\n",
       "Prob(Omnibus):                  0.163   Jarque-Bera (JB):                3.546\n",
       "Skew:                          -0.471   Prob(JB):                        0.170\n",
       "Kurtosis:                       2.579   Cond. No.                         1.16\n",
       "==============================================================================\n",
       "\n",
       "Warnings:\n",
       "[1] Standard Errors assume that the covariance matrix of the errors is correctly specified.\n",
       "\"\"\""
      ]
     },
     "execution_count": 4,
     "metadata": {},
     "output_type": "execute_result"
    }
   ],
   "source": [
    "model = sm.OLS(y_noisy, df[['x0','x1']]) # make the model\n",
    "results = model.fit() \n",
    "results.summary()"
   ]
  },
  {
   "cell_type": "markdown",
   "metadata": {
    "slideshow": {
     "slide_type": "slide"
    }
   },
   "source": [
    "## That is better ($R^2 = 0.457$). Let's add the quadratic term\n",
    "\n",
    "$$y_2 = c_2 x^2 + c_1 x + c_0 + \\epsilon$$"
   ]
  },
  {
   "cell_type": "code",
   "execution_count": 5,
   "metadata": {},
   "outputs": [
    {
     "data": {
      "text/html": [
       "<table class=\"simpletable\">\n",
       "<caption>OLS Regression Results</caption>\n",
       "<tr>\n",
       "  <th>Dep. Variable:</th>            <td>y</td>        <th>  R-squared:         </th> <td>   0.674</td>\n",
       "</tr>\n",
       "<tr>\n",
       "  <th>Model:</th>                   <td>OLS</td>       <th>  Adj. R-squared:    </th> <td>   0.666</td>\n",
       "</tr>\n",
       "<tr>\n",
       "  <th>Method:</th>             <td>Least Squares</td>  <th>  F-statistic:       </th> <td>   79.72</td>\n",
       "</tr>\n",
       "<tr>\n",
       "  <th>Date:</th>             <td>Thu, 24 Sep 2020</td> <th>  Prob (F-statistic):</th> <td>1.74e-19</td>\n",
       "</tr>\n",
       "<tr>\n",
       "  <th>Time:</th>                 <td>09:59:03</td>     <th>  Log-Likelihood:    </th> <td> -291.75</td>\n",
       "</tr>\n",
       "<tr>\n",
       "  <th>No. Observations:</th>      <td>    80</td>      <th>  AIC:               </th> <td>   589.5</td>\n",
       "</tr>\n",
       "<tr>\n",
       "  <th>Df Residuals:</th>          <td>    77</td>      <th>  BIC:               </th> <td>   596.7</td>\n",
       "</tr>\n",
       "<tr>\n",
       "  <th>Df Model:</th>              <td>     2</td>      <th>                     </th>     <td> </td>   \n",
       "</tr>\n",
       "<tr>\n",
       "  <th>Covariance Type:</th>      <td>nonrobust</td>    <th>                     </th>     <td> </td>   \n",
       "</tr>\n",
       "</table>\n",
       "<table class=\"simpletable\">\n",
       "<tr>\n",
       "   <td></td>     <th>coef</th>     <th>std err</th>      <th>t</th>      <th>P>|t|</th>  <th>[0.025</th>    <th>0.975]</th>  \n",
       "</tr>\n",
       "<tr>\n",
       "  <th>x0</th> <td>    6.3081</td> <td>    1.586</td> <td>    3.976</td> <td> 0.000</td> <td>    3.149</td> <td>    9.467</td>\n",
       "</tr>\n",
       "<tr>\n",
       "  <th>x1</th> <td>   -8.3491</td> <td>    0.917</td> <td>   -9.104</td> <td> 0.000</td> <td>  -10.175</td> <td>   -6.523</td>\n",
       "</tr>\n",
       "<tr>\n",
       "  <th>x2</th> <td>   -8.1449</td> <td>    0.887</td> <td>   -9.180</td> <td> 0.000</td> <td>   -9.912</td> <td>   -6.378</td>\n",
       "</tr>\n",
       "</table>\n",
       "<table class=\"simpletable\">\n",
       "<tr>\n",
       "  <th>Omnibus:</th>       <td> 5.788</td> <th>  Durbin-Watson:     </th> <td>   1.568</td>\n",
       "</tr>\n",
       "<tr>\n",
       "  <th>Prob(Omnibus):</th> <td> 0.055</td> <th>  Jarque-Bera (JB):  </th> <td>   2.550</td>\n",
       "</tr>\n",
       "<tr>\n",
       "  <th>Skew:</th>          <td>-0.076</td> <th>  Prob(JB):          </th> <td>   0.279</td>\n",
       "</tr>\n",
       "<tr>\n",
       "  <th>Kurtosis:</th>      <td> 2.139</td> <th>  Cond. No.          </th> <td>    3.21</td>\n",
       "</tr>\n",
       "</table><br/><br/>Warnings:<br/>[1] Standard Errors assume that the covariance matrix of the errors is correctly specified."
      ],
      "text/plain": [
       "<class 'statsmodels.iolib.summary.Summary'>\n",
       "\"\"\"\n",
       "                            OLS Regression Results                            \n",
       "==============================================================================\n",
       "Dep. Variable:                      y   R-squared:                       0.674\n",
       "Model:                            OLS   Adj. R-squared:                  0.666\n",
       "Method:                 Least Squares   F-statistic:                     79.72\n",
       "Date:                Thu, 24 Sep 2020   Prob (F-statistic):           1.74e-19\n",
       "Time:                        09:59:03   Log-Likelihood:                -291.75\n",
       "No. Observations:                  80   AIC:                             589.5\n",
       "Df Residuals:                      77   BIC:                             596.7\n",
       "Df Model:                           2                                         \n",
       "Covariance Type:            nonrobust                                         \n",
       "==============================================================================\n",
       "                 coef    std err          t      P>|t|      [0.025      0.975]\n",
       "------------------------------------------------------------------------------\n",
       "x0             6.3081      1.586      3.976      0.000       3.149       9.467\n",
       "x1            -8.3491      0.917     -9.104      0.000     -10.175      -6.523\n",
       "x2            -8.1449      0.887     -9.180      0.000      -9.912      -6.378\n",
       "==============================================================================\n",
       "Omnibus:                        5.788   Durbin-Watson:                   1.568\n",
       "Prob(Omnibus):                  0.055   Jarque-Bera (JB):                2.550\n",
       "Skew:                          -0.076   Prob(JB):                        0.279\n",
       "Kurtosis:                       2.139   Cond. No.                         3.21\n",
       "==============================================================================\n",
       "\n",
       "Warnings:\n",
       "[1] Standard Errors assume that the covariance matrix of the errors is correctly specified.\n",
       "\"\"\""
      ]
     },
     "execution_count": 5,
     "metadata": {},
     "output_type": "execute_result"
    }
   ],
   "source": [
    "model = sm.OLS(y_noisy, df[['x0','x1', 'x2']]) # make the model\n",
    "results = model.fit() \n",
    "results.summary()"
   ]
  },
  {
   "cell_type": "markdown",
   "metadata": {
    "slideshow": {
     "slide_type": "slide"
    }
   },
   "source": [
    "## Ok let's run this for each choice with increasing powers of $x$\n",
    "$$y_0 = c_0 + \\epsilon$$\n",
    "$$y_1 = c_1 x + c_0 + \\epsilon$$\n",
    "$$\\dots$$\n",
    "$$y_{10} = c_0 + c_1x + c_2x^2 + c_3x^3 + c_4x^4 + c_5x^5 + c_6x^6 + c_7 x^7 + c_8 x^8 + c_9 x^9 + c_{10} x^{10} +\\epsilon $$"
   ]
  },
  {
   "cell_type": "code",
   "execution_count": 6,
   "metadata": {
    "slideshow": {
     "slide_type": "-"
    }
   },
   "outputs": [
    {
     "data": {
      "image/png": "[encoded data removed]",
      "text/plain": [
       "<Figure size 288x288 with 1 Axes>"
      ]
     },
     "metadata": {
      "needs_background": "light"
     },
     "output_type": "display_data"
    }
   ],
   "source": [
    "rsqr_arry = []\n",
    "columns = []\n",
    "\n",
    "for column in column_names:\n",
    "    \n",
    "    columns.append(column)\n",
    "    model = sm.OLS(y_noisy, df[columns]) # make the model\n",
    "    results = model.fit()                 # run the OLS fit\n",
    "    rsqr_arry.append(results.rsquared_adj)\n",
    "\n",
    "fig = plt.figure(figsize=(4,4))\n",
    "plt.plot(np.arange(0,11,1), rsqr_arry, 'x-')\n",
    "plt.xlabel('Power', fontsize = 14)\n",
    "plt.ylabel(r'$R^2$', fontsize = 14);"
   ]
  },
  {
   "cell_type": "markdown",
   "metadata": {
    "slideshow": {
     "slide_type": "slide"
    }
   },
   "source": [
    "## The quality of the fit \"saturates\" at $x^5$\n",
    "\n",
    "As we might have expected, $y_5 = c_0 + c_1x + c_2x^2 + c_3x^3 + c_4x^4 + c_5x^5 +\\epsilon $ produces the \"best\" model"
   ]
  },
  {
   "cell_type": "code",
   "execution_count": 7,
   "metadata": {
    "slideshow": {
     "slide_type": "-"
    }
   },
   "outputs": [
    {
     "data": {
      "text/plain": [
       "<matplotlib.legend.Legend at 0x7ffce00e3ed0>"
      ]
     },
     "execution_count": 7,
     "metadata": {},
     "output_type": "execute_result"
    },
    {
     "data": {
      "image/png": "[encoded data removed]",
      "text/plain": [
       "<Figure size 288x288 with 1 Axes>"
      ]
     },
     "metadata": {
      "needs_background": "light"
     },
     "output_type": "display_data"
    }
   ],
   "source": [
    "best_fit = ['x0', 'x1', 'x2', 'x3', 'x4', 'x5']\n",
    "\n",
    "model = sm.OLS(y_noisy, df[best_fit]) # make the model\n",
    "results_b = model.fit() \n",
    "\n",
    "fig = plt.figure(figsize=(4,4))\n",
    "plt.plot(x_ary, y_noisy, 'o')\n",
    "plt.plot(x_ary, results_b.predict(), '-x')\n",
    "plt.xlabel('x', fontsize = 14)\n",
    "plt.ylabel('y', fontsize = 14)\n",
    "plt.legend(['data', 'best fit'], fontsize = 14)"
   ]
  },
  {
   "cell_type": "markdown",
   "metadata": {
    "slideshow": {
     "slide_type": "slide"
    }
   },
   "source": [
    "## Let's look at the fits of other models\n",
    "\n",
    "Linear fit: $y_1 c_1 x + c_0 +\\epsilon$\n",
    "\n",
    "This is underfitting!"
   ]
  },
  {
   "cell_type": "code",
   "execution_count": 8,
   "metadata": {
    "slideshow": {
     "slide_type": "-"
    }
   },
   "outputs": [
    {
     "data": {
      "text/plain": [
       "<matplotlib.legend.Legend at 0x7ffd20131490>"
      ]
     },
     "execution_count": 8,
     "metadata": {},
     "output_type": "execute_result"
    },
    {
     "data": {
      "image/png": "[encoded data removed]",
      "text/plain": [
       "<Figure size 288x288 with 1 Axes>"
      ]
     },
     "metadata": {
      "needs_background": "light"
     },
     "output_type": "display_data"
    }
   ],
   "source": [
    "linear_fit = ['x0','x1']\n",
    "\n",
    "model = sm.OLS(y_noisy, df[linear_fit]) # make the model\n",
    "results_l = model.fit() \n",
    "\n",
    "fig = plt.figure(figsize=(4,4))\n",
    "plt.plot(x_ary, y_noisy, 'o')\n",
    "plt.plot(x_ary, results_l.predict(), '-o')\n",
    "plt.xlabel('x', fontsize = 14)\n",
    "plt.ylabel('y', fontsize = 14)\n",
    "plt.legend(['data', 'linear fit'], fontsize = 14)"
   ]
  },
  {
   "cell_type": "markdown",
   "metadata": {
    "slideshow": {
     "slide_type": "slide"
    }
   },
   "source": [
    "## Let's look at the fits of other models\n",
    "\n",
    "Full fit: $y = c_0 + c_1x + c_2x^2 + c_3x^3 + c_4x^4 + c_5x^5 + c_6x^6 + c_7 x^7 + c_8 x^8 + c_9 x^9 + c_{10} x^{10} +\\epsilon $$\n",
    "\n",
    "This is overfitting!"
   ]
  },
  {
   "cell_type": "code",
   "execution_count": 9,
   "metadata": {},
   "outputs": [
    {
     "data": {
      "text/plain": [
       "<matplotlib.legend.Legend at 0x7ffd2017db50>"
      ]
     },
     "execution_count": 9,
     "metadata": {},
     "output_type": "execute_result"
    },
    {
     "data": {
      "image/png": "[encoded data removed]",
      "text/plain": [
       "<Figure size 288x288 with 1 Axes>"
      ]
     },
     "metadata": {
      "needs_background": "light"
     },
     "output_type": "display_data"
    }
   ],
   "source": [
    "full_fit = ['x0','x1','x2','x3','x4','x5','x6','x7','x8','x9','x10']\n",
    "\n",
    "model = sm.OLS(y_noisy, df[full_fit]) # make the model\n",
    "results_f = model.fit() \n",
    "\n",
    "fig = plt.figure(figsize=(4,4))\n",
    "plt.plot(x_ary, y_noisy, 'o')\n",
    "plt.plot(x_ary, results_f.predict(), '-s')\n",
    "plt.xlabel('x', fontsize = 14)\n",
    "plt.ylabel('y', fontsize = 14)\n",
    "plt.legend(['data', 'full fit'], fontsize = 14)"
   ]
  },
  {
   "cell_type": "markdown",
   "metadata": {
    "slideshow": {
     "slide_type": "slide"
    }
   },
   "source": [
    "## Let's compare the best fit to the full fit"
   ]
  },
  {
   "cell_type": "code",
   "execution_count": 10,
   "metadata": {
    "slideshow": {
     "slide_type": "-"
    }
   },
   "outputs": [
    {
     "data": {
      "text/plain": [
       "<matplotlib.legend.Legend at 0x7ffce01d3e90>"
      ]
     },
     "execution_count": 10,
     "metadata": {},
     "output_type": "execute_result"
    },
    {
     "data": {
      "image/png": "[encoded data removed]",
      "text/plain": [
       "<Figure size 576x288 with 2 Axes>"
      ]
     },
     "metadata": {
      "needs_background": "light"
     },
     "output_type": "display_data"
    }
   ],
   "source": [
    "fig,(ax1, ax2) = plt.subplots(1, 2, figsize = (8,4))\n",
    "\n",
    "ax1.plot(x_ary, y_ary, '-', lw = 2)\n",
    "ax1.plot(x_ary, y_noisy, 'o')\n",
    "ax1.plot(x_ary, results_b.predict(), '-s')\n",
    "ax2.plot(x_ary, y_ary, '-', lw = 2)\n",
    "ax2.plot(x_ary, y_noisy, 'o')\n",
    "ax2.plot(x_ary, results_f.predict(), '-d')\n",
    "ax1.set_xlabel('x', fontsize = 14)\n",
    "ax2.set_xlabel('x', fontsize = 14)\n",
    "ax1.set_ylabel('y', fontsize = 14)\n",
    "ax2.set_ylabel('y', fontsize = 14)\n",
    "ax1.legend(['original', 'data', 'best_fit'], fontsize = 14)\n",
    "ax2.legend(['original', 'data', 'full_fit'], fontsize = 14)"
   ]
  },
  {
   "cell_type": "markdown",
   "metadata": {
    "slideshow": {
     "slide_type": "slide"
    }
   },
   "source": [
    "## Let's compare the data to the fitted values\n",
    "\n",
    "We would expect a perfect model to produce a line."
   ]
  },
  {
   "cell_type": "code",
   "execution_count": 11,
   "metadata": {
    "slideshow": {
     "slide_type": "-"
    }
   },
   "outputs": [
    {
     "data": {
      "text/plain": [
       "<matplotlib.legend.Legend at 0x7ffce0257f10>"
      ]
     },
     "execution_count": 11,
     "metadata": {},
     "output_type": "execute_result"
    },
    {
     "data": {
      "image/png": "[encoded data removed]",
      "text/plain": [
       "<Figure size 288x288 with 1 Axes>"
      ]
     },
     "metadata": {
      "needs_background": "light"
     },
     "output_type": "display_data"
    }
   ],
   "source": [
    "fig = plt.figure(figsize = (4,4))\n",
    "plt.plot(y_noisy, results_l.predict(), 'd')\n",
    "plt.plot(y_noisy, results_b.predict(), 's')\n",
    "\n",
    "plt.plot([-60,20], [-60,20], '-r', lw=2)\n",
    "plt.xlabel('data', fontsize = 14)\n",
    "plt.ylabel('fitted values', fontsize = 14)\n",
    "plt.legend(['linear fit', 'best fit'], fontsize = 14)"
   ]
  },
  {
   "cell_type": "markdown",
   "metadata": {
    "slideshow": {
     "slide_type": "slide"
    }
   },
   "source": [
    "# Questions, Comments, Concerns?"
   ]
  },
  {
   "cell_type": "code",
   "execution_count": null,
   "metadata": {
    "slideshow": {
     "slide_type": "skip"
    }
   },
   "outputs": [],
   "source": []
  }
 ],
 "metadata": {
  "celltoolbar": "Slideshow",
  "kernelspec": {
   "display_name": "Python 3 CMSE",
   "language": "python",
   "name": "python3cmse"
  },
  "language_info": {
   "codemirror_mode": {
    "name": "ipython",
    "version": 3
   },
   "file_extension": ".py",
   "mimetype": "text/x-python",
   "name": "python",
   "nbconvert_exporter": "python",
   "pygments_lexer": "ipython3",
   "version": "3.7.9"
  }
 },
 "nbformat": 4,
 "nbformat_minor": 4
}
