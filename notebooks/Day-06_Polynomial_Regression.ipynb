{
 "cells": [
  {
   "cell_type": "markdown",
   "metadata": {
    "slideshow": {
     "slide_type": "slide"
    }
   },
   "source": [
    "# Day 06 - Polynomial Regression Models\n",
    "## Sept. 24, 2020\n",
    "\n",
    "<img src=\"./images/cmse.png\"\n",
    "     alt=\"CMSE logo\"\n",
    "     style=\"float: right; margin-left: 50px; width: 600px;\" />"
   ]
  },
  {
   "cell_type": "markdown",
   "metadata": {
    "slideshow": {
     "slide_type": "slide"
    }
   },
   "source": [
    "# From Pre-Class Assignment\n",
    "\n",
    "## Challenging bits\n",
    "\n",
    "* How to fit data with more than one feature\n",
    "* How to determine a good fit when multiple features are used\n",
    "* How to make sure `OLS` is doing the fit that I want\n",
    "\n",
    "**You will get more practice with this today.**\n",
    "\n",
    "## Things that are still important:\n",
    "\n",
    "* What is a regression model?\n",
    "* How does a regression model work?\n",
    "* What are the concerns about fitting with a line (or other function)?\n",
    "* How do we determine if the fit is good?"
   ]
  },
  {
   "cell_type": "markdown",
   "metadata": {
    "slideshow": {
     "slide_type": "slide"
    }
   },
   "source": [
    "## Let's start by making some data\n",
    "\n",
    "We will use quintic data: $y = 5x^5 + 3x^4 - 6x^3 + 2x^2 -3x + 2$ from $x =$ -2 to +2"
   ]
  },
  {
   "cell_type": "code",
   "execution_count": 1,
   "metadata": {
    "slideshow": {
     "slide_type": "-"
    }
   },
   "outputs": [
    {
     "data": {
      "text/plain": [
       "<matplotlib.legend.Legend at 0x7ff780edef10>"
      ]
     },
     "execution_count": 1,
     "metadata": {},
     "output_type": "execute_result"
    },
    {
     "data": {
      "image/png": "[encoded data removed]",
      "text/plain": [
       "<Figure size 288x288 with 1 Axes>"
      ]
     },
     "metadata": {
      "needs_background": "light"
     },
     "output_type": "display_data"
    }
   ],
   "source": [
    "import statsmodels.api as sm\n",
    "import numpy as np\n",
    "import matplotlib.pyplot as plt\n",
    "\n",
    "x_ary = np.arange(-2, 2, 0.05)\n",
    "y_ary = +x_ary**5 - 3*x_ary**4 - 6*x_ary**3 + 2*x_ary**2 - 3*x_ary + 2\n",
    "y_noisy = y_ary + np.random.uniform(-15, 15.0, len(y_ary))\n",
    "\n",
    "fig = plt.figure(figsize=(4,4))\n",
    "plt.plot(x_ary, y_ary, 'x')\n",
    "plt.plot(x_ary, y_noisy, 'o')\n",
    "plt.xlabel('x', fontsize = 14)\n",
    "plt.ylabel('y', fontsize = 14)\n",
    "plt.legend(['Original', 'Noisy'])"
   ]
  },
  {
   "cell_type": "markdown",
   "metadata": {
    "slideshow": {
     "slide_type": "slide"
    }
   },
   "source": [
    "## Let's make a model using up to $x^{10}$\n",
    "\n",
    "Our model will try to fit:\n",
    "\n",
    "$$y = c_0 + c_1x + c_2x^2 + c_3x^3 + c_4x^4 + c_5x^5 + c_6x^6 + c_7 x^7 + c_8 x^8 + c_9 x^9 + c_{10} x^{10} +\\epsilon $$\n",
    "\n",
    "to the noisy data. `statsmodels` will estimate the $c_i$ each time we make the model. We will be able to set different $c_i$'s to zero to reduce the complexity of the model."
   ]
  },
  {
   "cell_type": "code",
   "execution_count": 2,
   "metadata": {
    "slideshow": {
     "slide_type": "-"
    }
   },
   "outputs": [
    {
     "data": {
      "text/html": [
       "<div>\n",
       "<style scoped>\n",
       "    .dataframe tbody tr th:only-of-type {\n",
       "        vertical-align: middle;\n",
       "    }\n",
       "\n",
       "    .dataframe tbody tr th {\n",
       "        vertical-align: top;\n",
       "    }\n",
       "\n",
       "    .dataframe thead th {\n",
       "        text-align: right;\n",
       "    }\n",
       "</style>\n",
       "<table border=\"1\" class=\"dataframe\">\n",
       "  <thead>\n",
       "    <tr style=\"text-align: right;\">\n",
       "      <th></th>\n",
       "      <th>x0</th>\n",
       "      <th>x1</th>\n",
       "      <th>x2</th>\n",
       "      <th>x3</th>\n",
       "      <th>x4</th>\n",
       "      <th>x5</th>\n",
       "      <th>x6</th>\n",
       "      <th>x7</th>\n",
       "      <th>x8</th>\n",
       "      <th>x9</th>\n",
       "      <th>x10</th>\n",
       "    </tr>\n",
       "  </thead>\n",
       "  <tbody>\n",
       "    <tr>\n",
       "      <th>0</th>\n",
       "      <td>1.0</td>\n",
       "      <td>-2.00</td>\n",
       "      <td>4.0000</td>\n",
       "      <td>-8.000000</td>\n",
       "      <td>16.000000</td>\n",
       "      <td>-32.000000</td>\n",
       "      <td>64.000000</td>\n",
       "      <td>-128.000000</td>\n",
       "      <td>256.000000</td>\n",
       "      <td>-512.000000</td>\n",
       "      <td>1024.000000</td>\n",
       "    </tr>\n",
       "    <tr>\n",
       "      <th>1</th>\n",
       "      <td>1.0</td>\n",
       "      <td>-1.95</td>\n",
       "      <td>3.8025</td>\n",
       "      <td>-7.414875</td>\n",
       "      <td>14.459006</td>\n",
       "      <td>-28.195062</td>\n",
       "      <td>54.980371</td>\n",
       "      <td>-107.211724</td>\n",
       "      <td>209.062862</td>\n",
       "      <td>-407.672580</td>\n",
       "      <td>794.961532</td>\n",
       "    </tr>\n",
       "    <tr>\n",
       "      <th>2</th>\n",
       "      <td>1.0</td>\n",
       "      <td>-1.90</td>\n",
       "      <td>3.6100</td>\n",
       "      <td>-6.859000</td>\n",
       "      <td>13.032100</td>\n",
       "      <td>-24.760990</td>\n",
       "      <td>47.045881</td>\n",
       "      <td>-89.387174</td>\n",
       "      <td>169.835630</td>\n",
       "      <td>-322.687698</td>\n",
       "      <td>613.106626</td>\n",
       "    </tr>\n",
       "    <tr>\n",
       "      <th>3</th>\n",
       "      <td>1.0</td>\n",
       "      <td>-1.85</td>\n",
       "      <td>3.4225</td>\n",
       "      <td>-6.331625</td>\n",
       "      <td>11.713506</td>\n",
       "      <td>-21.669987</td>\n",
       "      <td>40.089475</td>\n",
       "      <td>-74.165529</td>\n",
       "      <td>137.206229</td>\n",
       "      <td>-253.831523</td>\n",
       "      <td>469.588318</td>\n",
       "    </tr>\n",
       "    <tr>\n",
       "      <th>4</th>\n",
       "      <td>1.0</td>\n",
       "      <td>-1.80</td>\n",
       "      <td>3.2400</td>\n",
       "      <td>-5.832000</td>\n",
       "      <td>10.497600</td>\n",
       "      <td>-18.895680</td>\n",
       "      <td>34.012224</td>\n",
       "      <td>-61.222003</td>\n",
       "      <td>110.199606</td>\n",
       "      <td>-198.359290</td>\n",
       "      <td>357.046723</td>\n",
       "    </tr>\n",
       "  </tbody>\n",
       "</table>\n",
       "</div>"
      ],
      "text/plain": [
       "    x0    x1      x2        x3         x4         x5         x6          x7  \\\n",
       "0  1.0 -2.00  4.0000 -8.000000  16.000000 -32.000000  64.000000 -128.000000   \n",
       "1  1.0 -1.95  3.8025 -7.414875  14.459006 -28.195062  54.980371 -107.211724   \n",
       "2  1.0 -1.90  3.6100 -6.859000  13.032100 -24.760990  47.045881  -89.387174   \n",
       "3  1.0 -1.85  3.4225 -6.331625  11.713506 -21.669987  40.089475  -74.165529   \n",
       "4  1.0 -1.80  3.2400 -5.832000  10.497600 -18.895680  34.012224  -61.222003   \n",
       "\n",
       "           x8          x9          x10  \n",
       "0  256.000000 -512.000000  1024.000000  \n",
       "1  209.062862 -407.672580   794.961532  \n",
       "2  169.835630 -322.687698   613.106626  \n",
       "3  137.206229 -253.831523   469.588318  \n",
       "4  110.199606 -198.359290   357.046723  "
      ]
     },
     "execution_count": 2,
     "metadata": {},
     "output_type": "execute_result"
    }
   ],
   "source": [
    "import pandas as pd\n",
    "\n",
    "column_names = ['x0','x1','x2','x3','x4','x5','x6','x7','x8','x9','x10']\n",
    "\n",
    "const_values = np.ones(len(x_ary))\n",
    "\n",
    "data = np.array([const_values, x_ary, x_ary**2, x_ary**3, x_ary**4, \n",
    "                 x_ary**5,x_ary**6, x_ary**7, x_ary**8, x_ary**9, \n",
    "                 x_ary**10])\n",
    "\n",
    "df = pd.DataFrame(data.T, columns = column_names)    \n",
    "df.head()"
   ]
  },
  {
   "cell_type": "markdown",
   "metadata": {
    "slideshow": {
     "slide_type": "slide"
    }
   },
   "source": [
    "## Ok let's run an OLS model using only the constant term\n",
    "\n",
    "$$y_0 = c_0 + \\epsilon$$"
   ]
  },
  {
   "cell_type": "code",
   "execution_count": 3,
   "metadata": {
    "slideshow": {
     "slide_type": "-"
    }
   },
   "outputs": [
    {
     "data": {
      "text/html": [
       "<table class=\"simpletable\">\n",
       "<caption>OLS Regression Results</caption>\n",
       "<tr>\n",
       "  <th>Dep. Variable:</th>            <td>y</td>        <th>  R-squared:         </th> <td>   0.000</td>\n",
       "</tr>\n",
       "<tr>\n",
       "  <th>Model:</th>                   <td>OLS</td>       <th>  Adj. R-squared:    </th> <td>   0.000</td>\n",
       "</tr>\n",
       "<tr>\n",
       "  <th>Method:</th>             <td>Least Squares</td>  <th>  F-statistic:       </th> <td>     nan</td>\n",
       "</tr>\n",
       "<tr>\n",
       "  <th>Date:</th>             <td>Thu, 24 Sep 2020</td> <th>  Prob (F-statistic):</th>  <td>   nan</td> \n",
       "</tr>\n",
       "<tr>\n",
       "  <th>Time:</th>                 <td>10:11:12</td>     <th>  Log-Likelihood:    </th> <td> -344.10</td>\n",
       "</tr>\n",
       "<tr>\n",
       "  <th>No. Observations:</th>      <td>    80</td>      <th>  AIC:               </th> <td>   690.2</td>\n",
       "</tr>\n",
       "<tr>\n",
       "  <th>Df Residuals:</th>          <td>    79</td>      <th>  BIC:               </th> <td>   692.6</td>\n",
       "</tr>\n",
       "<tr>\n",
       "  <th>Df Model:</th>              <td>     0</td>      <th>                     </th>     <td> </td>   \n",
       "</tr>\n",
       "<tr>\n",
       "  <th>Covariance Type:</th>      <td>nonrobust</td>    <th>                     </th>     <td> </td>   \n",
       "</tr>\n",
       "</table>\n",
       "<table class=\"simpletable\">\n",
       "<tr>\n",
       "   <td></td>     <th>coef</th>     <th>std err</th>      <th>t</th>      <th>P>|t|</th>  <th>[0.025</th>    <th>0.975]</th>  \n",
       "</tr>\n",
       "<tr>\n",
       "  <th>x0</th> <td>   -3.8682</td> <td>    2.009</td> <td>   -1.926</td> <td> 0.058</td> <td>   -7.867</td> <td>    0.130</td>\n",
       "</tr>\n",
       "</table>\n",
       "<table class=\"simpletable\">\n",
       "<tr>\n",
       "  <th>Omnibus:</th>       <td>13.787</td> <th>  Durbin-Watson:     </th> <td>   0.539</td>\n",
       "</tr>\n",
       "<tr>\n",
       "  <th>Prob(Omnibus):</th> <td> 0.001</td> <th>  Jarque-Bera (JB):  </th> <td>  14.995</td>\n",
       "</tr>\n",
       "<tr>\n",
       "  <th>Skew:</th>          <td>-1.011</td> <th>  Prob(JB):          </th> <td>0.000554</td>\n",
       "</tr>\n",
       "<tr>\n",
       "  <th>Kurtosis:</th>      <td> 3.642</td> <th>  Cond. No.          </th> <td>    1.00</td>\n",
       "</tr>\n",
       "</table><br/><br/>Warnings:<br/>[1] Standard Errors assume that the covariance matrix of the errors is correctly specified."
      ],
      "text/plain": [
       "<class 'statsmodels.iolib.summary.Summary'>\n",
       "\"\"\"\n",
       "                            OLS Regression Results                            \n",
       "==============================================================================\n",
       "Dep. Variable:                      y   R-squared:                       0.000\n",
       "Model:                            OLS   Adj. R-squared:                  0.000\n",
       "Method:                 Least Squares   F-statistic:                       nan\n",
       "Date:                Thu, 24 Sep 2020   Prob (F-statistic):                nan\n",
       "Time:                        10:11:12   Log-Likelihood:                -344.10\n",
       "No. Observations:                  80   AIC:                             690.2\n",
       "Df Residuals:                      79   BIC:                             692.6\n",
       "Df Model:                           0                                         \n",
       "Covariance Type:            nonrobust                                         \n",
       "==============================================================================\n",
       "                 coef    std err          t      P>|t|      [0.025      0.975]\n",
       "------------------------------------------------------------------------------\n",
       "x0            -3.8682      2.009     -1.926      0.058      -7.867       0.130\n",
       "==============================================================================\n",
       "Omnibus:                       13.787   Durbin-Watson:                   0.539\n",
       "Prob(Omnibus):                  0.001   Jarque-Bera (JB):               14.995\n",
       "Skew:                          -1.011   Prob(JB):                     0.000554\n",
       "Kurtosis:                       3.642   Cond. No.                         1.00\n",
       "==============================================================================\n",
       "\n",
       "Warnings:\n",
       "[1] Standard Errors assume that the covariance matrix of the errors is correctly specified.\n",
       "\"\"\""
      ]
     },
     "execution_count": 3,
     "metadata": {},
     "output_type": "execute_result"
    }
   ],
   "source": [
    "model = sm.OLS(y_noisy, df['x0']) # make the model\n",
    "results = model.fit() \n",
    "results.summary()"
   ]
  },
  {
   "cell_type": "markdown",
   "metadata": {
    "slideshow": {
     "slide_type": "slide"
    }
   },
   "source": [
    "## That was bad ($R^2 = 0$). Let's add the linear term.\n",
    "\n",
    "$$y_1 = c_1 x + c_0 + \\epsilon$$"
   ]
  },
  {
   "cell_type": "code",
   "execution_count": 4,
   "metadata": {
    "slideshow": {
     "slide_type": "-"
    }
   },
   "outputs": [
    {
     "data": {
      "text/html": [
       "<table class=\"simpletable\">\n",
       "<caption>OLS Regression Results</caption>\n",
       "<tr>\n",
       "  <th>Dep. Variable:</th>            <td>y</td>        <th>  R-squared:         </th> <td>   0.469</td>\n",
       "</tr>\n",
       "<tr>\n",
       "  <th>Model:</th>                   <td>OLS</td>       <th>  Adj. R-squared:    </th> <td>   0.462</td>\n",
       "</tr>\n",
       "<tr>\n",
       "  <th>Method:</th>             <td>Least Squares</td>  <th>  F-statistic:       </th> <td>   68.96</td>\n",
       "</tr>\n",
       "<tr>\n",
       "  <th>Date:</th>             <td>Thu, 24 Sep 2020</td> <th>  Prob (F-statistic):</th> <td>2.42e-12</td>\n",
       "</tr>\n",
       "<tr>\n",
       "  <th>Time:</th>                 <td>10:11:14</td>     <th>  Log-Likelihood:    </th> <td> -318.76</td>\n",
       "</tr>\n",
       "<tr>\n",
       "  <th>No. Observations:</th>      <td>    80</td>      <th>  AIC:               </th> <td>   641.5</td>\n",
       "</tr>\n",
       "<tr>\n",
       "  <th>Df Residuals:</th>          <td>    78</td>      <th>  BIC:               </th> <td>   646.3</td>\n",
       "</tr>\n",
       "<tr>\n",
       "  <th>Df Model:</th>              <td>     1</td>      <th>                     </th>     <td> </td>   \n",
       "</tr>\n",
       "<tr>\n",
       "  <th>Covariance Type:</th>      <td>nonrobust</td>    <th>                     </th>     <td> </td>   \n",
       "</tr>\n",
       "</table>\n",
       "<table class=\"simpletable\">\n",
       "<tr>\n",
       "   <td></td>     <th>coef</th>     <th>std err</th>      <th>t</th>      <th>P>|t|</th>  <th>[0.025</th>    <th>0.975]</th>  \n",
       "</tr>\n",
       "<tr>\n",
       "  <th>x0</th> <td>   -4.1330</td> <td>    1.473</td> <td>   -2.806</td> <td> 0.006</td> <td>   -7.066</td> <td>   -1.200</td>\n",
       "</tr>\n",
       "<tr>\n",
       "  <th>x1</th> <td>  -10.5928</td> <td>    1.276</td> <td>   -8.304</td> <td> 0.000</td> <td>  -13.132</td> <td>   -8.053</td>\n",
       "</tr>\n",
       "</table>\n",
       "<table class=\"simpletable\">\n",
       "<tr>\n",
       "  <th>Omnibus:</th>       <td> 4.286</td> <th>  Durbin-Watson:     </th> <td>   1.014</td>\n",
       "</tr>\n",
       "<tr>\n",
       "  <th>Prob(Omnibus):</th> <td> 0.117</td> <th>  Jarque-Bera (JB):  </th> <td>   4.015</td>\n",
       "</tr>\n",
       "<tr>\n",
       "  <th>Skew:</th>          <td>-0.483</td> <th>  Prob(JB):          </th> <td>   0.134</td>\n",
       "</tr>\n",
       "<tr>\n",
       "  <th>Kurtosis:</th>      <td> 2.480</td> <th>  Cond. No.          </th> <td>    1.16</td>\n",
       "</tr>\n",
       "</table><br/><br/>Warnings:<br/>[1] Standard Errors assume that the covariance matrix of the errors is correctly specified."
      ],
      "text/plain": [
       "<class 'statsmodels.iolib.summary.Summary'>\n",
       "\"\"\"\n",
       "                            OLS Regression Results                            \n",
       "==============================================================================\n",
       "Dep. Variable:                      y   R-squared:                       0.469\n",
       "Model:                            OLS   Adj. R-squared:                  0.462\n",
       "Method:                 Least Squares   F-statistic:                     68.96\n",
       "Date:                Thu, 24 Sep 2020   Prob (F-statistic):           2.42e-12\n",
       "Time:                        10:11:14   Log-Likelihood:                -318.76\n",
       "No. Observations:                  80   AIC:                             641.5\n",
       "Df Residuals:                      78   BIC:                             646.3\n",
       "Df Model:                           1                                         \n",
       "Covariance Type:            nonrobust                                         \n",
       "==============================================================================\n",
       "                 coef    std err          t      P>|t|      [0.025      0.975]\n",
       "------------------------------------------------------------------------------\n",
       "x0            -4.1330      1.473     -2.806      0.006      -7.066      -1.200\n",
       "x1           -10.5928      1.276     -8.304      0.000     -13.132      -8.053\n",
       "==============================================================================\n",
       "Omnibus:                        4.286   Durbin-Watson:                   1.014\n",
       "Prob(Omnibus):                  0.117   Jarque-Bera (JB):                4.015\n",
       "Skew:                          -0.483   Prob(JB):                        0.134\n",
       "Kurtosis:                       2.480   Cond. No.                         1.16\n",
       "==============================================================================\n",
       "\n",
       "Warnings:\n",
       "[1] Standard Errors assume that the covariance matrix of the errors is correctly specified.\n",
       "\"\"\""
      ]
     },
     "execution_count": 4,
     "metadata": {},
     "output_type": "execute_result"
    }
   ],
   "source": [
    "model = sm.OLS(y_noisy, df[['x0','x1']]) # make the model\n",
    "results = model.fit() \n",
    "results.summary()"
   ]
  },
  {
   "cell_type": "markdown",
   "metadata": {
    "slideshow": {
     "slide_type": "slide"
    }
   },
   "source": [
    "## That is better ($R^2 = 0.457$). Let's add the quadratic term\n",
    "\n",
    "$$y_2 = c_2 x^2 + c_1 x + c_0 + \\epsilon$$"
   ]
  },
  {
   "cell_type": "code",
   "execution_count": 5,
   "metadata": {},
   "outputs": [
    {
     "data": {
      "text/html": [
       "<table class=\"simpletable\">\n",
       "<caption>OLS Regression Results</caption>\n",
       "<tr>\n",
       "  <th>Dep. Variable:</th>            <td>y</td>        <th>  R-squared:         </th> <td>   0.714</td>\n",
       "</tr>\n",
       "<tr>\n",
       "  <th>Model:</th>                   <td>OLS</td>       <th>  Adj. R-squared:    </th> <td>   0.706</td>\n",
       "</tr>\n",
       "<tr>\n",
       "  <th>Method:</th>             <td>Least Squares</td>  <th>  F-statistic:       </th> <td>   96.07</td>\n",
       "</tr>\n",
       "<tr>\n",
       "  <th>Date:</th>             <td>Thu, 24 Sep 2020</td> <th>  Prob (F-statistic):</th> <td>1.19e-21</td>\n",
       "</tr>\n",
       "<tr>\n",
       "  <th>Time:</th>                 <td>10:11:15</td>     <th>  Log-Likelihood:    </th> <td> -294.04</td>\n",
       "</tr>\n",
       "<tr>\n",
       "  <th>No. Observations:</th>      <td>    80</td>      <th>  AIC:               </th> <td>   594.1</td>\n",
       "</tr>\n",
       "<tr>\n",
       "  <th>Df Residuals:</th>          <td>    77</td>      <th>  BIC:               </th> <td>   601.2</td>\n",
       "</tr>\n",
       "<tr>\n",
       "  <th>Df Model:</th>              <td>     2</td>      <th>                     </th>     <td> </td>   \n",
       "</tr>\n",
       "<tr>\n",
       "  <th>Covariance Type:</th>      <td>nonrobust</td>    <th>                     </th>     <td> </td>   \n",
       "</tr>\n",
       "</table>\n",
       "<table class=\"simpletable\">\n",
       "<tr>\n",
       "   <td></td>     <th>coef</th>     <th>std err</th>      <th>t</th>      <th>P>|t|</th>  <th>[0.025</th>    <th>0.975]</th>  \n",
       "</tr>\n",
       "<tr>\n",
       "  <th>x0</th> <td>    5.7385</td> <td>    1.632</td> <td>    3.515</td> <td> 0.001</td> <td>    2.488</td> <td>    8.989</td>\n",
       "</tr>\n",
       "<tr>\n",
       "  <th>x1</th> <td>  -10.9633</td> <td>    0.944</td> <td>  -11.617</td> <td> 0.000</td> <td>  -12.842</td> <td>   -9.084</td>\n",
       "</tr>\n",
       "<tr>\n",
       "  <th>x2</th> <td>   -7.4083</td> <td>    0.913</td> <td>   -8.115</td> <td> 0.000</td> <td>   -9.226</td> <td>   -5.590</td>\n",
       "</tr>\n",
       "</table>\n",
       "<table class=\"simpletable\">\n",
       "<tr>\n",
       "  <th>Omnibus:</th>       <td>13.192</td> <th>  Durbin-Watson:     </th> <td>   1.870</td>\n",
       "</tr>\n",
       "<tr>\n",
       "  <th>Prob(Omnibus):</th> <td> 0.001</td> <th>  Jarque-Bera (JB):  </th> <td>   3.971</td>\n",
       "</tr>\n",
       "<tr>\n",
       "  <th>Skew:</th>          <td> 0.143</td> <th>  Prob(JB):          </th> <td>   0.137</td>\n",
       "</tr>\n",
       "<tr>\n",
       "  <th>Kurtosis:</th>      <td> 1.947</td> <th>  Cond. No.          </th> <td>    3.21</td>\n",
       "</tr>\n",
       "</table><br/><br/>Warnings:<br/>[1] Standard Errors assume that the covariance matrix of the errors is correctly specified."
      ],
      "text/plain": [
       "<class 'statsmodels.iolib.summary.Summary'>\n",
       "\"\"\"\n",
       "                            OLS Regression Results                            \n",
       "==============================================================================\n",
       "Dep. Variable:                      y   R-squared:                       0.714\n",
       "Model:                            OLS   Adj. R-squared:                  0.706\n",
       "Method:                 Least Squares   F-statistic:                     96.07\n",
       "Date:                Thu, 24 Sep 2020   Prob (F-statistic):           1.19e-21\n",
       "Time:                        10:11:15   Log-Likelihood:                -294.04\n",
       "No. Observations:                  80   AIC:                             594.1\n",
       "Df Residuals:                      77   BIC:                             601.2\n",
       "Df Model:                           2                                         \n",
       "Covariance Type:            nonrobust                                         \n",
       "==============================================================================\n",
       "                 coef    std err          t      P>|t|      [0.025      0.975]\n",
       "------------------------------------------------------------------------------\n",
       "x0             5.7385      1.632      3.515      0.001       2.488       8.989\n",
       "x1           -10.9633      0.944    -11.617      0.000     -12.842      -9.084\n",
       "x2            -7.4083      0.913     -8.115      0.000      -9.226      -5.590\n",
       "==============================================================================\n",
       "Omnibus:                       13.192   Durbin-Watson:                   1.870\n",
       "Prob(Omnibus):                  0.001   Jarque-Bera (JB):                3.971\n",
       "Skew:                           0.143   Prob(JB):                        0.137\n",
       "Kurtosis:                       1.947   Cond. No.                         3.21\n",
       "==============================================================================\n",
       "\n",
       "Warnings:\n",
       "[1] Standard Errors assume that the covariance matrix of the errors is correctly specified.\n",
       "\"\"\""
      ]
     },
     "execution_count": 5,
     "metadata": {},
     "output_type": "execute_result"
    }
   ],
   "source": [
    "model = sm.OLS(y_noisy, df[['x0','x1', 'x2']]) # make the model\n",
    "results = model.fit() \n",
    "results.summary()"
   ]
  },
  {
   "cell_type": "markdown",
   "metadata": {
    "slideshow": {
     "slide_type": "slide"
    }
   },
   "source": [
    "## Ok let's run this for each choice with increasing powers of $x$\n",
    "$$y_0 = c_0 + \\epsilon$$\n",
    "$$y_1 = c_1 x + c_0 + \\epsilon$$\n",
    "$$\\dots$$\n",
    "$$y_{10} = c_0 + c_1x + c_2x^2 + c_3x^3 + c_4x^4 + c_5x^5 + c_6x^6 + c_7 x^7 + c_8 x^8 + c_9 x^9 + c_{10} x^{10} +\\epsilon $$"
   ]
  },
  {
   "cell_type": "code",
   "execution_count": 6,
   "metadata": {
    "slideshow": {
     "slide_type": "-"
    }
   },
   "outputs": [
    {
     "data": {
      "image/png": "[encoded data removed]",
      "text/plain": [
       "<Figure size 288x288 with 1 Axes>"
      ]
     },
     "metadata": {
      "needs_background": "light"
     },
     "output_type": "display_data"
    }
   ],
   "source": [
    "rsqr_arry = []\n",
    "columns = []\n",
    "\n",
    "for column in column_names:\n",
    "    \n",
    "    columns.append(column)\n",
    "    model = sm.OLS(y_noisy, df[columns]) # make the model\n",
    "    results = model.fit()                 # run the OLS fit\n",
    "    rsqr_arry.append(results.rsquared_adj)\n",
    "\n",
    "fig = plt.figure(figsize=(4,4))\n",
    "plt.plot(np.arange(0,11,1), rsqr_arry, 'x-')\n",
    "plt.xlabel('Power', fontsize = 14)\n",
    "plt.ylabel(r'$R^2$', fontsize = 14);"
   ]
  },
  {
   "cell_type": "markdown",
   "metadata": {
    "slideshow": {
     "slide_type": "slide"
    }
   },
   "source": [
    "## The quality of the fit \"saturates\" at $x^5$\n",
    "\n",
    "As we might have expected, $y_5 = c_0 + c_1x + c_2x^2 + c_3x^3 + c_4x^4 + c_5x^5 +\\epsilon $ produces the \"best\" model"
   ]
  },
  {
   "cell_type": "code",
   "execution_count": 7,
   "metadata": {
    "slideshow": {
     "slide_type": "-"
    }
   },
   "outputs": [
    {
     "data": {
      "text/plain": [
       "<matplotlib.legend.Legend at 0x7ff7811ad910>"
      ]
     },
     "execution_count": 7,
     "metadata": {},
     "output_type": "execute_result"
    },
    {
     "data": {
      "image/png": "[encoded data removed]",
      "text/plain": [
       "<Figure size 288x288 with 1 Axes>"
      ]
     },
     "metadata": {
      "needs_background": "light"
     },
     "output_type": "display_data"
    }
   ],
   "source": [
    "best_fit = ['x0', 'x1', 'x2', 'x3', 'x4', 'x5']\n",
    "\n",
    "model = sm.OLS(y_noisy, df[best_fit]) # make the model\n",
    "results_b = model.fit() \n",
    "\n",
    "fig = plt.figure(figsize=(4,4))\n",
    "plt.plot(x_ary, y_noisy, 'o')\n",
    "plt.plot(x_ary, results_b.predict(), '-x')\n",
    "plt.xlabel('x', fontsize = 14)\n",
    "plt.ylabel('y', fontsize = 14)\n",
    "plt.legend(['data', 'best fit'], fontsize = 14)"
   ]
  },
  {
   "cell_type": "markdown",
   "metadata": {
    "slideshow": {
     "slide_type": "slide"
    }
   },
   "source": [
    "## Let's look at the fits of other models\n",
    "\n",
    "Linear fit: $y_1 = c_1 x + c_0 +\\epsilon$\n",
    "\n",
    "This is underfitting!"
   ]
  },
  {
   "cell_type": "code",
   "execution_count": 8,
   "metadata": {
    "slideshow": {
     "slide_type": "-"
    }
   },
   "outputs": [
    {
     "data": {
      "text/plain": [
       "<matplotlib.legend.Legend at 0x7ff770dacf50>"
      ]
     },
     "execution_count": 8,
     "metadata": {},
     "output_type": "execute_result"
    },
    {
     "data": {
      "image/png": "[encoded data removed]",
      "text/plain": [
       "<Figure size 288x288 with 1 Axes>"
      ]
     },
     "metadata": {
      "needs_background": "light"
     },
     "output_type": "display_data"
    }
   ],
   "source": [
    "linear_fit = ['x0','x1']\n",
    "\n",
    "model = sm.OLS(y_noisy, df[linear_fit]) # make the model\n",
    "results_l = model.fit() \n",
    "\n",
    "fig = plt.figure(figsize=(4,4))\n",
    "plt.plot(x_ary, y_noisy, 'o')\n",
    "plt.plot(x_ary, results_l.predict(), '-o')\n",
    "plt.xlabel('x', fontsize = 14)\n",
    "plt.ylabel('y', fontsize = 14)\n",
    "plt.legend(['data', 'linear fit'], fontsize = 14)"
   ]
  },
  {
   "cell_type": "markdown",
   "metadata": {
    "slideshow": {
     "slide_type": "slide"
    }
   },
   "source": [
    "## Let's look at the fits of other models\n",
    "\n",
    "Full fit: $y = c_0 + c_1x + c_2x^2 + c_3x^3 + c_4x^4 + c_5x^5 + c_6x^6 + c_7 x^7 + c_8 x^8 + c_9 x^9 + c_{10} x^{10} +\\epsilon $$\n",
    "\n",
    "This is overfitting!"
   ]
  },
  {
   "cell_type": "code",
   "execution_count": 9,
   "metadata": {},
   "outputs": [
    {
     "data": {
      "text/plain": [
       "<matplotlib.legend.Legend at 0x7ff7909f3a90>"
      ]
     },
     "execution_count": 9,
     "metadata": {},
     "output_type": "execute_result"
    },
    {
     "data": {
      "image/png": "[encoded data removed]",
      "text/plain": [
       "<Figure size 288x288 with 1 Axes>"
      ]
     },
     "metadata": {
      "needs_background": "light"
     },
     "output_type": "display_data"
    }
   ],
   "source": [
    "full_fit = ['x0','x1','x2','x3','x4','x5','x6','x7','x8','x9','x10']\n",
    "\n",
    "model = sm.OLS(y_noisy, df[full_fit]) # make the model\n",
    "results_f = model.fit() \n",
    "\n",
    "fig = plt.figure(figsize=(4,4))\n",
    "plt.plot(x_ary, y_noisy, 'o')\n",
    "plt.plot(x_ary, results_f.predict(), '-s')\n",
    "plt.xlabel('x', fontsize = 14)\n",
    "plt.ylabel('y', fontsize = 14)\n",
    "plt.legend(['data', 'full fit'], fontsize = 14)"
   ]
  },
  {
   "cell_type": "markdown",
   "metadata": {
    "slideshow": {
     "slide_type": "slide"
    }
   },
   "source": [
    "## Let's compare the best fit to the full fit"
   ]
  },
  {
   "cell_type": "code",
   "execution_count": 10,
   "metadata": {
    "slideshow": {
     "slide_type": "-"
    }
   },
   "outputs": [
    {
     "data": {
      "text/plain": [
       "<matplotlib.legend.Legend at 0x7ff790a31ed0>"
      ]
     },
     "execution_count": 10,
     "metadata": {},
     "output_type": "execute_result"
    },
    {
     "data": {
      "image/png": "[encoded data removed]",
      "text/plain": [
       "<Figure size 576x288 with 2 Axes>"
      ]
     },
     "metadata": {
      "needs_background": "light"
     },
     "output_type": "display_data"
    }
   ],
   "source": [
    "fig,(ax1, ax2) = plt.subplots(1, 2, figsize = (8,4))\n",
    "\n",
    "ax1.plot(x_ary, y_ary, '-', lw = 2)\n",
    "ax1.plot(x_ary, y_noisy, 'o')\n",
    "ax1.plot(x_ary, results_b.predict(), '-s')\n",
    "ax2.plot(x_ary, y_ary, '-', lw = 2)\n",
    "ax2.plot(x_ary, y_noisy, 'o')\n",
    "ax2.plot(x_ary, results_f.predict(), '-d')\n",
    "ax1.set_xlabel('x', fontsize = 14)\n",
    "ax2.set_xlabel('x', fontsize = 14)\n",
    "ax1.set_ylabel('y', fontsize = 14)\n",
    "ax2.set_ylabel('y', fontsize = 14)\n",
    "ax1.legend(['original', 'data', 'best_fit'], fontsize = 14)\n",
    "ax2.legend(['original', 'data', 'full_fit'], fontsize = 14)"
   ]
  },
  {
   "cell_type": "markdown",
   "metadata": {
    "slideshow": {
     "slide_type": "slide"
    }
   },
   "source": [
    "## Let's compare the data to the fitted values\n",
    "\n",
    "We would expect a perfect model to produce a line."
   ]
  },
  {
   "cell_type": "code",
   "execution_count": 11,
   "metadata": {
    "slideshow": {
     "slide_type": "-"
    }
   },
   "outputs": [
    {
     "data": {
      "text/plain": [
       "<matplotlib.legend.Legend at 0x7ff760ee6d50>"
      ]
     },
     "execution_count": 11,
     "metadata": {},
     "output_type": "execute_result"
    },
    {
     "data": {
      "image/png": "[encoded data removed]",
      "text/plain": [
       "<Figure size 288x288 with 1 Axes>"
      ]
     },
     "metadata": {
      "needs_background": "light"
     },
     "output_type": "display_data"
    }
   ],
   "source": [
    "fig = plt.figure(figsize = (4,4))\n",
    "plt.plot(y_noisy, results_l.predict(), 'd')\n",
    "plt.plot(y_noisy, results_b.predict(), 's')\n",
    "\n",
    "plt.plot([-60,20], [-60,20], '-r', lw=2)\n",
    "plt.xlabel('data', fontsize = 14)\n",
    "plt.ylabel('fitted values', fontsize = 14)\n",
    "plt.legend(['linear fit', 'best fit'], fontsize = 14)"
   ]
  },
  {
   "cell_type": "markdown",
   "metadata": {
    "slideshow": {
     "slide_type": "slide"
    }
   },
   "source": [
    "# Questions, Comments, Concerns?"
   ]
  },
  {
   "cell_type": "code",
   "execution_count": null,
   "metadata": {
    "slideshow": {
     "slide_type": "skip"
    }
   },
   "outputs": [],
   "source": []
  }
 ],
 "metadata": {
  "celltoolbar": "Slideshow",
  "kernelspec": {
   "display_name": "Python 3 CMSE",
   "language": "python",
   "name": "python3cmse"
  },
  "language_info": {
   "codemirror_mode": {
    "name": "ipython",
    "version": 3
   },
   "file_extension": ".py",
   "mimetype": "text/x-python",
   "name": "python",
   "nbconvert_exporter": "python",
   "pygments_lexer": "ipython3",
   "version": "3.7.9"
  }
 },
 "nbformat": 4,
 "nbformat_minor": 4
}
