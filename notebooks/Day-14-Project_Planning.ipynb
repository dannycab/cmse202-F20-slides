{
 "cells": [
  {
   "cell_type": "markdown",
   "metadata": {
    "slideshow": {
     "slide_type": "slide"
    }
   },
   "source": [
    "# Day 14 Project Planning\n",
    "## Nov. 3, 2020\n",
    "\n",
    "<img src=\"./images/cmse.png\"\n",
    "     alt=\"CMSE logo\"\n",
    "     style=\"float: right; margin-left: 50px; width: 600px;\" />"
   ]
  },
  {
   "cell_type": "markdown",
   "metadata": {
    "slideshow": {
     "slide_type": "slide"
    }
   },
   "source": [
    "# Administrative\n",
    "\n",
    "## A few changes\n",
    "* **Homework 4** is due Fri Nov 13\n",
    "* **Homework 5** will be due the week of Nov 30th (after Thanksgiving)\n",
    "* **Final Project** will be due during finals week\n",
    "* **There will be no final exam.**\n",
    "\n",
    "## Course material\n",
    "* In lieu or more material, we are likely to reserve the last few class periods for project work time.\n",
    "* The idea is to reduce the stress of working on a final project remotely and reserve in-class time to make progess and ask questions of instructors."
   ]
  },
  {
   "cell_type": "markdown",
   "metadata": {
    "slideshow": {
     "slide_type": "slide"
    }
   },
   "source": [
    "# Projects\n",
    "\n",
    "* Today, we will construct ideas for group projects (you started the with the pre-class).\n",
    "* We will also try to characterize what makes a good project.\n",
    "* Later this week, you will get a survey asking you to rank your project interests\n",
    "* You will work in groups based on those interests\n",
    "\n",
    "## Some Details\n",
    "* The project consists of a notebook where you analyze or model something original\n",
    "* You will prepare a 4-5 minute video presenting the project\n",
    "* You will be asked to provide feedback on 3 other projects\n",
    "\n",
    "**Grading details coming soon**"
   ]
  },
  {
   "cell_type": "markdown",
   "metadata": {
    "slideshow": {
     "slide_type": "slide"
    }
   },
   "source": [
    "## Post Election Listening Spaces\n",
    "\n",
    "**CAPS Post-Election Listening Space** – This CAPS Listening Space is meant to serve MSU students who need a safe space to talk and listen post-election.\n",
    "* **Wednesday, November 4th 12:00-1:00 pm**\n",
    "* Facilitated by Dr. Mark Patishnock, Dr. Lee Wang, and Dan Murphy, MA.\n",
    "* For questions, please contact Dr. Mark Patishnock: [patishn1@msu.edu](mailto:patishn1@msu.edu)\n",
    "* **Registration Link:** [msuhipaa.zoom.us/meeting/register/tJ0vduqrqTwrG9f0LBbgkj_NcE-2hgB3Yz_T](https://msuhipaa.zoom.us/meeting/register/tJ0vduqrqTwrG9f0LBbgkj_NcE-2hgB3Yz_T)\n",
    "\n",
    "**Listening Space for Coping with Racial Concerns and the Election** – This listening space is intended to explore the intersectionality of race in connection to the election. This is a listening space geared towards students of color who are having racial concerns in connection to the election. Undergraduate and Graduate MSU Students welcome.\n",
    "* **Monday, November 9, 2020 at 1:00pm**\n",
    "* Facilitated by Dr. Markie Silverman, Ph.D. & Dr. James Bruce, Ph.D.\n",
    "* Contact facilitator indicated for questions – Dr. Markie Silverman: [silve162@msu.edu](mailto:silve162@msu.edu)\n",
    "* **Register in advance (HIPAA-Compliant Zoom Platform):** [msuhipaa.zoom.us/meeting/register/tJAlf-yqrD4oEtDfgb5PKex8X6Iv5KJ0VUKY](https://msuhipaa.zoom.us/meeting/register/tJAlf-yqrD4oEtDfgb5PKex8X6Iv5KJ0VUKY)"
   ]
  },
  {
   "cell_type": "markdown",
   "metadata": {
    "slideshow": {
     "slide_type": "slide"
    }
   },
   "source": [
    "# Questions, Comments, Concerns?"
   ]
  },
  {
   "cell_type": "code",
   "execution_count": null,
   "metadata": {
    "slideshow": {
     "slide_type": "skip"
    }
   },
   "outputs": [],
   "source": []
  }
 ],
 "metadata": {
  "celltoolbar": "Slideshow",
  "kernelspec": {
   "display_name": "Python 3 CMSE",
   "language": "python",
   "name": "python3cmse"
  },
  "language_info": {
   "codemirror_mode": {
    "name": "ipython",
    "version": 3
   },
   "file_extension": ".py",
   "mimetype": "text/x-python",
   "name": "python",
   "nbconvert_exporter": "python",
   "pygments_lexer": "ipython3",
   "version": "3.7.9"
  }
 },
 "nbformat": 4,
 "nbformat_minor": 4
}
