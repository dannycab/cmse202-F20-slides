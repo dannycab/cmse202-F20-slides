{
 "cells": [
  {
   "cell_type": "markdown",
   "metadata": {
    "slideshow": {
     "slide_type": "slide"
    }
   },
   "source": [
    "# Day 03 - Working with `Pandas`\n",
    "## Sept. 15, 2020\n",
    "\n",
    "<img src=\"./images/cmse.png\"\n",
    "     alt=\"CMSE logo\"\n",
    "     style=\"float: right; margin-left: 50px; width: 600px;\" />"
   ]
  },
  {
   "cell_type": "markdown",
   "metadata": {
    "slideshow": {
     "slide_type": "slide"
    }
   },
   "source": [
    "# Administrative\n",
    "\n",
    "* **Office Hours**: Posted on website and D2L\n",
    "    * Zoom link: https://msu.zoom.us/j/97957751894 password: help4me\n",
    "* **Groups**: Reminder set your name to indicate your group number\n",
    "    * We will stay out of your breakout rooms for about 10 minutes\n",
    "    * This is to give you time to get started and read the assignment together\n",
    "    * Request help if you need it during that time\n",
    "* **Homework 1**: Now on EGR website and on D2L\n",
    "    * Due by midnight Sept 25th; graded in about a week\n",
    "* **Class Discussion**: We decided to change our approach to class discussion starting this week. \n",
    "    * We will ask a random group to report on their work and results at the end of class. \n",
    "    * We will tell you if your group is selected at the beginning of class. \n",
    "    * We will close the breakout rooms at 11:55am for this and to answer additional questions.\n",
    "\n",
    "\n",
    "## Any questions?"
   ]
  },
  {
   "cell_type": "markdown",
   "metadata": {
    "slideshow": {
     "slide_type": "slide"
    }
   },
   "source": [
    "# From Pre-Class Assignment\n",
    "\n",
    "## Challenging bits\n",
    "\n",
    "* I am confused on making the 3D array that represents color (Numpy arrays can be N-dimensional)\n",
    "* I was struggling with the last question on how to print students who earn greater than 3.0 (slicing dataframes with logic)\n",
    "\n",
    "**You will get more practice with the second skill today**"
   ]
  },
  {
   "cell_type": "code",
   "execution_count": 1,
   "metadata": {
    "slideshow": {
     "slide_type": "slide"
    }
   },
   "outputs": [
    {
     "name": "stdout",
     "output_type": "stream",
     "text": [
      "\n",
      "1D Array of length 10\n",
      "[0. 0. 0. 0. 0. 0. 0. 0. 0. 0.] \n",
      "Size:  (10,)\n",
      "\n",
      "2D Array that is 3 by 3\n",
      "[[0. 0. 0.]\n",
      " [0. 0. 0.]\n",
      " [0. 0. 0.]] \n",
      "Size:  (3, 3)\n"
     ]
    }
   ],
   "source": [
    "import numpy as np\n",
    "\n",
    "# 1D Array of length 10\n",
    "print('\\n1D Array of length 10')\n",
    "a = np.zeros(10)\n",
    "print(a,\"\\nSize: \", a.shape)\n",
    "\n",
    "# 2D Array that is 3 by 3\n",
    "print('\\n2D Array that is 3 by 3')\n",
    "b = np.zeros([3,3])\n",
    "print(b,\"\\nSize: \", b.shape)"
   ]
  },
  {
   "cell_type": "code",
   "execution_count": 2,
   "metadata": {
    "slideshow": {
     "slide_type": "slide"
    }
   },
   "outputs": [
    {
     "name": "stdout",
     "output_type": "stream",
     "text": [
      "\n",
      "3D Array that is 4 by 5 by 3\n",
      "[[[0. 0. 0.]\n",
      "  [0. 0. 0.]\n",
      "  [0. 0. 0.]\n",
      "  [0. 0. 0.]\n",
      "  [0. 0. 0.]]\n",
      "\n",
      " [[0. 0. 0.]\n",
      "  [0. 0. 0.]\n",
      "  [0. 0. 0.]\n",
      "  [0. 0. 0.]\n",
      "  [0. 0. 0.]]\n",
      "\n",
      " [[0. 0. 0.]\n",
      "  [0. 0. 0.]\n",
      "  [0. 0. 0.]\n",
      "  [0. 0. 0.]\n",
      "  [0. 0. 0.]]\n",
      "\n",
      " [[0. 0. 0.]\n",
      "  [0. 0. 0.]\n",
      "  [0. 0. 0.]\n",
      "  [0. 0. 0.]\n",
      "  [0. 0. 0.]]] \n",
      "Size:  (4, 5, 3)\n"
     ]
    }
   ],
   "source": [
    "# 3D Array that is 4 by 5 by 3\n",
    "print('\\n3D Array that is 4 by 5 by 3')\n",
    "c = np.zeros([4,5,3])\n",
    "print(c,\"\\nSize: \", c.shape)"
   ]
  },
  {
   "cell_type": "code",
   "execution_count": 3,
   "metadata": {
    "slideshow": {
     "slide_type": "slide"
    }
   },
   "outputs": [
    {
     "data": {
      "text/html": [
       "<div>\n",
       "<style scoped>\n",
       "    .dataframe tbody tr th:only-of-type {\n",
       "        vertical-align: middle;\n",
       "    }\n",
       "\n",
       "    .dataframe tbody tr th {\n",
       "        vertical-align: top;\n",
       "    }\n",
       "\n",
       "    .dataframe thead th {\n",
       "        text-align: right;\n",
       "    }\n",
       "</style>\n",
       "<table border=\"1\" class=\"dataframe\">\n",
       "  <thead>\n",
       "    <tr style=\"text-align: right;\">\n",
       "      <th></th>\n",
       "      <th>name</th>\n",
       "      <th>pid</th>\n",
       "      <th>total</th>\n",
       "      <th>grade</th>\n",
       "    </tr>\n",
       "  </thead>\n",
       "  <tbody>\n",
       "    <tr>\n",
       "      <th>0</th>\n",
       "      <td>mac</td>\n",
       "      <td>2081</td>\n",
       "      <td>60</td>\n",
       "      <td>2.0</td>\n",
       "    </tr>\n",
       "    <tr>\n",
       "      <th>1</th>\n",
       "      <td>dee</td>\n",
       "      <td>2082</td>\n",
       "      <td>95</td>\n",
       "      <td>4.0</td>\n",
       "    </tr>\n",
       "    <tr>\n",
       "      <th>2</th>\n",
       "      <td>dennis</td>\n",
       "      <td>2083</td>\n",
       "      <td>75</td>\n",
       "      <td>3.0</td>\n",
       "    </tr>\n",
       "    <tr>\n",
       "      <th>3</th>\n",
       "      <td>charlie</td>\n",
       "      <td>2084</td>\n",
       "      <td>5</td>\n",
       "      <td>0.0</td>\n",
       "    </tr>\n",
       "    <tr>\n",
       "      <th>4</th>\n",
       "      <td>frank</td>\n",
       "      <td>2085</td>\n",
       "      <td>85</td>\n",
       "      <td>3.5</td>\n",
       "    </tr>\n",
       "  </tbody>\n",
       "</table>\n",
       "</div>"
      ],
      "text/plain": [
       "      name   pid  total  grade\n",
       "0      mac  2081     60    2.0\n",
       "1      dee  2082     95    4.0\n",
       "2   dennis  2083     75    3.0\n",
       "3  charlie  2084      5    0.0\n",
       "4    frank  2085     85    3.5"
      ]
     },
     "execution_count": 3,
     "metadata": {},
     "output_type": "execute_result"
    }
   ],
   "source": [
    "import pandas as pd\n",
    "\n",
    "# Create a dictionary of student records\n",
    "student_dict = {\"name\":[\"mac\",\"dee\",\"dennis\",\"charlie\",\"frank\"],\n",
    "                 \"pid\":[2081, 2082, 2083, 2084, 2085],\n",
    "                 \"total\":[60,95,75,5,85],\n",
    "                 \"grade\": [2,4,3,0,3.5]}\n",
    "\n",
    "# Create a dataframe from the dictionary\n",
    "student_df = pd.DataFrame(student_dict)\n",
    "\n",
    "student_df"
   ]
  },
  {
   "cell_type": "code",
   "execution_count": 4,
   "metadata": {
    "slideshow": {
     "slide_type": "slide"
    }
   },
   "outputs": [
    {
     "data": {
      "text/plain": [
       "0    False\n",
       "1     True\n",
       "2     True\n",
       "3    False\n",
       "4     True\n",
       "Name: grade, dtype: bool"
      ]
     },
     "execution_count": 4,
     "metadata": {},
     "output_type": "execute_result"
    }
   ],
   "source": [
    "# Check the logic on grades\n",
    "student_df['grade'] >= 3.0\n",
    "\n",
    "# This generates binary values that can be used to slice dataframes"
   ]
  },
  {
   "cell_type": "code",
   "execution_count": 5,
   "metadata": {
    "slideshow": {
     "slide_type": "slide"
    }
   },
   "outputs": [
    {
     "data": {
      "text/html": [
       "<div>\n",
       "<style scoped>\n",
       "    .dataframe tbody tr th:only-of-type {\n",
       "        vertical-align: middle;\n",
       "    }\n",
       "\n",
       "    .dataframe tbody tr th {\n",
       "        vertical-align: top;\n",
       "    }\n",
       "\n",
       "    .dataframe thead th {\n",
       "        text-align: right;\n",
       "    }\n",
       "</style>\n",
       "<table border=\"1\" class=\"dataframe\">\n",
       "  <thead>\n",
       "    <tr style=\"text-align: right;\">\n",
       "      <th></th>\n",
       "      <th>name</th>\n",
       "      <th>pid</th>\n",
       "      <th>total</th>\n",
       "      <th>grade</th>\n",
       "    </tr>\n",
       "  </thead>\n",
       "  <tbody>\n",
       "    <tr>\n",
       "      <th>1</th>\n",
       "      <td>dee</td>\n",
       "      <td>2082</td>\n",
       "      <td>95</td>\n",
       "      <td>4.0</td>\n",
       "    </tr>\n",
       "    <tr>\n",
       "      <th>2</th>\n",
       "      <td>dennis</td>\n",
       "      <td>2083</td>\n",
       "      <td>75</td>\n",
       "      <td>3.0</td>\n",
       "    </tr>\n",
       "    <tr>\n",
       "      <th>4</th>\n",
       "      <td>frank</td>\n",
       "      <td>2085</td>\n",
       "      <td>85</td>\n",
       "      <td>3.5</td>\n",
       "    </tr>\n",
       "  </tbody>\n",
       "</table>\n",
       "</div>"
      ],
      "text/plain": [
       "     name   pid  total  grade\n",
       "1     dee  2082     95    4.0\n",
       "2  dennis  2083     75    3.0\n",
       "4   frank  2085     85    3.5"
      ]
     },
     "execution_count": 5,
     "metadata": {},
     "output_type": "execute_result"
    }
   ],
   "source": [
    "# Slice the dataframe\n",
    "\n",
    "student_df[student_df['grade'] >= 3.0]"
   ]
  },
  {
   "cell_type": "markdown",
   "metadata": {
    "slideshow": {
     "slide_type": "slide"
    }
   },
   "source": [
    "# Questions, Comments, Concerns?"
   ]
  },
  {
   "cell_type": "code",
   "execution_count": null,
   "metadata": {
    "slideshow": {
     "slide_type": "skip"
    }
   },
   "outputs": [],
   "source": []
  }
 ],
 "metadata": {
  "celltoolbar": "Slideshow",
  "kernelspec": {
   "display_name": "Python 3 CMSE",
   "language": "python",
   "name": "python3cmse"
  },
  "language_info": {
   "codemirror_mode": {
    "name": "ipython",
    "version": 3
   },
   "file_extension": ".py",
   "mimetype": "text/x-python",
   "name": "python",
   "nbconvert_exporter": "python",
   "pygments_lexer": "ipython3",
   "version": "3.7.9"
  }
 },
 "nbformat": 4,
 "nbformat_minor": 4
}
