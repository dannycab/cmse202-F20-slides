{
 "cells": [
  {
   "cell_type": "markdown",
   "metadata": {
    "slideshow": {
     "slide_type": "slide"
    }
   },
   "source": [
    "# Day 03 - Working with `Pandas`\n",
    "## Sept. 15, 2020\n",
    "\n",
    "<img src=\"./images/cmse.png\"\n",
    "     alt=\"CMSE logo\"\n",
    "     style=\"float: right; margin-left: 50px; width: 600px;\" />"
   ]
  },
  {
   "cell_type": "markdown",
   "metadata": {
    "slideshow": {
     "slide_type": "slide"
    }
   },
   "source": [
    "# Administrative\n",
    "\n",
    "* **Office Hours**: Posted on website and D2L\n",
    "    * Zoom link: https://msu.zoom.us/j/97957751894 password: help4me\n",
    "* **Groups**: Reminder set your name to indicate your group number\n",
    "* **Homework 1**: Now on EGR website and on D2L; due by midnight Sept 25th\n",
    "* **Class Discussion**: We decided to change our approach to class discussion starting this week. \n",
    "    * We will ask a random group to report on their work and results at the end of class. \n",
    "    * We will tell you if your group is selected at the beginning of class. \n",
    "    * We will close the breakout rooms at 11:55am for this and to answer additional questions.\n",
    "\n",
    "\n",
    "## Any questions?"
   ]
  },
  {
   "cell_type": "markdown",
   "metadata": {
    "slideshow": {
     "slide_type": "slide"
    }
   },
   "source": [
    "# From Pre-Class Assignment"
   ]
  },
  {
   "cell_type": "code",
   "execution_count": null,
   "metadata": {
    "slideshow": {
     "slide_type": "skip"
    }
   },
   "outputs": [],
   "source": []
  }
 ],
 "metadata": {
  "celltoolbar": "Slideshow",
  "kernelspec": {
   "display_name": "Python 3 CMSE",
   "language": "python",
   "name": "python3cmse"
  },
  "language_info": {
   "codemirror_mode": {
    "name": "ipython",
    "version": 3
   },
   "file_extension": ".py",
   "mimetype": "text/x-python",
   "name": "python",
   "nbconvert_exporter": "python",
   "pygments_lexer": "ipython3",
   "version": "3.7.9"
  }
 },
 "nbformat": 4,
 "nbformat_minor": 4
}
