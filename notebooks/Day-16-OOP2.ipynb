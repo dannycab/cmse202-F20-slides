{
 "cells": [
  {
   "cell_type": "markdown",
   "metadata": {
    "slideshow": {
     "slide_type": "slide"
    }
   },
   "source": [
    "# Day 16 Object-Oriented Programming 2\n",
    "## Nov. 10, 2020\n",
    "\n",
    "<img src=\"./images/cmse.png\"\n",
    "     alt=\"CMSE logo\"\n",
    "     style=\"float: right; margin-left: 50px; width: 600px;\" />"
   ]
  },
  {
   "cell_type": "markdown",
   "metadata": {
    "slideshow": {
     "slide_type": "slide"
    }
   },
   "source": [
    "# Administrative\n",
    "\n",
    "* **Homework 4** is due Fri Nov 13\n",
    "* **Projects** Project groups assigned (Email and D2L)\n",
    "* **Midterm** is graded. Folks generally did well (91.5% average!).\n",
    "* **No final exam**"
   ]
  },
  {
   "cell_type": "markdown",
   "metadata": {
    "slideshow": {
     "slide_type": "slide"
    }
   },
   "source": [
    "# Project Groups\n",
    "\n",
    "* Tried to assign you to a group with your first/second choice\n",
    "* Not possible for everybody, but tried to keep same topical area\n",
    "* Groups have 3-5 people in them; based on mutual interests\n",
    "* You will be asked to share the contributions of each member of your group as part of the final project"
   ]
  },
  {
   "cell_type": "markdown",
   "metadata": {
    "slideshow": {
     "slide_type": "slide"
    }
   },
   "source": [
    "# Pre-Class\n",
    "\n",
    "* Not too much confusion, more questions of **why**?\n",
    "* A couple questions about `__str__` vs `__repr__`"
   ]
  },
  {
   "cell_type": "code",
   "execution_count": 2,
   "metadata": {
    "slideshow": {
     "slide_type": "slide"
    }
   },
   "outputs": [],
   "source": [
    "class Point(object):\n",
    "   def __init__(self,x=0,y=0):\n",
    "        self.x_coord = x\n",
    "        self.y_coord = y\n",
    "   def translate(self,x=0,y=0):\n",
    "        self.x_coord += x\n",
    "        self.y_coord += y\n",
    "   def print_point(self):\n",
    "        print(\"({:d},{:d})\".format(self.x_coord, self.y_coord))"
   ]
  },
  {
   "cell_type": "code",
   "execution_count": 5,
   "metadata": {},
   "outputs": [
    {
     "name": "stdout",
     "output_type": "stream",
     "text": [
      "(1,2)\n"
     ]
    }
   ],
   "source": [
    "my_point = Point(1,2)\n",
    "my_point.print_point()"
   ]
  },
  {
   "cell_type": "code",
   "execution_count": 6,
   "metadata": {
    "slideshow": {
     "slide_type": "slide"
    }
   },
   "outputs": [],
   "source": [
    " class Point(object):\n",
    "   def __init__(self,x=0,y=0):\n",
    "        self.x_coord = x\n",
    "        self.y_coord = y\n",
    "   def translate(self,x=0,y=0):\n",
    "        self.x_coord += x\n",
    "        self.y_coord += y\n",
    "   def __str__(self):\n",
    "        return \"({:d},{:d})\".format(self.x_coord, self.y_coord)"
   ]
  },
  {
   "cell_type": "code",
   "execution_count": 7,
   "metadata": {},
   "outputs": [
    {
     "name": "stdout",
     "output_type": "stream",
     "text": [
      "(2,3)\n"
     ]
    }
   ],
   "source": [
    "new_point = Point(2,3)\n",
    "print(new_point)"
   ]
  },
  {
   "cell_type": "markdown",
   "metadata": {
    "slideshow": {
     "slide_type": "slide"
    }
   },
   "source": [
    "# `__str__` vs `__repr__`\n",
    "\n",
    "* `__str__` finds the informal (human readable) string\n",
    "* `__repr__` find the formal (official) string"
   ]
  },
  {
   "cell_type": "code",
   "execution_count": 12,
   "metadata": {},
   "outputs": [
    {
     "data": {
      "text/plain": [
       "'2020-11-10 10:31:19.554885'"
      ]
     },
     "execution_count": 12,
     "metadata": {},
     "output_type": "execute_result"
    }
   ],
   "source": [
    "import datetime\n",
    "now = datetime.datetime.now()\n",
    "str(now)"
   ]
  },
  {
   "cell_type": "code",
   "execution_count": 13,
   "metadata": {},
   "outputs": [
    {
     "data": {
      "text/plain": [
       "'datetime.datetime(2020, 11, 10, 10, 31, 19, 554885)'"
      ]
     },
     "execution_count": 13,
     "metadata": {},
     "output_type": "execute_result"
    }
   ],
   "source": [
    "repr(now)"
   ]
  },
  {
   "cell_type": "markdown",
   "metadata": {
    "slideshow": {
     "slide_type": "slide"
    }
   },
   "source": [
    "# `__str__` vs `__repr__`\n",
    "\n",
    "| str()                        | repr()                               |\n",
    "|------------------------------|--------------------------------------|\n",
    "| Make object readable         | Required code that reproduces object |\n",
    "| Generate output for end user | Generate output for a developer      |\n",
    "|                              |                                      |"
   ]
  },
  {
   "cell_type": "markdown",
   "metadata": {
    "slideshow": {
     "slide_type": "slide"
    }
   },
   "source": [
    "# Questions, Comments, Concerns?"
   ]
  },
  {
   "cell_type": "code",
   "execution_count": null,
   "metadata": {
    "slideshow": {
     "slide_type": "skip"
    }
   },
   "outputs": [],
   "source": []
  }
 ],
 "metadata": {
  "celltoolbar": "Slideshow",
  "kernelspec": {
   "display_name": "Python 3 CMSE",
   "language": "python",
   "name": "python3cmse"
  },
  "language_info": {
   "codemirror_mode": {
    "name": "ipython",
    "version": 3
   },
   "file_extension": ".py",
   "mimetype": "text/x-python",
   "name": "python",
   "nbconvert_exporter": "python",
   "pygments_lexer": "ipython3",
   "version": "3.7.9"
  }
 },
 "nbformat": 4,
 "nbformat_minor": 4
}
