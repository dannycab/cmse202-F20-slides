{
 "cells": [
  {
   "cell_type": "markdown",
   "metadata": {
    "slideshow": {
     "slide_type": "slide"
    }
   },
   "source": [
    "# Day 10 - K Nearest Neighbors and Evaluating Classification Models\n",
    "## Oct. 8, 2020\n",
    "\n",
    "<img src=\"./images/cmse.png\"\n",
    "     alt=\"CMSE logo\"\n",
    "     style=\"float: right; margin-left: 50px; width: 600px;\" />"
   ]
  },
  {
   "cell_type": "markdown",
   "metadata": {
    "slideshow": {
     "slide_type": "slide"
    }
   },
   "source": [
    "# Administrative\n",
    "\n",
    "* **Homework 3** will be assigned Friday 10/9 and due Friday 10/23\n",
    "* **Midterm** will be given Thursday 10/29 in class\n",
    "* Please complete this MidSemester survey: [www.egr.msu.edu/mid-semester-evaluation](https://www.egr.msu.edu/mid-semester-evaluation)"
   ]
  },
  {
   "cell_type": "markdown",
   "metadata": {
    "slideshow": {
     "slide_type": "slide"
    }
   },
   "source": [
    "# From Pre-Class Assignment\n",
    "\n",
    "## Useful Stuff\n",
    "\n",
    "* Videos were useful, but they were a little long\n",
    "* I have a better idea of how we are evaluating classification models\n",
    "\n",
    "\n",
    "## Challenging bits\n",
    "\n",
    "* There's so much terminology, do I have to remember it all?\n",
    "* I'm still confused about the ROC and what it is doing.\n",
    "* How is KNN a binary classifier?"
   ]
  },
  {
   "cell_type": "markdown",
   "metadata": {
    "slideshow": {
     "slide_type": "slide"
    }
   },
   "source": [
    "# The Confusion Matrix\n",
    "\n",
    "<img src=\"https://miro.medium.com/max/2102/1*fxiTNIgOyvAombPJx5KGeA.png\" width=500px/>\n",
    "\n",
    "`from sklearn.metrics import confusion_matrix`<br/>\n",
    "`confusion_matrix(y_true, y_predicted)`"
   ]
  },
  {
   "cell_type": "markdown",
   "metadata": {
    "slideshow": {
     "slide_type": "slide"
    }
   },
   "source": [
    "# Other Metrics\n",
    "\n",
    "* Sensitivity (Recall): The ratio of True Positives to all True Cases $\\dfrac{TP}{TP+FN}$\n",
    "* Specificity: The ratio of True Negatives to all True Cases $\\dfrac{TN}{TN+FP}$\n",
    "* Precision: The ratio of True Positives to all Predicted Positives: $\\dfrac{TP}{TP+FP}$\n",
    "\n",
    "* $F_1$ Score: A balanced measure (0 to 1) that includes sensitity and recall: $\\dfrac{2 TP}{2TP + FP + FN}$"
   ]
  },
  {
   "cell_type": "markdown",
   "metadata": {
    "slideshow": {
     "slide_type": "slide"
    }
   },
   "source": [
    "# ROC Curve and AUC\n",
    "\n",
    "<img src=\"https://glassboxmedicine.files.wordpress.com/2019/02/roc-curve-v2.png?w=576\" />\n",
    "\n",
    "`from sklearn import metrics`<br/>\n",
    "`fpr, tpr, thresholds = metrics.roc_curve(y_true, y_predict)`<br/>\n",
    "`roc_auc = metrics.auc(fpr, tpr)`<br/>\n",
    "`plt.plot(fpr, tpr)`"
   ]
  },
  {
   "cell_type": "markdown",
   "metadata": {
    "slideshow": {
     "slide_type": "slide"
    }
   },
   "source": [
    "# KNN as a Binary Classifier\n",
    "\n",
    "<img src=\"https://miro.medium.com/max/1142/0*OsxZZEhguUfFABsP.png\" />"
   ]
  },
  {
   "cell_type": "markdown",
   "metadata": {
    "slideshow": {
     "slide_type": "slide"
    }
   },
   "source": [
    "## A Heads Up for Today\n",
    "\n",
    "Working with Pima Diabetes Database, which has problems (zeros for various entries). We have given you a cleaned data set on D2L (you will need to download it again!).\n",
    "\n",
    "**You can skip 2.1 and 2.2 today and go to 2.3; we will discuss how to clean that data after class.**"
   ]
  },
  {
   "cell_type": "markdown",
   "metadata": {
    "slideshow": {
     "slide_type": "slide"
    }
   },
   "source": [
    "# Questions, Comments, Concerns?"
   ]
  },
  {
   "cell_type": "code",
   "execution_count": null,
   "metadata": {
    "slideshow": {
     "slide_type": "skip"
    }
   },
   "outputs": [],
   "source": []
  }
 ],
 "metadata": {
  "celltoolbar": "Slideshow",
  "kernelspec": {
   "display_name": "Python 3 CMSE",
   "language": "python",
   "name": "python3cmse"
  },
  "language_info": {
   "codemirror_mode": {
    "name": "ipython",
    "version": 3
   },
   "file_extension": ".py",
   "mimetype": "text/x-python",
   "name": "python",
   "nbconvert_exporter": "python",
   "pygments_lexer": "ipython3",
   "version": "3.7.9"
  }
 },
 "nbformat": 4,
 "nbformat_minor": 4
}
