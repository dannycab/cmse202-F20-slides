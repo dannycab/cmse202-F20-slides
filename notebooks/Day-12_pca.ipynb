{
 "cells": [
  {
   "cell_type": "markdown",
   "metadata": {
    "slideshow": {
     "slide_type": "slide"
    }
   },
   "source": [
    "# Day 12 - Principal Component Analysis\n",
    "## Oct. 20, 2020\n",
    "\n",
    "<img src=\"./images/cmse.png\"\n",
    "     alt=\"CMSE logo\"\n",
    "     style=\"float: right; margin-left: 50px; width: 600px;\" />"
   ]
  },
  {
   "cell_type": "markdown",
   "metadata": {
    "slideshow": {
     "slide_type": "slide"
    }
   },
   "source": [
    "# Administrative\n",
    "\n",
    "* **Midterm** will be given Thursday 10/29 in class\n",
    "    * Study Guide posted on D2L\n",
    "    * Thursday: Discussion of questions for review\n",
    "    * Tuesday: Midterm review assignment and discussion\n",
    "* **Thursday's Class:**\n",
    "    * We will spend the first ~1/3 of class checking in with you (re: mental health and strategies that are working)\n",
    "    * We will spend the last ~2/3 brainstorming detailed questions and tasks for the review on Tuesday"
   ]
  },
  {
   "cell_type": "markdown",
   "metadata": {
    "slideshow": {
     "slide_type": "slide"
    }
   },
   "source": [
    "# Sec 003 Midterm\n",
    "\n",
    "## Classification Problem\n",
    "\n",
    "**In this midterm you will be asked to:**\n",
    "\n",
    "* Read in a data set and describe different properties of it (counts, means, etc.)\n",
    "* Investigate the data for less relevant features and drop them\n",
    "* Visualize feature spaces and discuss the plots\n",
    "* Build a classification model using the train/test paradigm\n",
    "* Evaluate and discuss the fit of model using testing data\n",
    "\n",
    "Nearly everything we have done so far is important for your success on the midterm. But we are focused on classification and modeling with the train/test split on the midterm.\n",
    "\n",
    "**Assignments to definitely study: Day-09, Day-10, Day 11, and Day 11.5**"
   ]
  },
  {
   "cell_type": "markdown",
   "metadata": {
    "slideshow": {
     "slide_type": "slide"
    }
   },
   "source": [
    "# From Pre-Class Assignment\n",
    "\n",
    "\n",
    "## Useful bits\n",
    "\n",
    "* Most folks got the code working\n",
    "* Videos were helpful in understanding the conceptual aspects of PCA\n",
    "\n",
    "## Challenging bits\n",
    "\n",
    "Some really great questions:\n",
    "* Why do we need to use a PCA?\n",
    "* When do we use a PCA?\n",
    "* What is the PCA doing with the iris data set?"
   ]
  },
  {
   "cell_type": "markdown",
   "metadata": {
    "slideshow": {
     "slide_type": "slide"
    }
   },
   "source": [
    "# Principal Component Analysis (PCA)\n",
    "\n",
    "<img src=\"https://miro.medium.com/max/2000/1*ba0XpZtJrgh7UpzWcIgZ1Q.jpeg\" width=600px/>\n",
    "\n"
   ]
  },
  {
   "cell_type": "markdown",
   "metadata": {
    "slideshow": {
     "slide_type": "slide"
    }
   },
   "source": [
    "# Why do we need PCA?\n",
    "\n",
    "There are _lots_ of reasons, but two major ones are below.\n",
    "\n",
    "* Consider a data set with many, many features. It might be computationally intensive to perform analysis on such a large data set, so instead we use PCA to extra the major contributions to the modeled output and analyze the components instead. **Benefit: less computationally intensive; quicker work**\n",
    "* Consider a data set with a basis that has signifcant overlap between features. That is, it's hard to tell what's important and what isn't. PCA can produce a better basis with similar (sometimes the same) information for modeling. **Benefit: more meaningful features; more accurate models**"
   ]
  },
  {
   "cell_type": "markdown",
   "metadata": {
    "slideshow": {
     "slide_type": "slide"
    }
   },
   "source": [
    "## Let's dive into the iris data set to see this"
   ]
  },
  {
   "cell_type": "code",
   "execution_count": 14,
   "metadata": {
    "slideshow": {
     "slide_type": "-"
    }
   },
   "outputs": [],
   "source": [
    "##imports\n",
    "import numpy as np\n",
    "import scipy.linalg\n",
    "import sklearn.decomposition as dec\n",
    "import sklearn.datasets as ds\n",
    "import matplotlib.pyplot as plt\n",
    "import pandas as pd\n",
    "\n",
    "iris = ds.load_iris()\n",
    "data = pd.DataFrame(iris.data, columns=['sepal_length', 'sepal_width', 'petal_length', 'petal_width'])\n",
    "target = pd.DataFrame(iris.target, columns=['species'])"
   ]
  },
  {
   "cell_type": "markdown",
   "metadata": {
    "slideshow": {
     "slide_type": "slide"
    }
   },
   "source": [
    "## Let's look at the data"
   ]
  },
  {
   "cell_type": "code",
   "execution_count": 15,
   "metadata": {},
   "outputs": [
    {
     "data": {
      "text/plain": [
       "(4.0, 8.0, 2.0, 4.5)"
      ]
     },
     "execution_count": 15,
     "metadata": {},
     "output_type": "execute_result"
    },
    {
     "data": {
      "image/png": "[encoded data removed]",
      "text/plain": [
       "<Figure size 576x360 with 1 Axes>"
      ]
     },
     "metadata": {
      "needs_background": "light"
     },
     "output_type": "display_data"
    }
   ],
   "source": [
    "plt.figure(figsize=(8,5));\n",
    "plt.scatter(data['sepal_length'],data['sepal_width'], c=target['species'], s=30, cmap=plt.cm.rainbow);\n",
    "plt.xlabel('feature 0'); plt.ylabel('feature 1')\n",
    "plt.axis([4, 8, 2, 4.5])"
   ]
  },
  {
   "cell_type": "markdown",
   "metadata": {
    "slideshow": {
     "slide_type": "slide"
    }
   },
   "source": [
    "## Let's make a KNN classifier"
   ]
  },
  {
   "cell_type": "code",
   "execution_count": 21,
   "metadata": {
    "slideshow": {
     "slide_type": "-"
    }
   },
   "outputs": [
    {
     "name": "stdout",
     "output_type": "stream",
     "text": [
      "[[15  0  0]\n",
      " [ 0 10  2]\n",
      " [ 0  0 11]]\n",
      "0.9473684210526315\n"
     ]
    }
   ],
   "source": [
    "from sklearn.model_selection import train_test_split\n",
    "from sklearn.neighbors import KNeighborsClassifier\n",
    "from sklearn.metrics import confusion_matrix, roc_curve, roc_auc_score\n",
    "\n",
    "train_features, test_features, train_labels, test_labels = train_test_split(data, \n",
    "                                                                            target['species'], \n",
    "                                                                            train_size = 0.75,\n",
    "                                                                            random_state=3)\n",
    "neigh = KNeighborsClassifier(n_neighbors=3)\n",
    "neigh.fit(train_features, train_labels)\n",
    "\n",
    "y_predict = neigh.predict(test_features)\n",
    "print(confusion_matrix(test_labels, y_predict))\n",
    "print(neigh.score(test_features, test_labels))"
   ]
  },
  {
   "cell_type": "markdown",
   "metadata": {
    "slideshow": {
     "slide_type": "slide"
    }
   },
   "source": [
    "## What happens if we use fewer features?"
   ]
  },
  {
   "cell_type": "code",
   "execution_count": 22,
   "metadata": {},
   "outputs": [
    {
     "name": "stdout",
     "output_type": "stream",
     "text": [
      "[[14  1  0]\n",
      " [ 0  7  5]\n",
      " [ 0  7  4]]\n",
      "0.6578947368421053\n"
     ]
    }
   ],
   "source": [
    "train_features, test_features, train_labels, test_labels = train_test_split(data.drop(columns=['petal_length','petal_width']), \n",
    "                                                                            target['species'], \n",
    "                                                                            train_size = 0.75,\n",
    "                                                                            random_state=3)\n",
    "neigh = KNeighborsClassifier(n_neighbors=3)\n",
    "neigh.fit(train_features, train_labels)\n",
    "\n",
    "y_predict = neigh.predict(test_features)\n",
    "print(confusion_matrix(test_labels, y_predict))\n",
    "print(neigh.score(test_features, test_labels))"
   ]
  },
  {
   "cell_type": "markdown",
   "metadata": {
    "slideshow": {
     "slide_type": "slide"
    }
   },
   "source": [
    "## Let's do a PCA to find the principal components"
   ]
  },
  {
   "cell_type": "code",
   "execution_count": 23,
   "metadata": {
    "scrolled": true
   },
   "outputs": [
    {
     "name": "stdout",
     "output_type": "stream",
     "text": [
      "[4.22824171 0.24267075 0.0782095  0.02383509]\n"
     ]
    },
    {
     "data": {
      "text/plain": [
       "(-4.0, 4.0, -1.5, 1.5)"
      ]
     },
     "execution_count": 23,
     "metadata": {},
     "output_type": "execute_result"
    },
    {
     "data": {
      "image/png": "[encoded data removed]",
      "text/plain": [
       "<Figure size 576x216 with 1 Axes>"
      ]
     },
     "metadata": {
      "needs_background": "light"
     },
     "output_type": "display_data"
    }
   ],
   "source": [
    "pca = dec.PCA()\n",
    "pca_data = pca.fit_transform(data)\n",
    "print(pca.explained_variance_)\n",
    "\n",
    "pca_data = pd.DataFrame(pca_data, columns=['PC1', 'PC2', 'PC3', 'PC4'])\n",
    "plt.figure(figsize=(8,3));\n",
    "plt.scatter(pca_data['PC1'], pca_data['PC2'], c=target['species'], s=30, cmap=plt.cm.rainbow);\n",
    "plt.xlabel('PC1'); plt.ylabel('PC2')\n",
    "plt.axis([-4, 4, -1.5, 1.5])"
   ]
  },
  {
   "cell_type": "markdown",
   "metadata": {
    "slideshow": {
     "slide_type": "slide"
    }
   },
   "source": [
    "## Let's train a KNN model"
   ]
  },
  {
   "cell_type": "code",
   "execution_count": 24,
   "metadata": {
    "slideshow": {
     "slide_type": "-"
    }
   },
   "outputs": [
    {
     "name": "stdout",
     "output_type": "stream",
     "text": [
      "[[15  0  0]\n",
      " [ 0 10  2]\n",
      " [ 0  0 11]]\n",
      "0.9473684210526315\n"
     ]
    }
   ],
   "source": [
    "train_features, test_features, train_labels, test_labels = train_test_split(pca_data, \n",
    "                                                                            target['species'], \n",
    "                                                                            train_size = 0.75,\n",
    "                                                                            random_state=3)\n",
    "neigh = KNeighborsClassifier(n_neighbors=3)\n",
    "neigh.fit(train_features, train_labels)\n",
    "\n",
    "y_predict = neigh.predict(test_features)\n",
    "print(confusion_matrix(test_labels, y_predict))\n",
    "print(neigh.score(test_features, test_labels))"
   ]
  },
  {
   "cell_type": "markdown",
   "metadata": {
    "slideshow": {
     "slide_type": "slide"
    }
   },
   "source": [
    "## Let's use only the first two principal components"
   ]
  },
  {
   "cell_type": "code",
   "execution_count": 25,
   "metadata": {},
   "outputs": [
    {
     "name": "stdout",
     "output_type": "stream",
     "text": [
      "[[15  0  0]\n",
      " [ 0 10  2]\n",
      " [ 0  0 11]]\n",
      "0.9473684210526315\n"
     ]
    }
   ],
   "source": [
    "train_features, test_features, train_labels, test_labels = train_test_split(pca_data.drop(columns=['PC3','PC4']), \n",
    "                                                                            target['species'], \n",
    "                                                                            train_size = 0.75,\n",
    "                                                                            random_state=3)\n",
    "neigh = KNeighborsClassifier(n_neighbors=3)\n",
    "neigh.fit(train_features, train_labels)\n",
    "\n",
    "y_predict = neigh.predict(test_features)\n",
    "print(confusion_matrix(test_labels, y_predict))\n",
    "print(neigh.score(test_features, test_labels))"
   ]
  },
  {
   "cell_type": "markdown",
   "metadata": {
    "slideshow": {
     "slide_type": "slide"
    }
   },
   "source": [
    "# Questions, Comments, Concerns?"
   ]
  },
  {
   "cell_type": "code",
   "execution_count": null,
   "metadata": {
    "slideshow": {
     "slide_type": "skip"
    }
   },
   "outputs": [],
   "source": []
  }
 ],
 "metadata": {
  "celltoolbar": "Slideshow",
  "kernelspec": {
   "display_name": "Python 3 CMSE",
   "language": "python",
   "name": "python3cmse"
  },
  "language_info": {
   "codemirror_mode": {
    "name": "ipython",
    "version": 3
   },
   "file_extension": ".py",
   "mimetype": "text/x-python",
   "name": "python",
   "nbconvert_exporter": "python",
   "pygments_lexer": "ipython3",
   "version": "3.7.9"
  }
 },
 "nbformat": 4,
 "nbformat_minor": 4
}
