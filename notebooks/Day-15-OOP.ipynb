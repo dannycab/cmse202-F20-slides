{
 "cells": [
  {
   "cell_type": "markdown",
   "metadata": {
    "slideshow": {
     "slide_type": "slide"
    }
   },
   "source": [
    "# Day 15 Object-Oriented Programming\n",
    "## Nov. 5, 2020\n",
    "\n",
    "<img src=\"./images/cmse.png\"\n",
    "     alt=\"CMSE logo\"\n",
    "     style=\"float: right; margin-left: 50px; width: 600px;\" />"
   ]
  },
  {
   "cell_type": "markdown",
   "metadata": {
    "slideshow": {
     "slide_type": "slide"
    }
   },
   "source": [
    "# Administrative\n",
    "\n",
    "* **Homework 4** is due Fri Nov 13\n",
    "* **Projects** Complete the [project survey](https://forms.office.com/Pages/ResponsePage.aspx?id=MHEXIi9k2UGSEXQjetVofZ9A4y0usw5BgldwZMkLxr5UN1hONUs1NUNMWExQTkUxQ1UxWUVVODFWWS4u) by Friday! Only 18 responses so far.\n",
    "* **Midterm** is being graded. Done by early next week.\n",
    "* **No final exam**"
   ]
  },
  {
   "cell_type": "markdown",
   "metadata": {
    "slideshow": {
     "slide_type": "slide"
    }
   },
   "source": [
    "# Pre-Class\n",
    "\n",
    "## Questions/Issues\n",
    "* I'm confused about classes and instances and what the differences are\n",
    "* When are we creating/using attributes versus methods?\n",
    "* Why/when do we need to use Object-Oriented Programming?\n",
    "\n",
    "**We will be doing some more OOP on Tuesday and we will start using it in models after that.**"
   ]
  },
  {
   "cell_type": "code",
   "execution_count": 15,
   "metadata": {
    "slideshow": {
     "slide_type": "slide"
    }
   },
   "outputs": [],
   "source": [
    "class Point(object):\n",
    "   def __init__(self,x=0,y=0,z=0):\n",
    "        self.x_coord = x ## setting the attribute x_coord\n",
    "        self.y_coord = y ## setting the attribute y_coord\n",
    "        self.z_coord = z"
   ]
  },
  {
   "cell_type": "code",
   "execution_count": 16,
   "metadata": {},
   "outputs": [
    {
     "name": "stdout",
     "output_type": "stream",
     "text": [
      "1\n"
     ]
    },
    {
     "data": {
      "text/plain": [
       "0"
      ]
     },
     "execution_count": 16,
     "metadata": {},
     "output_type": "execute_result"
    }
   ],
   "source": [
    "my_point = Point(2,3) ## creating an instance of Point called 'my_point'\n",
    "#print(my_point.x_coord)\n",
    "#print(my_point.y_coord)\n",
    "my_point.z_coord = 1\n",
    "print(my_point.z_coord)\n",
    "\n",
    "new_point = Point()\n",
    "new_point.z_coord"
   ]
  },
  {
   "cell_type": "code",
   "execution_count": 17,
   "metadata": {
    "slideshow": {
     "slide_type": "slide"
    }
   },
   "outputs": [],
   "source": [
    "class Point(object):\n",
    "   def __init__(self,x=0,y=0):\n",
    "        self.x_coord = x\n",
    "        self.y_coord = y\n",
    "   def translate(self,x=0,y=0):\n",
    "        self.x_coord += x\n",
    "        self.y_coord += y\n",
    "   def print_point(self):\n",
    "        print(\"({:d},{:d})\".format(self.x_coord, self.y_coord))"
   ]
  },
  {
   "cell_type": "code",
   "execution_count": 21,
   "metadata": {},
   "outputs": [
    {
     "name": "stdout",
     "output_type": "stream",
     "text": [
      "(0,0)\n",
      "(-1,2)\n",
      "(0,0)\n"
     ]
    }
   ],
   "source": [
    "my_point = Point()\n",
    "my_point.print_point()\n",
    "my_point.translate(-1,2)\n",
    "my_point.print_point()\n",
    "my_point.translate(1,-2)\n",
    "my_point.print_point()"
   ]
  },
  {
   "cell_type": "markdown",
   "metadata": {
    "slideshow": {
     "slide_type": "slide"
    }
   },
   "source": [
    "# Questions, Comments, Concerns?"
   ]
  },
  {
   "cell_type": "code",
   "execution_count": null,
   "metadata": {
    "slideshow": {
     "slide_type": "skip"
    }
   },
   "outputs": [],
   "source": []
  }
 ],
 "metadata": {
  "celltoolbar": "Slideshow",
  "kernelspec": {
   "display_name": "Python 3 CMSE",
   "language": "python",
   "name": "python3cmse"
  },
  "language_info": {
   "codemirror_mode": {
    "name": "ipython",
    "version": 3
   },
   "file_extension": ".py",
   "mimetype": "text/x-python",
   "name": "python",
   "nbconvert_exporter": "python",
   "pygments_lexer": "ipython3",
   "version": "3.7.9"
  }
 },
 "nbformat": 4,
 "nbformat_minor": 4
}
