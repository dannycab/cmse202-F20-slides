{
 "cells": [
  {
   "cell_type": "markdown",
   "metadata": {
    "slideshow": {
     "slide_type": "slide"
    }
   },
   "source": [
    "# Day 22 Artificial Neural Networks 2\n",
    "## Dec 3, 2020\n",
    "\n",
    "<img src=\"./images/cmse.png\"\n",
    "     alt=\"CMSE logo\"\n",
    "     style=\"float: right; margin-left: 50px; width: 600px;\" />"
   ]
  },
  {
   "cell_type": "markdown",
   "metadata": {
    "slideshow": {
     "slide_type": "slide"
    }
   },
   "source": [
    "# Announcements\n",
    "\n",
    "* **Homework 5** Working with Tensorflow. Due this Friday. This is the last homework assignment!\n",
    "    * Having trouble installing tensorflow? Use Google Colab (just upload your notebook).\n",
    "* **Projects** Rubric posted to D2L.\n",
    "    * Due Dec 14th; Review 3 projects by Dec 16th\n",
    "    * 8-10 minute video presentation + documented notebook on your analysis\n",
    "    * 3 In-class work periods for the project"
   ]
  },
  {
   "cell_type": "markdown",
   "metadata": {
    "slideshow": {
     "slide_type": "slide"
    }
   },
   "source": [
    "# Calendar\n",
    "\n",
    "\n",
    "## This week\n",
    "* Thursday 12/3: Day 21 Neural Networks 2\n",
    "\n",
    "## Last week of classes\n",
    "* Tuesday 12/8: Project work day 3\n",
    "* Thursday 12/10: Project work day 4"
   ]
  },
  {
   "cell_type": "markdown",
   "metadata": {
    "slideshow": {
     "slide_type": "slide"
    }
   },
   "source": [
    "# Artificial Neural Networks\n",
    "\n",
    "<img src=\"https://upload.wikimedia.org/wikipedia/commons/thumb/4/46/Colored_neural_network.svg/500px-Colored_neural_network.svg.png\" />"
   ]
  },
  {
   "cell_type": "markdown",
   "metadata": {
    "slideshow": {
     "slide_type": "slide"
    }
   },
   "source": [
    "## Today\n",
    "\n",
    "* We are going to work with a [code base](https://raw.githubusercontent.com/stephencwelch/Neural-Networks-Demystified/master/partSix.py) that implements a Neural Network class. \n",
    "* You will make some changes to the code base to make it more general.\n",
    "* You and your groups will need to read through the code base to understand how its works."
   ]
  },
  {
   "cell_type": "markdown",
   "metadata": {
    "slideshow": {
     "slide_type": "slide"
    }
   },
   "source": [
    "## Let's go over the pre-class\n",
    "\n",
    "Assume you have a set of feature (`features`) and labels (`labels`).\n",
    "\n",
    "Using this code base, we will create a Neural Network instance.\n",
    "\n",
    "```NN = Neural_Network()```\n",
    "\n",
    "We can then perform forward propagation using the `.forward` method.\n",
    "\n",
    "```NN.forward(features)```\n",
    "\n",
    "**Note: For the existing code base, the Neural Network class has specified values for input layers, hidden layers, and output layers.**"
   ]
  },
  {
   "cell_type": "markdown",
   "metadata": {
    "slideshow": {
     "slide_type": "slide"
    }
   },
   "source": [
    "## How do we train a model?\n",
    "\n",
    "Again, assume you have a set of feature (`features`) and labels (`labels`).\n",
    "\n",
    "Using this code base, we will create a trainer instance.\n",
    "\n",
    "```T = trainer(NN)```\n",
    "\n",
    "We can then train the model on our data using the `.train` method.\n",
    "\n",
    "```T.train(features, labels)```\n",
    "\n",
    "**Note: You need to pass the Neural Network instance to create a trainer instance.**"
   ]
  },
  {
   "cell_type": "markdown",
   "metadata": {
    "slideshow": {
     "slide_type": "slide"
    }
   },
   "source": [
    "# Questions, Comments, Concerns?"
   ]
  },
  {
   "cell_type": "code",
   "execution_count": null,
   "metadata": {
    "slideshow": {
     "slide_type": "skip"
    }
   },
   "outputs": [],
   "source": []
  }
 ],
 "metadata": {
  "celltoolbar": "Slideshow",
  "kernelspec": {
   "display_name": "Python 3 CMSE",
   "language": "python",
   "name": "python3cmse"
  },
  "language_info": {
   "codemirror_mode": {
    "name": "ipython",
    "version": 3
   },
   "file_extension": ".py",
   "mimetype": "text/x-python",
   "name": "python",
   "nbconvert_exporter": "python",
   "pygments_lexer": "ipython3",
   "version": "3.7.9"
  }
 },
 "nbformat": 4,
 "nbformat_minor": 4
}
