{
 "cells": [
  {
   "cell_type": "markdown",
   "metadata": {
    "slideshow": {
     "slide_type": "slide"
    }
   },
   "source": [
    "# Day 13 MidTerm Review\n",
    "## Oct. 27, 2020\n",
    "\n",
    "<img src=\"./images/cmse.png\"\n",
    "     alt=\"CMSE logo\"\n",
    "     style=\"float: right; margin-left: 50px; width: 600px;\" />"
   ]
  },
  {
   "cell_type": "markdown",
   "metadata": {
    "slideshow": {
     "slide_type": "slide"
    }
   },
   "source": [
    "# Administrative\n",
    "\n",
    "* **Midterm** will be given Thursday 10/29 in class\n",
    "    * Study Guide posted on D2L\n",
    "    * Today: Review and Discussion"
   ]
  },
  {
   "cell_type": "markdown",
   "metadata": {
    "slideshow": {
     "slide_type": "slide"
    }
   },
   "source": [
    "# November 3rd is election day\n",
    "* It is very important for you to vote. We know for some of you it will be your first election.\n",
    "    * **Michigan has same day voter registration!**\n",
    "* Complete your absentee ballot and use the local ballot drop.\n",
    "* Want to vote in person? \n",
    "    * Find your polling station online: [vote411.org](https://www.vote411.org/)\n",
    "* Make sure to vote on state-wide proposals\n",
    "    * Proposals 1 and 2\n",
    "* Make sure to vote in down ballot races!\n",
    "    * State, Coounty, City, School District, etc.\n",
    "* Questions about candidates or proposals?\n",
    "    * Check [Ballotpedia](https://ballotpedia.org/Michigan_elections,_2020) or your local paper website (e.g., [Lansing State Journal](https://www.lansingstatejournal.com/))\n",
    "\n",
    "## We will excuse you from class on Nov. 3rd if you are going to vote in person. \n",
    " * **Email Danny, please.**"
   ]
  },
  {
   "cell_type": "markdown",
   "metadata": {
    "slideshow": {
     "slide_type": "slide"
    }
   },
   "source": [
    "## Post Election Listening Spaces\n",
    "\n",
    "**CAPS Post-Election Listening Space** – This CAPS Listening Space is meant to serve MSU students who need a safe space to talk and listen post-election.\n",
    "* **Wednesday, November 4th 12:00-1:00 pm**\n",
    "* Facilitated by Dr. Mark Patishnock, Dr. Lee Wang, and Dan Murphy, MA.\n",
    "* For questions, please contact Dr. Mark Patishnock: [patishn1@msu.edu](mailto:patishn1@msu.edu)\n",
    "* **Registration Link:** [msuhipaa.zoom.us/meeting/register/tJ0vduqrqTwrG9f0LBbgkj_NcE-2hgB3Yz_T](https://msuhipaa.zoom.us/meeting/register/tJ0vduqrqTwrG9f0LBbgkj_NcE-2hgB3Yz_T)\n",
    "\n",
    "**Listening Space for Coping with Racial Concerns and the Election** – This listening space is intended to explore the intersectionality of race in connection to the election. This is a listening space geared towards students of color who are having racial concerns in connection to the election. Undergraduate and Graduate MSU Students welcome.\n",
    "* **Monday, November 9, 2020 at 1:00pm**\n",
    "* Facilitated by Dr. Markie Silverman, Ph.D. & Dr. James Bruce, Ph.D.\n",
    "* Contact facilitator indicated for questions – Dr. Markie Silverman: [silve162@msu.edu](mailto:silve162@msu.edu)\n",
    "* **Register in advance (HIPAA-Compliant Zoom Platform):** [msuhipaa.zoom.us/meeting/register/tJAlf-yqrD4oEtDfgb5PKex8X6Iv5KJ0VUKY](https://msuhipaa.zoom.us/meeting/register/tJAlf-yqrD4oEtDfgb5PKex8X6Iv5KJ0VUKY)"
   ]
  },
  {
   "cell_type": "markdown",
   "metadata": {
    "slideshow": {
     "slide_type": "slide"
    }
   },
   "source": [
    "# Sec 003 Midterm\n",
    "\n",
    "## Classification Problem\n",
    "\n",
    "**In this midterm you will be asked to:**\n",
    "\n",
    "* Read in a data set and describe different properties of it (counts, means, etc.)\n",
    "* Investigate the data for less relevant features and drop them\n",
    "* Visualize feature spaces and discuss the plots\n",
    "* Build a classification model using the train/test paradigm\n",
    "* Evaluate and discuss the fit of model using testing data\n",
    "\n",
    "Nearly everything we have done so far is important for your success on the midterm. But we are focused on classification and modeling with the train/test split on the midterm.\n",
    "\n",
    "**Assignments to definitely study: Day-09, Day-10, Day 11, and Day 11.5**"
   ]
  },
  {
   "cell_type": "markdown",
   "metadata": {
    "slideshow": {
     "slide_type": "slide"
    }
   },
   "source": [
    "# Sec 003 Midterm \n",
    "\n",
    "## Policies\n",
    "\n",
    "* Midterm is open notes, web, prior assignments.\n",
    "* You will not be required to turn on your camera, but keep yourself muted, please.\n",
    "* Private chat will be turned off. You can message instructors.\n",
    "* Download midterm from D2L (get notebook and data files) and start working.\n",
    "* We will have breakout rooms for questions.\n",
    "* You must upload the notebook to D2L by 12:20pm (10 minute window after class).\n",
    "* The midterm has 110 points, but is scored out of 100 points.\n",
    "\n",
    "## Tips\n",
    "* Save your work frequently.\n",
    "* If something isn't working as expected, try a kernel restart.\n",
    "* Upload your notebook to D2L regularly (we will grade the last submission)."
   ]
  },
  {
   "cell_type": "markdown",
   "metadata": {
    "slideshow": {
     "slide_type": "slide"
    }
   },
   "source": [
    "# Questions, Comments, Concerns?"
   ]
  },
  {
   "cell_type": "code",
   "execution_count": null,
   "metadata": {
    "slideshow": {
     "slide_type": "skip"
    }
   },
   "outputs": [],
   "source": []
  }
 ],
 "metadata": {
  "celltoolbar": "Slideshow",
  "kernelspec": {
   "display_name": "Python 3 CMSE",
   "language": "python",
   "name": "python3cmse"
  },
  "language_info": {
   "codemirror_mode": {
    "name": "ipython",
    "version": 3
   },
   "file_extension": ".py",
   "mimetype": "text/x-python",
   "name": "python",
   "nbconvert_exporter": "python",
   "pygments_lexer": "ipython3",
   "version": "3.7.9"
  }
 },
 "nbformat": 4,
 "nbformat_minor": 4
}
