{
 "cells": [
  {
   "cell_type": "markdown",
   "metadata": {
    "slideshow": {
     "slide_type": "slide"
    }
   },
   "source": [
    "# Day 19 Perceptron\n",
    "## Nov. 19, 2020\n",
    "\n",
    "<img src=\"./images/cmse.png\"\n",
    "     alt=\"CMSE logo\"\n",
    "     style=\"float: right; margin-left: 50px; width: 600px;\" />"
   ]
  },
  {
   "cell_type": "markdown",
   "metadata": {
    "slideshow": {
     "slide_type": "slide"
    }
   },
   "source": [
    "# Announcements\n",
    "\n",
    "* **Homework 5** Working with Tensorflow. Due 12/4. This is the last homework assignment!\n",
    "* **Projects** Rubric posted to D2L.\n",
    "    * Due finals week\n",
    "    * 8-10 minute video presentation + documented notebook on your analysis\n",
    "    * 3 In-class work periods for the project"
   ]
  },
  {
   "cell_type": "markdown",
   "metadata": {
    "slideshow": {
     "slide_type": "slide"
    }
   },
   "source": [
    "# Calendar\n",
    "\n",
    "## This week\n",
    "\n",
    "* Thursday: Day 19 Perceptron model\n",
    "\n",
    "## Thanksgiving week\n",
    "* Tuesday 11/24: Project work day 1\n",
    "* Thursday 11/26: No class\n",
    "\n",
    "## Week after Thanksgiving\n",
    "* Tuesday 12/1: Day 20 Neural Networks 1\n",
    "* Thursday 12/3: Day 21 Neural Networks 2\n",
    "\n",
    "## Last week of classes\n",
    "* Tuesday 12/8: Project work day 2\n",
    "* Thursday 12/10: Project work day 3"
   ]
  },
  {
   "cell_type": "markdown",
   "metadata": {
    "slideshow": {
     "slide_type": "slide"
    }
   },
   "source": [
    "# Pre-Class\n",
    "\n",
    "* What is the perceptron model doing?\n",
    "* How do we take the mathematics and make it into code?\n",
    "* How is this different from a neural network?"
   ]
  },
  {
   "cell_type": "markdown",
   "metadata": {
    "slideshow": {
     "slide_type": "slide"
    }
   },
   "source": [
    "# Perceptron (single layer neural network)\n",
    "\n",
    "<img src=\"https://images.deepai.org/glossary-terms/perceptron-6168423.jpg\" width=600px />"
   ]
  },
  {
   "cell_type": "markdown",
   "metadata": {
    "slideshow": {
     "slide_type": "slide"
    }
   },
   "source": [
    "# Neural Network (\"multi layer perceptron\")\n",
    "\n",
    "<img src=\"https://www.researchgate.net/profile/Facundo_Bre/publication/321259051/figure/fig1/AS:614329250496529@1523478915726/Artificial-neural-network-architecture-ANN-i-h-1-h-2-h-n-o.png\" width=600px/>"
   ]
  },
  {
   "cell_type": "markdown",
   "metadata": {
    "slideshow": {
     "slide_type": "slide"
    }
   },
   "source": [
    "# How does a Perceptron model classify points?\n",
    "\n",
    "## 2D example\n",
    "\n",
    "<img src=\"https://lh3.googleusercontent.com/proxy/h3jckagZbmCosZRgs3Kk8C7eGEUwV2Uf8OslP8PVZzoF5AXXYvvO2wII_55QEUgZvAgA8J89Iu1HIR6IixXyG1Rxl0sQ4HsYo4nclL8CBkX6S4X7Jaxr2uMhObhRIa-GKVaETQ2oTHxb\" />\n",
    "\n",
    "* A perceptron model is trying to find a line to seperate the classes\n",
    "* Each point in a 2D space has a location $(x_1, x_2)$; basically `feature_1` and `feature_2`\n",
    "* A line in that space would have the normal form $A + Bx_1 + Cx_2 = 0$ or $x_2 = -\\dfrac{B}{C}x_1 - \\dfrac{A}{C}$\n",
    "* Using an iterative approach, a Perceptron model tries to find $A$, $B$, and $C$."
   ]
  },
  {
   "cell_type": "markdown",
   "metadata": {
    "slideshow": {
     "slide_type": "slide"
    }
   },
   "source": [
    "# One prediction `predict()`\n",
    "\n",
    "The perceptron model iteratively determines $A$, $B$, and $C$ by looking at every point in the data it is trained on.\n",
    "\n",
    "* Take the location of one data point plus a constant (the \"bias\"; e.g., 1) and take the dot product with an initial guess of the weights (e.g., $\\vec{w} = (1,1,1)$).\n",
    "$$ result = \\vec{x} \\cdot \\vec{w} = (x_1, x_2, 1) \\cdot (1,1,1) = x_1 + x_2 + 1$$\n",
    "* If $x_1 = 2$ and $x_2 = 3$, then the $result = (2+3+1) = 6$\n",
    "\n",
    "**Because this is greater than zero, we predict it to be in class 1**\n",
    "\n",
    "`if result > 0:\n",
    "    predict class 1 and return 1; \n",
    " else:\n",
    "    predict class 2 and return -1`\n",
    "\n",
    "For our example, we return 1!\n",
    "\n",
    "But we know the class (because we are using _supervised learning_)!"
   ]
  },
  {
   "cell_type": "markdown",
   "metadata": {
    "slideshow": {
     "slide_type": "slide"
    }
   },
   "source": [
    "# Compare to actual class and update weights\n",
    "\n",
    "* Originally we guessed the weights $\\vec{w} = (1,1,1)$, we can use the misclassifications to update the weights.\n",
    "\n",
    "**Let's assume we were wrong, so the data is actually in class 2.**\n",
    "\n",
    "That update uses this equation:\n",
    "$$ \\vec{w}_{new} = \\vec{w}_{old} + \\eta*d*\\vec{x}$$\n",
    "where $\\eta$ is the learning rate and $d$ = `actual_class_value` - `predicted_class_value` (as long as classes are 1 and -1)"
   ]
  },
  {
   "cell_type": "markdown",
   "metadata": {
    "slideshow": {
     "slide_type": "slide"
    }
   },
   "source": [
    "# Continuing example\n",
    "\n",
    "We predicted class 1 (`class_label`=1), but the data is in class 2 (`class_label`=-1). So the update to the weights is:\n",
    "\n",
    "$$update = \\eta*d*\\vec{x} = \\eta*(-1 - (1))*(2,3,1)$$\n",
    "$$update = \\eta*(-2)*(2,3,1) = (-4,-6,-2)*\\eta$$\n",
    "\n",
    "where we choose $\\eta$, let's take it to be 0.01. So the update is:\n",
    "\n",
    "$$update = (-4,-6,-2)*0.01 = (-0.04, -0.06, -0.02)$$\n",
    "\n",
    "We add this to the guessed weights:\n",
    "\n",
    "$$ \\vec{w}_{new} = \\vec{w}_{old} + update = (1,1,1) + (-0.04, -0.06, -0.02) = (0.96,0.94,0.98)$$"
   ]
  },
  {
   "cell_type": "markdown",
   "metadata": {
    "slideshow": {
     "slide_type": "slide"
    }
   },
   "source": [
    "# What is we guess correctly?\n",
    "\n",
    "In that case, the predicted and known classes are the same, so the update is:\n",
    "\n",
    "$$update = \\eta*d*\\vec{x} = \\eta*(-1 - (-1))*(2,3,1)$$\n",
    "$$update = \\eta*(0)*(2,3,1) = (-4,-6,-2)*\\eta = 0$$\n",
    "\n",
    "And there's no change to the weights because we did ok! \n",
    "\n",
    "This means perceptrons don't find the \"best line\" just a line that separates the data."
   ]
  },
  {
   "cell_type": "markdown",
   "metadata": {
    "slideshow": {
     "slide_type": "slide"
    }
   },
   "source": [
    "# So how do we fit the model? `fit()`\n",
    "\n",
    "`for the number of iterations we choose:\n",
    "    for the data we have:\n",
    "        predict the class\n",
    "        update the weights`"
   ]
  },
  {
   "cell_type": "markdown",
   "metadata": {
    "slideshow": {
     "slide_type": "slide"
    }
   },
   "source": [
    "# Questions, Comments, Concerns?"
   ]
  },
  {
   "cell_type": "code",
   "execution_count": null,
   "metadata": {
    "slideshow": {
     "slide_type": "skip"
    }
   },
   "outputs": [],
   "source": []
  }
 ],
 "metadata": {
  "celltoolbar": "Slideshow",
  "kernelspec": {
   "display_name": "Python 3 CMSE",
   "language": "python",
   "name": "python3cmse"
  },
  "language_info": {
   "codemirror_mode": {
    "name": "ipython",
    "version": 3
   },
   "file_extension": ".py",
   "mimetype": "text/x-python",
   "name": "python",
   "nbconvert_exporter": "python",
   "pygments_lexer": "ipython3",
   "version": "3.7.9"
  }
 },
 "nbformat": 4,
 "nbformat_minor": 4
}
