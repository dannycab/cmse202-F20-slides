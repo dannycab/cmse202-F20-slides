{
 "cells": [
  {
   "cell_type": "markdown",
   "metadata": {
    "slideshow": {
     "slide_type": "slide"
    }
   },
   "source": [
    "# Day 04 - Working with `datetime`\n",
    "## Sept. 17, 2020\n",
    "\n",
    "<img src=\"./images/cmse.png\"\n",
    "     alt=\"CMSE logo\"\n",
    "     style=\"float: right; margin-left: 50px; width: 600px;\" />"
   ]
  },
  {
   "cell_type": "markdown",
   "metadata": {
    "slideshow": {
     "slide_type": "slide"
    }
   },
   "source": [
    "# Administrative\n",
    "\n",
    "* **Getting help**:\n",
    "    * Y'all are making good use of office hours and Slack\n",
    "    * Office hours are posted on the GR site and D2L\n",
    "* **Individual check-ins**:\n",
    "    * Danny will be sending each person an email to check in on how they are doing with online classes and asking for feedback.\n",
    "* **Group work**:\n",
    "    * In some groups, not everyone is moving through the activity at the same pace. \n",
    "    * Make sure to check in with everyone on where they are and share screens to help each other stay together.\n",
    "    * Remember: You do not have to complete tehe whole assignment to get credit.\n",
    "* **Extra breakout rooms**:\n",
    "    * We are going to open 4 additional breakout rooms for one-on-one meetings as needed.\n",
    "\n",
    "\n",
    "## Any questions?"
   ]
  },
  {
   "cell_type": "markdown",
   "metadata": {
    "slideshow": {
     "slide_type": "slide"
    }
   },
   "source": [
    "# From Pre-Class Assignment\n",
    "\n",
    "## Challenging bits\n",
    "\n",
    "* Reading the sunspots file\n",
    "* Knowing what to do with the date information (instructions were unclear for some)\n",
    "* Converting the date information to `datetime`\n",
    "* Using `.assign()`\n",
    "\n",
    "**You will get more practice with this today.**"
   ]
  },
  {
   "cell_type": "code",
   "execution_count": 1,
   "metadata": {
    "slideshow": {
     "slide_type": "slide"
    }
   },
   "outputs": [
    {
     "name": "stdout",
     "output_type": "stream",
     "text": [
      "Danny's Birthday is:\n",
      " 5 / 1 / 1982\n",
      "<class 'int'>\n"
     ]
    }
   ],
   "source": [
    "import datetime\n",
    "\n",
    "# We can store date information as integers \n",
    "birthyear = 1982\n",
    "birthmonth = 5\n",
    "birthday = 1\n",
    "\n",
    "print('Danny\\'s Birthday is:\\n', birthmonth, '/', birthday, '/', birthyear)\n",
    "print(type(birthyear))"
   ]
  },
  {
   "cell_type": "code",
   "execution_count": 2,
   "metadata": {
    "slideshow": {
     "slide_type": "slide"
    }
   },
   "outputs": [
    {
     "name": "stdout",
     "output_type": "stream",
     "text": [
      "2020-09-17 09:24:40.438286\n",
      "1982-05-01 00:00:00\n"
     ]
    }
   ],
   "source": [
    "# That is less useful for doing math with dates\n",
    "# For example, how old am i?\n",
    "\n",
    "today = datetime.datetime.now()\n",
    "print(today)\n",
    "\n",
    "# We can convert information to datetime\n",
    "birthdate = datetime.datetime(year = birthyear, month = birthmonth, day = birthday)\n",
    "print(birthdate)"
   ]
  },
  {
   "cell_type": "code",
   "execution_count": 3,
   "metadata": {
    "slideshow": {
     "slide_type": "slide"
    }
   },
   "outputs": [
    {
     "name": "stdout",
     "output_type": "stream",
     "text": [
      "Age:  14019 days, 9:24:40.438286\n",
      "<class 'datetime.datetime'>\n",
      "<class 'datetime.timedelta'>\n"
     ]
    }
   ],
   "source": [
    "# datetime objects can have math done on them\n",
    "age = today - birthdate\n",
    "print('Age: ', age)\n",
    "\n",
    "# Notice that the types are different\n",
    "print(type(today))\n",
    "print(type(age))"
   ]
  },
  {
   "cell_type": "code",
   "execution_count": 4,
   "metadata": {
    "slideshow": {
     "slide_type": "slide"
    }
   },
   "outputs": [
    {
     "name": "stdout",
     "output_type": "stream",
     "text": [
      "year             int64\n",
      "month            int64\n",
      "day              int64\n",
      "date           float64\n",
      "count            int64\n",
      "std            float64\n",
      "obs              int64\n",
      "provisional     object\n",
      "dtype: object\n"
     ]
    }
   ],
   "source": [
    "# What about working with data?\n",
    "\n",
    "import pandas as pd\n",
    "\n",
    "column_names = [\"year\", \n",
    "                \"month\", \n",
    "                \"day\", \n",
    "                \"date\", \n",
    "                \"count\", \n",
    "                \"std\", \n",
    "                \"obs\", \n",
    "                \"provisional\"]\n",
    "\n",
    "# Read in the date file and specify columns\n",
    "df = pd.read_csv('data/sunspots.txt', delim_whitespace = True, names = column_names)\n",
    "\n",
    "# Type for each column\n",
    "print(df.dtypes)"
   ]
  },
  {
   "cell_type": "code",
   "execution_count": 5,
   "metadata": {
    "slideshow": {
     "slide_type": "slide"
    }
   },
   "outputs": [
    {
     "data": {
      "text/html": [
       "<div>\n",
       "<style scoped>\n",
       "    .dataframe tbody tr th:only-of-type {\n",
       "        vertical-align: middle;\n",
       "    }\n",
       "\n",
       "    .dataframe tbody tr th {\n",
       "        vertical-align: top;\n",
       "    }\n",
       "\n",
       "    .dataframe thead th {\n",
       "        text-align: right;\n",
       "    }\n",
       "</style>\n",
       "<table border=\"1\" class=\"dataframe\">\n",
       "  <thead>\n",
       "    <tr style=\"text-align: right;\">\n",
       "      <th></th>\n",
       "      <th>year</th>\n",
       "      <th>month</th>\n",
       "      <th>day</th>\n",
       "      <th>date</th>\n",
       "      <th>count</th>\n",
       "      <th>std</th>\n",
       "      <th>obs</th>\n",
       "      <th>provisional</th>\n",
       "    </tr>\n",
       "  </thead>\n",
       "  <tbody>\n",
       "    <tr>\n",
       "      <th>0</th>\n",
       "      <td>1981</td>\n",
       "      <td>1</td>\n",
       "      <td>1</td>\n",
       "      <td>1981.001</td>\n",
       "      <td>218</td>\n",
       "      <td>12.4</td>\n",
       "      <td>9</td>\n",
       "      <td>NaN</td>\n",
       "    </tr>\n",
       "    <tr>\n",
       "      <th>1</th>\n",
       "      <td>1981</td>\n",
       "      <td>1</td>\n",
       "      <td>2</td>\n",
       "      <td>1981.004</td>\n",
       "      <td>194</td>\n",
       "      <td>14.7</td>\n",
       "      <td>7</td>\n",
       "      <td>NaN</td>\n",
       "    </tr>\n",
       "    <tr>\n",
       "      <th>2</th>\n",
       "      <td>1981</td>\n",
       "      <td>1</td>\n",
       "      <td>3</td>\n",
       "      <td>1981.007</td>\n",
       "      <td>168</td>\n",
       "      <td>10.8</td>\n",
       "      <td>7</td>\n",
       "      <td>NaN</td>\n",
       "    </tr>\n",
       "    <tr>\n",
       "      <th>3</th>\n",
       "      <td>1981</td>\n",
       "      <td>1</td>\n",
       "      <td>4</td>\n",
       "      <td>1981.010</td>\n",
       "      <td>155</td>\n",
       "      <td>9.1</td>\n",
       "      <td>11</td>\n",
       "      <td>NaN</td>\n",
       "    </tr>\n",
       "    <tr>\n",
       "      <th>4</th>\n",
       "      <td>1981</td>\n",
       "      <td>1</td>\n",
       "      <td>5</td>\n",
       "      <td>1981.012</td>\n",
       "      <td>129</td>\n",
       "      <td>6.2</td>\n",
       "      <td>9</td>\n",
       "      <td>NaN</td>\n",
       "    </tr>\n",
       "  </tbody>\n",
       "</table>\n",
       "</div>"
      ],
      "text/plain": [
       "   year  month  day      date  count   std  obs provisional\n",
       "0  1981      1    1  1981.001    218  12.4    9         NaN\n",
       "1  1981      1    2  1981.004    194  14.7    7         NaN\n",
       "2  1981      1    3  1981.007    168  10.8    7         NaN\n",
       "3  1981      1    4  1981.010    155   9.1   11         NaN\n",
       "4  1981      1    5  1981.012    129   6.2    9         NaN"
      ]
     },
     "execution_count": 5,
     "metadata": {},
     "output_type": "execute_result"
    }
   ],
   "source": [
    "# Let's look at the DataFrame\n",
    "df.head()"
   ]
  },
  {
   "cell_type": "code",
   "execution_count": 6,
   "metadata": {
    "slideshow": {
     "slide_type": "slide"
    }
   },
   "outputs": [
    {
     "data": {
      "text/html": [
       "<div>\n",
       "<style scoped>\n",
       "    .dataframe tbody tr th:only-of-type {\n",
       "        vertical-align: middle;\n",
       "    }\n",
       "\n",
       "    .dataframe tbody tr th {\n",
       "        vertical-align: top;\n",
       "    }\n",
       "\n",
       "    .dataframe thead th {\n",
       "        text-align: right;\n",
       "    }\n",
       "</style>\n",
       "<table border=\"1\" class=\"dataframe\">\n",
       "  <thead>\n",
       "    <tr style=\"text-align: right;\">\n",
       "      <th></th>\n",
       "      <th>year</th>\n",
       "      <th>month</th>\n",
       "      <th>day</th>\n",
       "    </tr>\n",
       "  </thead>\n",
       "  <tbody>\n",
       "    <tr>\n",
       "      <th>0</th>\n",
       "      <td>1981</td>\n",
       "      <td>1</td>\n",
       "      <td>1</td>\n",
       "    </tr>\n",
       "    <tr>\n",
       "      <th>1</th>\n",
       "      <td>1981</td>\n",
       "      <td>1</td>\n",
       "      <td>2</td>\n",
       "    </tr>\n",
       "    <tr>\n",
       "      <th>2</th>\n",
       "      <td>1981</td>\n",
       "      <td>1</td>\n",
       "      <td>3</td>\n",
       "    </tr>\n",
       "    <tr>\n",
       "      <th>3</th>\n",
       "      <td>1981</td>\n",
       "      <td>1</td>\n",
       "      <td>4</td>\n",
       "    </tr>\n",
       "    <tr>\n",
       "      <th>4</th>\n",
       "      <td>1981</td>\n",
       "      <td>1</td>\n",
       "      <td>5</td>\n",
       "    </tr>\n",
       "  </tbody>\n",
       "</table>\n",
       "</div>"
      ],
      "text/plain": [
       "   year  month  day\n",
       "0  1981      1    1\n",
       "1  1981      1    2\n",
       "2  1981      1    3\n",
       "3  1981      1    4\n",
       "4  1981      1    5"
      ]
     },
     "execution_count": 6,
     "metadata": {},
     "output_type": "execute_result"
    }
   ],
   "source": [
    "# We want year, month, and day to be put together into a datetime Series\n",
    "# pandas has a tool for that called .to_datetime()\n",
    "\n",
    "# We can first create a DataFrame with just this information\n",
    "date_info = df[[\"year\", \"month\", \"day\"]]\n",
    "date_info.head()"
   ]
  },
  {
   "cell_type": "code",
   "execution_count": 7,
   "metadata": {
    "slideshow": {
     "slide_type": "slide"
    }
   },
   "outputs": [
    {
     "data": {
      "text/plain": [
       "0   1981-01-01\n",
       "1   1981-01-02\n",
       "2   1981-01-03\n",
       "3   1981-01-04\n",
       "4   1981-01-05\n",
       "dtype: datetime64[ns]"
      ]
     },
     "execution_count": 7,
     "metadata": {},
     "output_type": "execute_result"
    }
   ],
   "source": [
    "# Then convert the date_info DataFrame into a datetime Series using .to_datetime()\n",
    "# Notice the order of the columns in date_info matches the format ordering\n",
    "df_date = pd.to_datetime(date_info, format = '%Y %m %d')\n",
    "df_date.head()"
   ]
  },
  {
   "cell_type": "code",
   "execution_count": 8,
   "metadata": {
    "slideshow": {
     "slide_type": "slide"
    }
   },
   "outputs": [
    {
     "data": {
      "text/html": [
       "<div>\n",
       "<style scoped>\n",
       "    .dataframe tbody tr th:only-of-type {\n",
       "        vertical-align: middle;\n",
       "    }\n",
       "\n",
       "    .dataframe tbody tr th {\n",
       "        vertical-align: top;\n",
       "    }\n",
       "\n",
       "    .dataframe thead th {\n",
       "        text-align: right;\n",
       "    }\n",
       "</style>\n",
       "<table border=\"1\" class=\"dataframe\">\n",
       "  <thead>\n",
       "    <tr style=\"text-align: right;\">\n",
       "      <th></th>\n",
       "      <th>count</th>\n",
       "      <th>std</th>\n",
       "      <th>obs</th>\n",
       "      <th>provisional</th>\n",
       "      <th>datetime</th>\n",
       "    </tr>\n",
       "  </thead>\n",
       "  <tbody>\n",
       "    <tr>\n",
       "      <th>0</th>\n",
       "      <td>218</td>\n",
       "      <td>12.4</td>\n",
       "      <td>9</td>\n",
       "      <td>NaN</td>\n",
       "      <td>1981-01-01</td>\n",
       "    </tr>\n",
       "    <tr>\n",
       "      <th>1</th>\n",
       "      <td>194</td>\n",
       "      <td>14.7</td>\n",
       "      <td>7</td>\n",
       "      <td>NaN</td>\n",
       "      <td>1981-01-02</td>\n",
       "    </tr>\n",
       "    <tr>\n",
       "      <th>2</th>\n",
       "      <td>168</td>\n",
       "      <td>10.8</td>\n",
       "      <td>7</td>\n",
       "      <td>NaN</td>\n",
       "      <td>1981-01-03</td>\n",
       "    </tr>\n",
       "    <tr>\n",
       "      <th>3</th>\n",
       "      <td>155</td>\n",
       "      <td>9.1</td>\n",
       "      <td>11</td>\n",
       "      <td>NaN</td>\n",
       "      <td>1981-01-04</td>\n",
       "    </tr>\n",
       "    <tr>\n",
       "      <th>4</th>\n",
       "      <td>129</td>\n",
       "      <td>6.2</td>\n",
       "      <td>9</td>\n",
       "      <td>NaN</td>\n",
       "      <td>1981-01-05</td>\n",
       "    </tr>\n",
       "  </tbody>\n",
       "</table>\n",
       "</div>"
      ],
      "text/plain": [
       "   count   std  obs provisional   datetime\n",
       "0    218  12.4    9         NaN 1981-01-01\n",
       "1    194  14.7    7         NaN 1981-01-02\n",
       "2    168  10.8    7         NaN 1981-01-03\n",
       "3    155   9.1   11         NaN 1981-01-04\n",
       "4    129   6.2    9         NaN 1981-01-05"
      ]
     },
     "execution_count": 8,
     "metadata": {},
     "output_type": "execute_result"
    }
   ],
   "source": [
    "# Finally we need to assign the new series and drop the old columns\n",
    "\n",
    "# assign() will create a new column with the series you pass it\n",
    "# it must be returned to a variable or the assignment is temporary\n",
    "df.assign(datetime = df_date)      # doesn't store the result!\n",
    "df = df.assign(datetime = df_date) # stores the result!\n",
    "\n",
    "# drop() will drop columns from a DataFrame\n",
    "# again, it must be turned to a variable\n",
    "dropped_columns = [\"year\", \"month\", \"day\", \"date\"]\n",
    "df = df.drop(columns = dropped_columns)\n",
    "df.head()"
   ]
  },
  {
   "cell_type": "markdown",
   "metadata": {
    "slideshow": {
     "slide_type": "slide"
    }
   },
   "source": [
    "# Questions, Comments, Concerns?"
   ]
  },
  {
   "cell_type": "code",
   "execution_count": null,
   "metadata": {
    "slideshow": {
     "slide_type": "skip"
    }
   },
   "outputs": [],
   "source": []
  }
 ],
 "metadata": {
  "celltoolbar": "Slideshow",
  "kernelspec": {
   "display_name": "Python 3 CMSE",
   "language": "python",
   "name": "python3cmse"
  },
  "language_info": {
   "codemirror_mode": {
    "name": "ipython",
    "version": 3
   },
   "file_extension": ".py",
   "mimetype": "text/x-python",
   "name": "python",
   "nbconvert_exporter": "python",
   "pygments_lexer": "ipython3",
   "version": "3.7.9"
  }
 },
 "nbformat": 4,
 "nbformat_minor": 4
}
